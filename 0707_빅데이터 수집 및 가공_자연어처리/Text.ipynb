{
 "cells": [
  {
   "cell_type": "markdown",
   "metadata": {},
   "source": [
    "### 텍스트마이닝"
   ]
  },
  {
   "cell_type": "markdown",
   "metadata": {},
   "source": [
    "#### 토큰화"
   ]
  },
  {
   "cell_type": "markdown",
   "metadata": {
    "scrolled": false
   },
   "source": [
    "- \"Don't be fooled by the dark sounding name, Mr. Jone's Orphanage is as cheery as cheery goes for a pastry shop.\"  "
   ]
  },
  {
   "cell_type": "code",
   "execution_count": 5,
   "metadata": {},
   "outputs": [
    {
     "name": "stderr",
     "output_type": "stream",
     "text": [
      "[nltk_data] Downloading package punkt to\n",
      "[nltk_data]     C:\\Users\\rkwjs\\AppData\\Roaming\\nltk_data...\n",
      "[nltk_data]   Unzipping tokenizers\\punkt.zip.\n"
     ]
    },
    {
     "data": {
      "text/plain": [
       "True"
      ]
     },
     "execution_count": 5,
     "metadata": {},
     "output_type": "execute_result"
    }
   ],
   "source": [
    "nltk.download('punkt')"
   ]
  },
  {
   "cell_type": "code",
   "execution_count": 6,
   "metadata": {},
   "outputs": [
    {
     "name": "stdout",
     "output_type": "stream",
     "text": [
      "['Do', \"n't\", 'be', 'fooled', 'by', 'the', 'dark', 'sounding', 'name', ',', 'Mr.', 'Jone', \"'s\", 'Orphanage', 'is', 'as', 'cheery', 'as', 'cheery', 'goes', 'for', 'a', 'pastry', 'shop', '.']\n"
     ]
    }
   ],
   "source": [
    "import nltk\n",
    "from nltk.tokenize import word_tokenize\n",
    "\n",
    "print(word_tokenize(\"Don't be fooled by the dark sounding name, Mr. Jone's Orphanage is as cheery as cheery goes for a pastry shop.\"))"
   ]
  },
  {
   "cell_type": "code",
   "execution_count": 9,
   "metadata": {},
   "outputs": [
    {
     "data": {
      "text/plain": [
       "['Don',\n",
       " \"'\",\n",
       " 't',\n",
       " 'be',\n",
       " 'fooled',\n",
       " 'by',\n",
       " 'the',\n",
       " 'dark',\n",
       " 'sounding',\n",
       " 'name',\n",
       " ',',\n",
       " 'Mr',\n",
       " '.',\n",
       " 'Jone',\n",
       " \"'\",\n",
       " 's',\n",
       " 'Orphanage',\n",
       " 'is',\n",
       " 'as',\n",
       " 'cheery',\n",
       " 'as',\n",
       " 'cheery',\n",
       " 'goes',\n",
       " 'for',\n",
       " 'a',\n",
       " 'pastry',\n",
       " 'shop',\n",
       " '.']"
      ]
     },
     "execution_count": 9,
     "metadata": {},
     "output_type": "execute_result"
    }
   ],
   "source": [
    "from nltk.tokenize import WordPunctTokenizer\n",
    "#구두점  별도로 표시 \n",
    "\n",
    "WordPunctTokenizer().tokenize(\"Don't be fooled by the dark sounding name, Mr. Jone's Orphanage is as cheery as cheery goes for a pastry shop.\")"
   ]
  },
  {
   "cell_type": "markdown",
   "metadata": {},
   "source": [
    "- \"Starting a home-based restaurant may be an ideal. it doesn't have a food chain or restaurant of their own.\""
   ]
  },
  {
   "cell_type": "code",
   "execution_count": 10,
   "metadata": {},
   "outputs": [
    {
     "data": {
      "text/plain": [
       "['Starting',\n",
       " 'a',\n",
       " 'home-based',\n",
       " 'restaurant',\n",
       " 'may',\n",
       " 'be',\n",
       " 'an',\n",
       " 'ideal.',\n",
       " 'it',\n",
       " 'does',\n",
       " \"n't\",\n",
       " 'have',\n",
       " 'a',\n",
       " 'food',\n",
       " 'chain',\n",
       " 'or',\n",
       " 'restaurant',\n",
       " 'of',\n",
       " 'their',\n",
       " 'own',\n",
       " '.']"
      ]
     },
     "execution_count": 10,
     "metadata": {},
     "output_type": "execute_result"
    }
   ],
   "source": [
    "import nltk\n",
    "from nltk.tokenize import TreebankWordTokenizer\n",
    "tokenizer = TreebankWordTokenizer()\n",
    "\n",
    "\n",
    "text = \"Starting a home-based restaurant may be an ideal. it doesn't have a food chain or restaurant of their own.\"\n",
    "tokenizer.tokenize(text)"
   ]
  },
  {
   "cell_type": "markdown",
   "metadata": {},
   "source": [
    "- \"I am actively looking for Ph.D. students. and you are a Ph.D. student.\""
   ]
  },
  {
   "cell_type": "code",
   "execution_count": 12,
   "metadata": {},
   "outputs": [
    {
     "name": "stdout",
     "output_type": "stream",
     "text": [
      "['I', 'am', 'actively', 'looking', 'for', 'Ph.D.', 'students', '.', 'and', 'you', 'are', 'a', 'Ph.D.', 'student', '.']\n"
     ]
    }
   ],
   "source": [
    "import nltk\n",
    "from nltk.tokenize import word_tokenize\n",
    "\n",
    "text = \"I am actively looking for Ph.D. students. and you are a Ph.D. student.\"\n",
    "print(word_tokenize(text))"
   ]
  },
  {
   "cell_type": "code",
   "execution_count": 14,
   "metadata": {},
   "outputs": [
    {
     "name": "stderr",
     "output_type": "stream",
     "text": [
      "[nltk_data] Downloading package averaged_perceptron_tagger to\n",
      "[nltk_data]     C:\\Users\\rkwjs\\AppData\\Roaming\\nltk_data...\n",
      "[nltk_data]   Unzipping taggers\\averaged_perceptron_tagger.zip.\n"
     ]
    },
    {
     "data": {
      "text/plain": [
       "True"
      ]
     },
     "execution_count": 14,
     "metadata": {},
     "output_type": "execute_result"
    }
   ],
   "source": [
    "nltk.download('averaged_perceptron_tagger')"
   ]
  },
  {
   "cell_type": "code",
   "execution_count": 15,
   "metadata": {},
   "outputs": [
    {
     "data": {
      "text/plain": [
       "[('I', 'PRP'),\n",
       " ('am', 'VBP'),\n",
       " ('actively', 'RB'),\n",
       " ('looking', 'VBG'),\n",
       " ('for', 'IN'),\n",
       " ('Ph.D.', 'NNP'),\n",
       " ('students', 'NNS'),\n",
       " ('.', '.'),\n",
       " ('and', 'CC'),\n",
       " ('you', 'PRP'),\n",
       " ('are', 'VBP'),\n",
       " ('a', 'DT'),\n",
       " ('Ph.D.', 'NNP'),\n",
       " ('student', 'NN'),\n",
       " ('.', '.')]"
      ]
     },
     "execution_count": 15,
     "metadata": {},
     "output_type": "execute_result"
    }
   ],
   "source": [
    "from nltk.tag import pos_tag\n",
    "x = word_tokenize(text)\n",
    "pos_tag(x)"
   ]
  },
  {
   "cell_type": "markdown",
   "metadata": {},
   "source": [
    "- \"이 여름 다시 한번 설레고 싶다, 그 여름을 틀어줘. 싹쓰리\""
   ]
  },
  {
   "cell_type": "code",
   "execution_count": 17,
   "metadata": {},
   "outputs": [
    {
     "data": {
      "text/plain": [
       "'3.8.8 (default, Apr 13 2021, 15:08:03) [MSC v.1916 64 bit (AMD64)]'"
      ]
     },
     "execution_count": 17,
     "metadata": {},
     "output_type": "execute_result"
    }
   ],
   "source": [
    "import sys\n",
    "sys.version"
   ]
  },
  {
   "cell_type": "code",
   "execution_count": 19,
   "metadata": {},
   "outputs": [
    {
     "name": "stdout",
     "output_type": "stream",
     "text": [
      "Processing c:\\users\\rkwjs\\google 드라이브\\0. 숙명여자대학교\\13. 데이터 청년 캠퍼스\\ii. 빅데이터 수집 및 가공_자연어처리_업로드\\실습데이터\\jupyter notebook_실습용\\jpype1-1.1.2-cp38-cp38-win_amd64.whlNote: you may need to restart the kernel to use updated packages.\n",
      "\n",
      "JPype1 is already installed with the same version as the provided wheel. Use --force-reinstall to force an installation of the wheel.\n"
     ]
    }
   ],
   "source": [
    "pip install JPype1-1.1.2-cp38-cp38-win_amd64.whl"
   ]
  },
  {
   "cell_type": "code",
   "execution_count": 26,
   "metadata": {},
   "outputs": [
    {
     "name": "stdout",
     "output_type": "stream",
     "text": [
      "Collecting konlpy\n",
      "  Using cached konlpy-0.5.2-py2.py3-none-any.whl (19.4 MB)\n",
      "Requirement already satisfied: tweepy>=3.7.0 in c:\\programdata\\anaconda3\\lib\\site-packages (from konlpy) (3.10.0)\n",
      "Requirement already satisfied: lxml>=4.1.0 in c:\\programdata\\anaconda3\\lib\\site-packages (from konlpy) (4.6.3)\n",
      "Requirement already satisfied: colorama in c:\\programdata\\anaconda3\\lib\\site-packages (from konlpy) (0.4.4)\n",
      "Requirement already satisfied: numpy>=1.6 in c:\\programdata\\anaconda3\\lib\\site-packages (from konlpy) (1.20.1)\n",
      "Collecting beautifulsoup4==4.6.0\n",
      "  Using cached beautifulsoup4-4.6.0-py3-none-any.whl (86 kB)\n",
      "Requirement already satisfied: JPype1>=0.7.0 in c:\\programdata\\anaconda3\\lib\\site-packages (from konlpy) (1.1.2)\n",
      "Requirement already satisfied: requests-oauthlib>=0.7.0 in c:\\programdata\\anaconda3\\lib\\site-packages (from tweepy>=3.7.0->konlpy) (1.3.0)\n",
      "Requirement already satisfied: requests[socks]>=2.11.1 in c:\\programdata\\anaconda3\\lib\\site-packages (from tweepy>=3.7.0->konlpy) (2.25.1)\n",
      "Requirement already satisfied: six>=1.10.0 in c:\\programdata\\anaconda3\\lib\\site-packages (from tweepy>=3.7.0->konlpy) (1.15.0)\n",
      "Requirement already satisfied: oauthlib>=3.0.0 in c:\\programdata\\anaconda3\\lib\\site-packages (from requests-oauthlib>=0.7.0->tweepy>=3.7.0->konlpy) (3.1.1)\n",
      "Requirement already satisfied: idna<3,>=2.5 in c:\\programdata\\anaconda3\\lib\\site-packages (from requests[socks]>=2.11.1->tweepy>=3.7.0->konlpy) (2.10)\n",
      "Requirement already satisfied: chardet<5,>=3.0.2 in c:\\programdata\\anaconda3\\lib\\site-packages (from requests[socks]>=2.11.1->tweepy>=3.7.0->konlpy) (4.0.0)\n",
      "Requirement already satisfied: urllib3<1.27,>=1.21.1 in c:\\programdata\\anaconda3\\lib\\site-packages (from requests[socks]>=2.11.1->tweepy>=3.7.0->konlpy) (1.26.4)\n",
      "Requirement already satisfied: certifi>=2017.4.17 in c:\\programdata\\anaconda3\\lib\\site-packages (from requests[socks]>=2.11.1->tweepy>=3.7.0->konlpy) (2020.12.5)\n",
      "Requirement already satisfied: PySocks!=1.5.7,>=1.5.6 in c:\\programdata\\anaconda3\\lib\\site-packages (from requests[socks]>=2.11.1->tweepy>=3.7.0->konlpy) (1.7.1)\n",
      "Installing collected packages: beautifulsoup4, konlpy\n",
      "  Attempting uninstall: beautifulsoup4\n",
      "    Found existing installation: beautifulsoup4 4.9.3\n",
      "    Uninstalling beautifulsoup4-4.9.3:\n",
      "Note: you may need to restart the kernel to use updated packages.\n"
     ]
    },
    {
     "name": "stderr",
     "output_type": "stream",
     "text": [
      "ERROR: Could not install packages due to an OSError: [WinError 5] 액세스가 거부되었습니다: 'c:\\\\programdata\\\\anaconda3\\\\lib\\\\site-packages\\\\beautifulsoup4-4.9.3.dist-info\\\\COPYING.txt'\n",
      "Consider using the `--user` option or check the permissions.\n",
      "\n"
     ]
    }
   ],
   "source": [
    "pip install konlpy"
   ]
  },
  {
   "cell_type": "code",
   "execution_count": 35,
   "metadata": {},
   "outputs": [
    {
     "name": "stdout",
     "output_type": "stream",
     "text": [
      "['이', '여름', '다시', '한번', '설레고', '싶다', ',', '그', '여름', '을', '틀어줘', '.', '싹', '쓰리']\n",
      "========================\n",
      "[('이', 'Noun'), ('여름', 'Noun'), ('다시', 'Noun'), ('한번', 'Noun'), ('설레고', 'Adjective'), ('싶다', 'Verb'), (',', 'Punctuation'), ('그', 'Noun'), ('여름', 'Noun'), ('을', 'Josa'), ('틀어줘', 'Verb'), ('.', 'Punctuation'), ('싹', 'Noun'), ('쓰리', 'Adjective')]\n",
      "========================\n",
      "['이', '여름', '다시', '한번', '그', '여름', '싹']\n"
     ]
    }
   ],
   "source": [
    "import konlpy\n",
    "from konlpy.tag import Okt\n",
    "okt = Okt()\n",
    "\n",
    "print(okt.morphs(\"이 여름 다시 한번 설레고 싶다, 그 여름을 틀어줘. 싹쓰리\")) #형태소 추출\n",
    "print(\"========================\")\n",
    "print(okt.pos(\"이 여름 다시 한번 설레고 싶다, 그 여름을 틀어줘. 싹쓰리\")) #품사 태깅\n",
    "print(\"========================\")\n",
    "print(okt.nouns(\"이 여름 다시 한번 설레고 싶다, 그 여름을 틀어줘. 싹쓰리\")) #품사 태깅"
   ]
  },
  {
   "cell_type": "code",
   "execution_count": 36,
   "metadata": {},
   "outputs": [
    {
     "name": "stdout",
     "output_type": "stream",
     "text": [
      "['이', '여름', '다시', '한번', '설레', '고', '싶', '다', ',', '그', '여름', '을', '틀', '어', '주', '어', '.', '싹쓰', '이', '리']\n",
      "========================\n",
      "[('이', 'M'), ('여름', 'N'), ('다시', 'M'), ('한번', 'N'), ('설레', 'P'), ('고', 'E'), ('싶', 'P'), ('다', 'E'), (',', 'S'), ('그', 'M'), ('여름', 'N'), ('을', 'J'), ('틀', 'P'), ('어', 'E'), ('주', 'P'), ('어', 'E'), ('.', 'S'), ('싹쓰', 'N'), ('이', 'J'), ('리', 'E')]\n",
      "========================\n",
      "['여름', '한번', '여름', '싹쓰']\n",
      "========================\n"
     ]
    }
   ],
   "source": [
    "import konlpy\n",
    "from konlpy.tag import Hannanum\n",
    "han = Hannanum()\n",
    "\n",
    "print(han.morphs(\"이 여름 다시 한번 설레고 싶다, 그 여름을 틀어줘. 싹쓰리\"))\n",
    "print(\"========================\")\n",
    "print(han.pos(\"이 여름 다시 한번 설레고 싶다, 그 여름을 틀어줘. 싹쓰리\"))\n",
    "print(\"========================\")\n",
    "print(han.nouns(\"이 여름 다시 한번 설레고 싶다, 그 여름을 틀어줘. 싹쓰리\"))\n",
    "print(\"========================\")"
   ]
  },
  {
   "cell_type": "code",
   "execution_count": 37,
   "metadata": {},
   "outputs": [
    {
     "name": "stdout",
     "output_type": "stream",
     "text": [
      "분석할 텍스트를 입력하세요:이 여름 다시 한번 설레고 싶다 그때 그 여름을 틀어줘 그 여름을 들려줘 이 여름도 언젠가는 그해 여름 오늘이 가장 젊은 내 여름\n",
      "이\tM\n",
      "여름\tN\n",
      "다시\tM\n",
      "한번\tN\n",
      "설레\tP\n",
      "어\tE\n",
      "고\tJ\n",
      "싶\tP\n",
      "다\tE\n",
      "그때\tN\n",
      "그\tM\n",
      "여름\tN\n",
      "을\tJ\n",
      "틀\tP\n",
      "어\tE\n",
      "주\tP\n",
      "어\tE\n",
      "그\tM\n",
      "여름\tN\n",
      "을\tJ\n",
      "들리\tP\n",
      "어\tE\n",
      "주\tP\n",
      "어\tE\n",
      "이\tM\n",
      "여름\tN\n",
      "도\tJ\n",
      "언젠가\tM\n",
      "는\tJ\n",
      "그해\tN\n",
      "여름\tN\n",
      "오늘\tN\n",
      "이\tJ\n",
      "가장\tM\n",
      "젊\tP\n",
      "은\tE\n",
      "내\tN\n",
      "여름\tN\n"
     ]
    }
   ],
   "source": [
    "import konlpy \n",
    "from konlpy.tag import Hannanum\n",
    "han = Hannanum()\n",
    "text =input(\"분석할 텍스트를 입력하세요:\")\n",
    "result = han.pos(text)\n",
    "\n",
    "for lex,pos in result : \n",
    "    print(\"{}\\t{}\".format(lex,pos))"
   ]
  },
  {
   "cell_type": "markdown",
   "metadata": {},
   "source": [
    "#### konlpy 형태소 분석기 성능비교"
   ]
  },
  {
   "cell_type": "markdown",
   "metadata": {},
   "source": [
    "- text = \"아버지가방에들어가신다\""
   ]
  },
  {
   "cell_type": "markdown",
   "metadata": {},
   "source": [
    "- text2 = \"ㄱㅐㄴㅏ리가 피어있는 동산에 누워있고싶ㄷㅏ\""
   ]
  },
  {
   "cell_type": "markdown",
   "metadata": {},
   "source": [
    "- text3 = \"\"\"5G 이동통신망을 빌려 사용하는 ‘5G 알뜰폰’이 올해 도입되고, 내년부터는 의무화된다.\n",
    "정부는 알뜰폰 사업자(MNVO)가 통신사(MNO)에 통신망을 빌리는 비용(도매대가)을 지난해보다 큰 폭으로 낮춰, 알뜰폰 요금 인하를 유도하기로 했다. 하지만 줄어드는 알뜰폰 시장을 살릴 수 있을지는 지켜봐야 하는 상황이다.\n",
    "과학기술정보통신부는 알뜰폰 활성화 추진대책을 25일 발표했다. 알뜰폰 가입자는 800만명으로 이동통신 시장의 12%를 차지한다. 2011년 출시 뒤 저렴한 요금제로 통신비 부담을 낮춰왔다. 하지만 지난해 5월 통신 3사가 준보편제 요금을 내놓은 이후 알뜰폰 이탈 현상이 지속되고 있다.\n",
    "우선 올해 안에 3개 이상의 5G 알뜰폰이 시장에 나온다. 통신사가 5G망을 알뜰폰 사업자에게 도매 제공할지 여부는 통신사 자율로 정한다. 앞서 LG유플러스는 오는 10월 알뜰폰 사업을 시작하는 KB국민은행에 5G망을 제공한다고 밝힌 바 있다. SK텔레콤와 KT도 특정 제휴사를 선택해 올해 안에 5G 알뜰폰을 내놓기로 했다.\n",
    "내년부터는 5G 알뜰폰 제공이 의무화된다. 지난 22일자로 종료된 도매제공 의무제도의 유효기간을 2022년 9월22일까지 연장하는 전기통신사업법 개정안이 국회에서 통과되면, 관련 고시를 개정해 SK텔레콤의 5G망 도매제공을 의무화하겠다는 것이다.\n",
    "과기정통부 관계자는 “SK텔레콤이 자사와 계약을 맺은 13개 알뜰폰 사업자에게 5G망을 의무 제공하면, 그 외 31개의 알뜰폰 사업자들이 경쟁에서 밀릴 것을 우려해 KT와 LG유플러스도 5G망을 제공하게 될 것”이라고 내다봤다.\n",
    "알뜰폰 사업자가 상품을 만드는 방식 크게 2가지다. 하나는 통신사로부터 음성·문자·데이터를 도매로 사들인 뒤 이를 바탕으로 통신사보다 저렴한 요금제를 내놓는 방식(종량제 도매제공)이다. 이를 위해 정부는 도매대가 인하율을 음성 17.8%, 데이터 19.2%, 단문메시지 1.15%로, 지난해 음성 15.1%, 데이터 19.1%, 단문메시지 1.13%에 비해 높여 잡았다.\n",
    "또 다른 방식은 일정비용을 통신사에 내고 통신사의 정액 요금제를 그대로 판매하면서, 그 차액의 범위에서 저렴한 요금제를 내놓는 방식(수익배분 도매제공)이다. 정부는 SK텔레콤의 준보편 요금제인 ‘T플랜 요금제’를 알뜰폰 사업자가 재판매할 수 있게 했다. 기존에 SK텔레콤이 도매제공했던 ‘밴드데이터 요금제’의 최고구간의 대가도 1.5%포인트 낮췄다.\n",
    "알뜰폰 업계는 대체로 반기는 분위기지만, 알뜰폰 시장을 살릴 수 있을지에는 의구심을 갖고 있다. 업계 관계자는 “도매대가 인하율이 크고, 5G망을 제공하는 것은 긍정적”이라면서도 “수익배분 도매제공의 의무화, 설비를 가진 업체에 대한 접속료 정산 도입 등의 제도적 개선이 필요하다”고 말했다.\"\"\""
   ]
  },
  {
   "cell_type": "code",
   "execution_count": 46,
   "metadata": {},
   "outputs": [
    {
     "name": "stdout",
     "output_type": "stream",
     "text": [
      "아버지가방에들어가\tN\n",
      "이\tJ\n",
      "시ㄴ다\tE\n",
      "===================\n",
      "아버지\tNNG\n",
      "가방\tNNP\n",
      "에\tJKB\n",
      "들어가\tVV\n",
      "시\tEP\n",
      "ㄴ다\tEC\n",
      "===================\n",
      "아버지\tNNG\n",
      "가방\tNNG\n",
      "에\tJKM\n",
      "들어가\tVV\n",
      "시\tEPH\n",
      "ㄴ다\tEFN\n",
      "===================\n",
      "아버지\tNoun\n",
      "가방\tNoun\n",
      "에\tJosa\n",
      "들어가신다\tVerb\n"
     ]
    }
   ],
   "source": [
    "#분석기 비교하기\n",
    "import konlpy \n",
    "from konlpy.tag import Hannanum\n",
    "han = Hannanum()\n",
    "text = \"아버지가방에들어가신다\"\n",
    "result = han.pos(text)\n",
    "\n",
    "for lex,pos in result : \n",
    "    print(\"{}\\t{}\".format(lex,pos))\n",
    "    \n",
    "print(\"===================\")    \n",
    "from konlpy.tag import Komoran\n",
    "kom = Komoran()\n",
    "text = \"아버지가방에들어가신다\"\n",
    "result = kom.pos(text)\n",
    "\n",
    "for lex,pos in result : \n",
    "    print(\"{}\\t{}\".format(lex,pos))\n",
    "print(\"===================\")             \n",
    "            \n",
    "from konlpy.tag import Kkma\n",
    "kkma = Kkma()\n",
    "text = \"아버지가방에들어가신다\"\n",
    "result = kkma.pos(text)\n",
    "\n",
    "for lex,pos in result : \n",
    "    print(\"{}\\t{}\".format(lex,pos))\n",
    "print(\"===================\")             \n",
    "from konlpy.tag import Okt\n",
    "okt = Okt()\n",
    "text = \"아버지가방에들어가신다\"\n",
    "result = okt.pos(text)\n",
    "\n",
    "for lex,pos in result : \n",
    "    print(\"{}\\t{}\".format(lex,pos))"
   ]
  },
  {
   "cell_type": "code",
   "execution_count": 47,
   "metadata": {},
   "outputs": [
    {
     "name": "stdout",
     "output_type": "stream",
     "text": [
      "아버지가방에들어가\tN\n",
      "이\tJ\n",
      "시ㄴ다\tE\n",
      "===================\n",
      "아버지\tNNG\n",
      "가방\tNNP\n",
      "에\tJKB\n",
      "들어가\tVV\n",
      "시\tEP\n",
      "ㄴ다\tEC\n",
      "===================\n",
      "아버지\tNNG\n",
      "가방\tNNG\n",
      "에\tJKM\n",
      "들어가\tVV\n",
      "시\tEPH\n",
      "ㄴ다\tEFN\n",
      "===================\n",
      "아버지\tNoun\n",
      "가방\tNoun\n",
      "에\tJosa\n",
      "들어가신다\tVerb\n"
     ]
    }
   ],
   "source": [
    "#띄어쓰기가 제대로 되지 않은 문장 \n",
    "import konlpy \n",
    "from konlpy.tag import Hannanum\n",
    "han = Hannanum()\n",
    "text2 = \"ㄱㅐㄴㅏ리가 피어있는 동산에 누워있고싶ㄷㅏ\"\n",
    "result = han.pos(text)\n",
    "\n",
    "for lex,pos in result : \n",
    "    print(\"{}\\t{}\".format(lex,pos))\n",
    "    \n",
    "print(\"===================\")    \n",
    "from konlpy.tag import Komoran\n",
    "kom = Komoran()\n",
    "text2 = \"ㄱㅐㄴㅏ리가 피어있는 동산에 누워있고싶ㄷㅏ\"\n",
    "result = kom.pos(text)\n",
    "\n",
    "for lex,pos in result : \n",
    "    print(\"{}\\t{}\".format(lex,pos))\n",
    "print(\"===================\")             \n",
    "            \n",
    "from konlpy.tag import Kkma\n",
    "kkma = Kkma()\n",
    "text2 = \"ㄱㅐㄴㅏ리가 피어있는 동산에 누워있고싶ㄷㅏ\"\n",
    "result = kkma.pos(text)\n",
    "\n",
    "for lex,pos in result : \n",
    "    print(\"{}\\t{}\".format(lex,pos))\n",
    "print(\"===================\")             \n",
    "from konlpy.tag import Okt\n",
    "okt = Okt()\n",
    "text2 = \"ㄱㅐㄴㅏ리가 피어있는 동산에 누워있고싶ㄷㅏ\"\n",
    "result = okt.pos(text)\n",
    "\n",
    "for lex,pos in result : \n",
    "    print(\"{}\\t{}\".format(lex,pos))"
   ]
  },
  {
   "cell_type": "markdown",
   "metadata": {},
   "source": [
    "#### 정제"
   ]
  },
  {
   "cell_type": "markdown",
   "metadata": {},
   "source": [
    "- example = \"Family is not an important thing. It's everything.\""
   ]
  },
  {
   "cell_type": "markdown",
   "metadata": {},
   "source": [
    "- example = \"이 여름 다시 한번 설레고 싶다 그때 그 여름을 틀어줘 그 여름을 들려줘 이 여름도 언젠가는 그해 여름 오늘이 가장 젊은 내 여름\""
   ]
  },
  {
   "cell_type": "code",
   "execution_count": null,
   "metadata": {},
   "outputs": [],
   "source": [
    "from konlpy.corpus import kolaw\n",
    "from konlpy.tag import 0kt"
   ]
  },
  {
   "cell_type": "code",
   "execution_count": 48,
   "metadata": {},
   "outputs": [
    {
     "data": {
      "text/plain": [
       "'서울 부동산 가격이 올해 들어 평균 % 상승했습니다'"
      ]
     },
     "execution_count": 48,
     "metadata": {},
     "output_type": "execute_result"
    }
   ],
   "source": [
    "import re\n",
    "text1 = \"서울 부동산 가격이 올해 들어 평균 30% 상승했습니다\"\n",
    "\n",
    "p = re.compile(\"[0-9]+\")\n",
    "p.sub(\"\",text1)"
   ]
  },
  {
   "cell_type": "code",
   "execution_count": 50,
   "metadata": {},
   "outputs": [
    {
     "data": {
      "text/plain": [
       "'*서울 부동산 가격이 올해 들어 평균 30% 상승했습니다.'"
      ]
     },
     "execution_count": 50,
     "metadata": {},
     "output_type": "execute_result"
    }
   ],
   "source": [
    "text2 = \"*서울 부동산 가격이 올해 들어 평균 30% 상승했습니다.\"\n",
    "p =re.compile(\"\\\\+\")\n",
    "\n",
    "p.sub(\" \",text2)"
   ]
  },
  {
   "cell_type": "code",
   "execution_count": 51,
   "metadata": {},
   "outputs": [
    {
     "data": {
      "text/plain": [
       "'서울 부동산 가격이 올해 들어 평균 30% 상승했습니다.'"
      ]
     },
     "execution_count": 51,
     "metadata": {},
     "output_type": "execute_result"
    }
   ],
   "source": [
    "p =re.compile(\"\\*\")\n",
    "p.sub(\"\",text2)"
   ]
  },
  {
   "cell_type": "code",
   "execution_count": 53,
   "metadata": {},
   "outputs": [
    {
     "name": "stderr",
     "output_type": "stream",
     "text": [
      "[nltk_data] Downloading package stopwords to\n",
      "[nltk_data]     C:\\Users\\rkwjs\\AppData\\Roaming\\nltk_data...\n",
      "[nltk_data]   Unzipping corpora\\stopwords.zip.\n"
     ]
    },
    {
     "data": {
      "text/plain": [
       "True"
      ]
     },
     "execution_count": 53,
     "metadata": {},
     "output_type": "execute_result"
    }
   ],
   "source": [
    "nltk.download('stopwords')"
   ]
  },
  {
   "cell_type": "code",
   "execution_count": 54,
   "metadata": {},
   "outputs": [
    {
     "data": {
      "text/plain": [
       "['i', 'me', 'my', 'myself', 'we', 'our', 'ours', 'ourselves', 'you', \"you're\"]"
      ]
     },
     "execution_count": 54,
     "metadata": {},
     "output_type": "execute_result"
    }
   ],
   "source": [
    "import nltk\n",
    "from nltk.corpus import stopwords\n",
    "\n",
    "stopwords.words('english')[:10] #불용어 출력해보기\n"
   ]
  },
  {
   "cell_type": "code",
   "execution_count": 56,
   "metadata": {},
   "outputs": [
    {
     "name": "stdout",
     "output_type": "stream",
     "text": [
      "['Family', 'is', 'not', 'an', 'important', 'things', '.', 'It', \"'s\", 'everything', '.']\n",
      "['Family', 'important', 'things', '.', 'It', \"'s\", 'everything', '.']\n"
     ]
    }
   ],
   "source": [
    "import nltk\n",
    "from nltk.corpus import stopwords\n",
    "from nltk.tokenize import word_tokenize \n",
    "\n",
    "example = \"Family is not an important things. It's everything.\"\n",
    "stop_words = set(stopwords.words('english'))\n",
    "\n",
    "word_tokens = word_tokenize(example)\n",
    "result = []\n",
    "for w in word_tokens:\n",
    "    if w not in stop_words:\n",
    "        result.append(w)\n",
    "print(word_tokens)\n",
    "print(result)"
   ]
  },
  {
   "cell_type": "code",
   "execution_count": 58,
   "metadata": {},
   "outputs": [
    {
     "name": "stdout",
     "output_type": "stream",
     "text": [
      "['이', '여름', '다시', '한번', '설레고', '싶다', '그때', '그', '여름을', '틀어줘', '그', '여름을', '들려줘', '이', '여름도', '언젠가는', '그해', '여름', '오늘이', '가장', '젊은', '내', '여름']\n",
      "['여름', '다시', '한번', '설레고', '싶다', '그때', '여름을', '틀어줘', '여름을', '들려줘', '여름도', '언젠가는', '그해', '여름', '오늘이', '젊은', '내', '여름']\n"
     ]
    }
   ],
   "source": [
    "import nltk\n",
    "from nltk.corpus import stopwords\n",
    "from nltk.tokenize import word_tokenize\n",
    "\n",
    "example = \"\"\"이 여름 다시 한번 설레고 싶다 그때 그 여름을 틀어줘 그 여름을 들려줘 이 여름도 언젠가는 그해 여름 오늘이 가장 젊은 내 여름\"\"\"\n",
    "\n",
    "stop_words = \"이 그 또 가장\"\n",
    "stop_words = stop_words.split(' ')\n",
    "\n",
    "word_tokens = word_tokenize(example)\n",
    "result=[]\n",
    "\n",
    "for w in word_tokens:\n",
    "    if w not in stop_words:\n",
    "        result.append(w)\n",
    "print(word_tokens)\n",
    "print(result)"
   ]
  },
  {
   "cell_type": "code",
   "execution_count": 60,
   "metadata": {},
   "outputs": [
    {
     "data": {
      "text/plain": [
       "['1809890.txt',\n",
       " '1809891.txt',\n",
       " '1809892.txt',\n",
       " '1809893.txt',\n",
       " '1809894.txt',\n",
       " '1809895.txt',\n",
       " '1809896.txt',\n",
       " '1809897.txt',\n",
       " '1809898.txt',\n",
       " '1809899.txt']"
      ]
     },
     "execution_count": 60,
     "metadata": {},
     "output_type": "execute_result"
    }
   ],
   "source": [
    "import nltk\n",
    "import konlpy\n",
    "from konlpy.corpus import kobill\n",
    "\n",
    "files_ko = kobill.fileids()\n",
    "files_ko"
   ]
  },
  {
   "cell_type": "code",
   "execution_count": 61,
   "metadata": {},
   "outputs": [
    {
     "data": {
      "text/plain": [
       "'고등교육법 일부개정법률안\\n\\n(안상수의원 대표발의 )\\n\\n 의 안\\n 번 호\\n\\n9894\\n\\n발의연월일 : 2010.  11.  15.\\n\\n발  의  자 : 안상수․김정훈․원희목 \\n\\n강석호․서상기․나성린 \\n\\n권영진․이춘식․정영희 \\n\\n이애주․안형환․백성운 \\n\\n김금래 의원(13인)\\n\\n제안이유 및 주요내용\\n\\n  현재 간호사의 경우 전문대학 졸업 또는 대학 졸업에 상관없이 면\\n\\n허증을 취득할 수 있지만, 학위의 종류가 전문학사이기 때문에 학사학\\n\\n위를 취득하기 위하여 87.2%가 별도로 학사학위 교육과정을 이수하고 \\n\\n있는 실정임.\\n\\n  이러한 4년제 간호 교육의 필요성과 선진 각국의 경향을 고려하고 \\n\\n국민에 대한 보다 나은 의료 서비스를 제공하기 위하여 대통령령이 \\n\\n정하는 일정한 기준을 충족하는 간호과에 대해서는 수업연한을 4년으\\n\\n로 하고, 수여하는 학위의 종류를 학사학위로 하도록 함(안 제50조의3 \\n\\n신설).\\n\\n- 1 -\\n\\n\\x0c법률  제        호\\n\\n고등교육법 일부개정법률안\\n\\n고등교육법 일부를 다음과 같이 개정한다.\\n\\n제50조의3을 다음과 같이 신설한다.\\n\\n제50조의3(간호과의 수업연한 및 학위에 관한 특례) ① 대통령령이 정\\n\\n하는 기준을 충족하는 간호과의 수업연한은 4년으로 한다.\\n\\n  ② 제1항의 간호과에서 학칙이 정하는 과정을 이수한 자에 대하여\\n\\n는 학사학위를 수여한다.\\n\\n  ③ 제2항의 학위의 종류 및 수여에 관하여 필요한 사항은 대통령령\\n\\n으로 정한다.\\n\\n부      칙\\n\\n① 이 법은 공포 후 6개월이 경과한 날부터 시행한다.\\n\\n② 이 법 시행 당시 수업연한이 4년으로 된 간호과에 재학 중인 자에 \\n\\n대해서는 본인의 신청에 의하여 종전의 수업연한 및 학위에 관한 규\\n\\n정을 적용할 수 있다.\\n\\n- 3 -\\n\\n\\x0c신·구조문대비표\\n\\n현      행\\n\\n개   정   안\\n\\n  <신  설>\\n\\n제50조의3(간호과의 수업연한 및 \\n\\n학위에 관한 특례) ① 대통령\\n\\n령이 정하는 기준을 충족하는 \\n\\n간호과의 수업연한은 4년으로 \\n\\n한다.\\n\\n  ② 제1항의 간호과에서 학칙이 \\n\\n정하는 과정을 이수한 자에 대\\n\\n하여는 학사학위를 수여한다.\\n\\n  ③ 제2항의 학위의 종류 및 수\\n\\n여에 관하여 필요한 사항은 대\\n\\n통령령으로 정한다.\\n\\n- 5 -\\n\\n\\x0c'"
      ]
     },
     "execution_count": 61,
     "metadata": {},
     "output_type": "execute_result"
    }
   ],
   "source": [
    "doc_ko = kobill.open('1809894.txt').read()\n",
    "doc_ko"
   ]
  },
  {
   "cell_type": "code",
   "execution_count": 63,
   "metadata": {},
   "outputs": [
    {
     "data": {
      "text/plain": [
       "['고등',\n",
       " '교육법',\n",
       " '일부',\n",
       " '개정',\n",
       " '법률',\n",
       " '안',\n",
       " '안상수',\n",
       " '의원',\n",
       " '대표',\n",
       " '발의',\n",
       " '의',\n",
       " '안',\n",
       " '번',\n",
       " '호',\n",
       " '발의',\n",
       " '연월일',\n",
       " '발',\n",
       " '의',\n",
       " '자',\n",
       " '안상수',\n",
       " '김정훈',\n",
       " '원희목',\n",
       " '강석호',\n",
       " '서상기',\n",
       " '나성린',\n",
       " '권영진',\n",
       " '이춘식',\n",
       " '정영희',\n",
       " '이애주',\n",
       " '안형환',\n",
       " '백성운',\n",
       " '김금래',\n",
       " '의원',\n",
       " '인',\n",
       " '제안',\n",
       " '이유',\n",
       " '및',\n",
       " '내용',\n",
       " '현재',\n",
       " '간호사',\n",
       " '경우',\n",
       " '전문',\n",
       " '대학',\n",
       " '졸업',\n",
       " '대학',\n",
       " '졸업',\n",
       " '면',\n",
       " '증',\n",
       " '취득',\n",
       " '수',\n",
       " '학위',\n",
       " '종류',\n",
       " '문학사',\n",
       " '이기',\n",
       " '때문',\n",
       " '학',\n",
       " '사학',\n",
       " '위',\n",
       " '취득',\n",
       " '위',\n",
       " '별도',\n",
       " '학사',\n",
       " '학위',\n",
       " '교육과정',\n",
       " '이수',\n",
       " '실정',\n",
       " '임',\n",
       " '간호',\n",
       " '교육',\n",
       " '필요성',\n",
       " '선진',\n",
       " '각국',\n",
       " '경향',\n",
       " '고려',\n",
       " '국민',\n",
       " '대한',\n",
       " '나은',\n",
       " '의료',\n",
       " '서비스',\n",
       " '제공',\n",
       " '위',\n",
       " '대통령령',\n",
       " '정',\n",
       " '기준',\n",
       " '충족',\n",
       " '간호',\n",
       " '과',\n",
       " '대해',\n",
       " '수업',\n",
       " '연한',\n",
       " '로',\n",
       " '수여',\n",
       " '학위',\n",
       " '종류',\n",
       " '학사',\n",
       " '학위',\n",
       " '함',\n",
       " '안',\n",
       " '제',\n",
       " '신설',\n",
       " '법률',\n",
       " '제',\n",
       " '호',\n",
       " '고등',\n",
       " '교육법',\n",
       " '일부',\n",
       " '개정',\n",
       " '법률',\n",
       " '안',\n",
       " '고등',\n",
       " '교육법',\n",
       " '일부',\n",
       " '다음',\n",
       " '개정',\n",
       " '제',\n",
       " '다음',\n",
       " '신설',\n",
       " '제',\n",
       " '간호',\n",
       " '수업',\n",
       " '연한',\n",
       " '및',\n",
       " '학위',\n",
       " '관',\n",
       " '특례',\n",
       " '대통령령',\n",
       " '정',\n",
       " '기준',\n",
       " '충족',\n",
       " '간호',\n",
       " '수업',\n",
       " '연한',\n",
       " '제',\n",
       " '항의',\n",
       " '간호',\n",
       " '과',\n",
       " '학칙',\n",
       " '정',\n",
       " '과정',\n",
       " '이수',\n",
       " '자',\n",
       " '대하',\n",
       " '학사',\n",
       " '학위',\n",
       " '수여',\n",
       " '제',\n",
       " '항의',\n",
       " '학위',\n",
       " '종류',\n",
       " '및',\n",
       " '수여',\n",
       " '관',\n",
       " '사항',\n",
       " '대통령령',\n",
       " '정',\n",
       " '부',\n",
       " '칙',\n",
       " '이',\n",
       " '법',\n",
       " '공포',\n",
       " '후',\n",
       " '개월',\n",
       " '경과',\n",
       " '날',\n",
       " '시행',\n",
       " '이',\n",
       " '법',\n",
       " '시행',\n",
       " '당시',\n",
       " '수업',\n",
       " '연한',\n",
       " '간호',\n",
       " '과',\n",
       " '재학',\n",
       " '중인',\n",
       " '자',\n",
       " '대해',\n",
       " '본인',\n",
       " '신청',\n",
       " '종전',\n",
       " '수업',\n",
       " '연한',\n",
       " '및',\n",
       " '학위',\n",
       " '관',\n",
       " '규',\n",
       " '정',\n",
       " '적용',\n",
       " '수',\n",
       " '신',\n",
       " '구조',\n",
       " '문대비',\n",
       " '표',\n",
       " '현',\n",
       " '행',\n",
       " '개',\n",
       " '정',\n",
       " '안',\n",
       " '신',\n",
       " '설',\n",
       " '제',\n",
       " '간호',\n",
       " '수업',\n",
       " '연한',\n",
       " '및',\n",
       " '학위',\n",
       " '관',\n",
       " '특례',\n",
       " '대통령',\n",
       " '령',\n",
       " '정',\n",
       " '기준',\n",
       " '충족',\n",
       " '간호',\n",
       " '수업',\n",
       " '연한',\n",
       " '제',\n",
       " '항의',\n",
       " '간호',\n",
       " '과',\n",
       " '학칙',\n",
       " '정',\n",
       " '과정',\n",
       " '이수',\n",
       " '자',\n",
       " '학사',\n",
       " '학위',\n",
       " '수여',\n",
       " '제',\n",
       " '항의',\n",
       " '학위',\n",
       " '종류',\n",
       " '및',\n",
       " '수',\n",
       " '여',\n",
       " '관',\n",
       " '사항',\n",
       " '통령',\n",
       " '령',\n",
       " '정']"
      ]
     },
     "execution_count": 63,
     "metadata": {},
     "output_type": "execute_result"
    }
   ],
   "source": [
    "from konlpy.tag import Okt\n",
    "okt = Okt()\n",
    "\n",
    "nouns = okt.nouns(doc_ko) #명사 분석\n",
    "nouns"
   ]
  },
  {
   "cell_type": "code",
   "execution_count": 64,
   "metadata": {},
   "outputs": [
    {
     "name": "stdout",
     "output_type": "stream",
     "text": [
      "240\n",
      "121\n"
     ]
    },
    {
     "data": {
      "text/plain": [
       "FreqDist({'학위': 11, '간호': 9, '정': 9, '제': 9, '수업': 7, '연한': 7, '및': 6, '안': 5, '관': 5, '자': 4, ...})"
      ]
     },
     "execution_count": 64,
     "metadata": {},
     "output_type": "execute_result"
    }
   ],
   "source": [
    "ko = nltk.Text(nouns,name=\"의안 제 1809894호\")\n",
    "print(len(ko.tokens))\n",
    "\n",
    "print(len(set(ko.tokens)))\n",
    "ko.vocab()"
   ]
  },
  {
   "cell_type": "code",
   "execution_count": 68,
   "metadata": {},
   "outputs": [
    {
     "data": {
      "image/png": "[encoded data removed]",
      "text/plain": [
       "<Figure size 864x432 with 1 Axes>"
      ]
     },
     "metadata": {
      "needs_background": "light"
     },
     "output_type": "display_data"
    }
   ],
   "source": [
    "import matplotlib.pyplot as plt\n",
    "%matplotlib inline\n",
    "\n",
    "import platform\n",
    "path = 'c:/Windows/Fonts/malgun.ttf'\n",
    "from matplotlib import font_manager, rc\n",
    "\n",
    "font_name = font_manager.FontProperties(fname=path).get_name()\n",
    "rc('font', family = font_name)\n",
    "\n",
    "plt.figure(figsize =(12,6))\n",
    "ko.plot(50)\n",
    "plt.show()"
   ]
  },
  {
   "cell_type": "code",
   "execution_count": 83,
   "metadata": {},
   "outputs": [
    {
     "data": {
      "text/plain": [
       "['고등',\n",
       " '교육법',\n",
       " '일부',\n",
       " '개정',\n",
       " '법률',\n",
       " '안상수',\n",
       " '의원',\n",
       " '대표',\n",
       " '발의',\n",
       " '번',\n",
       " '호',\n",
       " '발의',\n",
       " '연월일',\n",
       " '안상수',\n",
       " '김정훈',\n",
       " '원희목',\n",
       " '강석호',\n",
       " '서상기',\n",
       " '나성린',\n",
       " '권영진',\n",
       " '이춘식',\n",
       " '정영희',\n",
       " '이애주',\n",
       " '안형환',\n",
       " '백성운',\n",
       " '김금래',\n",
       " '의원',\n",
       " '인',\n",
       " '제안',\n",
       " '이유',\n",
       " '내용',\n",
       " '현재',\n",
       " '간호사',\n",
       " '경우',\n",
       " '전문',\n",
       " '대학',\n",
       " '졸업',\n",
       " '대학',\n",
       " '졸업',\n",
       " '면',\n",
       " '증',\n",
       " '취득',\n",
       " '학위',\n",
       " '종류',\n",
       " '문학사',\n",
       " '이기',\n",
       " '때문',\n",
       " '학',\n",
       " '사학',\n",
       " '위',\n",
       " '취득',\n",
       " '위',\n",
       " '별도',\n",
       " '학사',\n",
       " '학위',\n",
       " '교육과정',\n",
       " '이수',\n",
       " '실정',\n",
       " '임',\n",
       " '간호',\n",
       " '교육',\n",
       " '필요성',\n",
       " '선진',\n",
       " '각국',\n",
       " '경향',\n",
       " '고려',\n",
       " '국민',\n",
       " '대한',\n",
       " '나은',\n",
       " '의료',\n",
       " '서비스',\n",
       " '제공',\n",
       " '위',\n",
       " '대통령령',\n",
       " '기준',\n",
       " '충족',\n",
       " '간호',\n",
       " '대해',\n",
       " '수업',\n",
       " '연한',\n",
       " '로',\n",
       " '수여',\n",
       " '학위',\n",
       " '종류',\n",
       " '학사',\n",
       " '학위',\n",
       " '함',\n",
       " '신설',\n",
       " '법률',\n",
       " '호',\n",
       " '고등',\n",
       " '교육법',\n",
       " '일부',\n",
       " '개정',\n",
       " '법률',\n",
       " '고등',\n",
       " '교육법',\n",
       " '일부',\n",
       " '다음',\n",
       " '개정',\n",
       " '다음',\n",
       " '신설',\n",
       " '간호',\n",
       " '수업',\n",
       " '연한',\n",
       " '학위',\n",
       " '관',\n",
       " '특례',\n",
       " '대통령령',\n",
       " '기준',\n",
       " '충족',\n",
       " '간호',\n",
       " '수업',\n",
       " '연한',\n",
       " '항의',\n",
       " '간호',\n",
       " '학칙',\n",
       " '과정',\n",
       " '이수',\n",
       " '대하',\n",
       " '학사',\n",
       " '학위',\n",
       " '수여',\n",
       " '항의',\n",
       " '학위',\n",
       " '종류',\n",
       " '수여',\n",
       " '관',\n",
       " '사항',\n",
       " '대통령령',\n",
       " '부',\n",
       " '칙',\n",
       " '법',\n",
       " '공포',\n",
       " '후',\n",
       " '개월',\n",
       " '경과',\n",
       " '날',\n",
       " '시행',\n",
       " '법',\n",
       " '시행',\n",
       " '당시',\n",
       " '수업',\n",
       " '연한',\n",
       " '간호',\n",
       " '재학',\n",
       " '중인',\n",
       " '대해',\n",
       " '본인',\n",
       " '신청',\n",
       " '종전',\n",
       " '수업',\n",
       " '연한',\n",
       " '학위',\n",
       " '관',\n",
       " '규',\n",
       " '적용',\n",
       " '신',\n",
       " '구조',\n",
       " '문대비',\n",
       " '표',\n",
       " '현',\n",
       " '행',\n",
       " '개',\n",
       " '신',\n",
       " '설',\n",
       " '간호',\n",
       " '수업',\n",
       " '연한',\n",
       " '학위',\n",
       " '관',\n",
       " '특례',\n",
       " '대통령',\n",
       " '령',\n",
       " '기준',\n",
       " '충족',\n",
       " '간호',\n",
       " '수업',\n",
       " '연한',\n",
       " '항의',\n",
       " '간호',\n",
       " '학칙',\n",
       " '과정',\n",
       " '이수',\n",
       " '학사',\n",
       " '학위',\n",
       " '수여',\n",
       " '항의',\n",
       " '학위',\n",
       " '종류',\n",
       " '여',\n",
       " '관',\n",
       " '사항',\n",
       " '통령',\n",
       " '령']"
      ]
     },
     "execution_count": 83,
     "metadata": {},
     "output_type": "execute_result"
    }
   ],
   "source": [
    "from wordcloud import WordCloud\n",
    "stopwords =[\"정\",'제','및','안','자','과','수','의','이','발']\n",
    "ko = [each_word for each_word in ko if each_word not in stopwords] \n",
    "ko"
   ]
  },
  {
   "cell_type": "code",
   "execution_count": 84,
   "metadata": {},
   "outputs": [
    {
     "ename": "AttributeError",
     "evalue": "'list' object has no attribute 'vocab'",
     "output_type": "error",
     "traceback": [
      "\u001b[1;31m---------------------------------------------------------------------------\u001b[0m",
      "\u001b[1;31mAttributeError\u001b[0m                            Traceback (most recent call last)",
      "\u001b[1;32m<ipython-input-84-82940bca5927>\u001b[0m in \u001b[0;36m<module>\u001b[1;34m\u001b[0m\n\u001b[1;32m----> 1\u001b[1;33m \u001b[0mdata\u001b[0m \u001b[1;33m=\u001b[0m \u001b[0mko\u001b[0m\u001b[1;33m.\u001b[0m\u001b[0mvocab\u001b[0m\u001b[1;33m(\u001b[0m\u001b[1;33m)\u001b[0m\u001b[1;33m.\u001b[0m\u001b[0mmost_common\u001b[0m\u001b[1;33m(\u001b[0m\u001b[1;36m30\u001b[0m\u001b[1;33m)\u001b[0m\u001b[1;33m\u001b[0m\u001b[1;33m\u001b[0m\u001b[0m\n\u001b[0m\u001b[0;32m      2\u001b[0m \u001b[0mwordcloud\u001b[0m \u001b[1;33m=\u001b[0m \u001b[0mWordCloud\u001b[0m\u001b[1;33m(\u001b[0m\u001b[0mfont_path\u001b[0m\u001b[1;33m=\u001b[0m\u001b[1;34m'c:/Windows/Fonts/malgun.ttf'\u001b[0m\u001b[1;33m,\u001b[0m\u001b[0mbackground_color\u001b[0m\u001b[1;33m=\u001b[0m\u001b[1;34m'white'\u001b[0m\u001b[1;33m)\u001b[0m\u001b[1;33m.\u001b[0m\u001b[0mgenerate_from_frequencies\u001b[0m\u001b[1;33m(\u001b[0m\u001b[0mdict\u001b[0m\u001b[1;33m(\u001b[0m\u001b[0mdata\u001b[0m\u001b[1;33m)\u001b[0m\u001b[1;33m)\u001b[0m\u001b[1;33m\u001b[0m\u001b[1;33m\u001b[0m\u001b[0m\n\u001b[0;32m      3\u001b[0m \u001b[1;33m\u001b[0m\u001b[0m\n\u001b[0;32m      4\u001b[0m \u001b[0mplt\u001b[0m\u001b[1;33m.\u001b[0m\u001b[0mfigure\u001b[0m\u001b[1;33m(\u001b[0m\u001b[0mfigsize\u001b[0m \u001b[1;33m=\u001b[0m \u001b[1;33m(\u001b[0m\u001b[1;36m12\u001b[0m\u001b[1;33m,\u001b[0m\u001b[1;36m8\u001b[0m\u001b[1;33m)\u001b[0m\u001b[1;33m)\u001b[0m\u001b[1;33m\u001b[0m\u001b[1;33m\u001b[0m\u001b[0m\n\u001b[0;32m      5\u001b[0m \u001b[0mplt\u001b[0m\u001b[1;33m.\u001b[0m\u001b[0mimshow\u001b[0m\u001b[1;33m(\u001b[0m\u001b[0mwordcloud\u001b[0m\u001b[1;33m)\u001b[0m\u001b[1;33m\u001b[0m\u001b[1;33m\u001b[0m\u001b[0m\n",
      "\u001b[1;31mAttributeError\u001b[0m: 'list' object has no attribute 'vocab'"
     ]
    }
   ],
   "source": [
    "data = ko.vocab().most_common(30) #vocab함수가 되지 않습니다... \n",
    "wordcloud = WordCloud(font_path='c:/Windows/Fonts/malgun.ttf',background_color='white').generate_from_frequencies(dict(data))\n",
    "\n",
    "plt.figure(figsize = (12,8))\n",
    "plt.imshow(wordcloud)\n",
    "plt.axis(\"off\")\n",
    "plt.show()"
   ]
  },
  {
   "cell_type": "code",
   "execution_count": 88,
   "metadata": {},
   "outputs": [
    {
     "data": {
      "text/plain": [
       "['고등',\n",
       " '교육법',\n",
       " '일부',\n",
       " '개정',\n",
       " '법률',\n",
       " '안상수',\n",
       " '의원',\n",
       " '대표',\n",
       " '발의',\n",
       " '번',\n",
       " '호',\n",
       " '발의',\n",
       " '연월일',\n",
       " '안상수',\n",
       " '김정훈',\n",
       " '원희목',\n",
       " '강석호',\n",
       " '서상기',\n",
       " '나성린',\n",
       " '권영진',\n",
       " '이춘식',\n",
       " '정영희',\n",
       " '이애주',\n",
       " '안형환',\n",
       " '백성운',\n",
       " '김금래',\n",
       " '의원',\n",
       " '인',\n",
       " '제안',\n",
       " '이유',\n",
       " '내용',\n",
       " '현재',\n",
       " '간호사',\n",
       " '경우',\n",
       " '전문',\n",
       " '대학',\n",
       " '졸업',\n",
       " '대학',\n",
       " '졸업',\n",
       " '면',\n",
       " '증',\n",
       " '취득',\n",
       " '학위',\n",
       " '종류',\n",
       " '문학사',\n",
       " '이기',\n",
       " '때문',\n",
       " '학',\n",
       " '사학',\n",
       " '위',\n",
       " '취득',\n",
       " '위',\n",
       " '별도',\n",
       " '학사',\n",
       " '학위',\n",
       " '교육과정',\n",
       " '이수',\n",
       " '실정',\n",
       " '임',\n",
       " '간호',\n",
       " '교육',\n",
       " '필요성',\n",
       " '선진',\n",
       " '각국',\n",
       " '경향',\n",
       " '고려',\n",
       " '국민',\n",
       " '대한',\n",
       " '나은',\n",
       " '의료',\n",
       " '서비스',\n",
       " '제공',\n",
       " '위',\n",
       " '대통령령',\n",
       " '기준',\n",
       " '충족',\n",
       " '간호',\n",
       " '대해',\n",
       " '수업',\n",
       " '연한',\n",
       " '로',\n",
       " '수여',\n",
       " '학위',\n",
       " '종류',\n",
       " '학사',\n",
       " '학위',\n",
       " '함',\n",
       " '신설',\n",
       " '법률',\n",
       " '호',\n",
       " '고등',\n",
       " '교육법',\n",
       " '일부',\n",
       " '개정',\n",
       " '법률',\n",
       " '고등',\n",
       " '교육법',\n",
       " '일부',\n",
       " '다음',\n",
       " '개정',\n",
       " '다음',\n",
       " '신설',\n",
       " '간호',\n",
       " '수업',\n",
       " '연한',\n",
       " '학위',\n",
       " '관',\n",
       " '특례',\n",
       " '대통령령',\n",
       " '기준',\n",
       " '충족',\n",
       " '간호',\n",
       " '수업',\n",
       " '연한',\n",
       " '항의',\n",
       " '간호',\n",
       " '학칙',\n",
       " '과정',\n",
       " '이수',\n",
       " '대하',\n",
       " '학사',\n",
       " '학위',\n",
       " '수여',\n",
       " '항의',\n",
       " '학위',\n",
       " '종류',\n",
       " '수여',\n",
       " '관',\n",
       " '사항',\n",
       " '대통령령',\n",
       " '부',\n",
       " '칙',\n",
       " '법',\n",
       " '공포',\n",
       " '후',\n",
       " '개월',\n",
       " '경과',\n",
       " '날',\n",
       " '시행',\n",
       " '법',\n",
       " '시행',\n",
       " '당시',\n",
       " '수업',\n",
       " '연한',\n",
       " '간호',\n",
       " '재학',\n",
       " '중인',\n",
       " '대해',\n",
       " '본인',\n",
       " '신청',\n",
       " '종전',\n",
       " '수업',\n",
       " '연한',\n",
       " '학위',\n",
       " '관',\n",
       " '규',\n",
       " '적용',\n",
       " '신',\n",
       " '구조',\n",
       " '문대비',\n",
       " '표',\n",
       " '현',\n",
       " '행',\n",
       " '개',\n",
       " '신',\n",
       " '설',\n",
       " '간호',\n",
       " '수업',\n",
       " '연한',\n",
       " '학위',\n",
       " '관',\n",
       " '특례',\n",
       " '대통령',\n",
       " '령',\n",
       " '기준',\n",
       " '충족',\n",
       " '간호',\n",
       " '수업',\n",
       " '연한',\n",
       " '항의',\n",
       " '간호',\n",
       " '학칙',\n",
       " '과정',\n",
       " '이수',\n",
       " '학사',\n",
       " '학위',\n",
       " '수여',\n",
       " '항의',\n",
       " '학위',\n",
       " '종류',\n",
       " '여',\n",
       " '관',\n",
       " '사항',\n",
       " '통령',\n",
       " '령']"
      ]
     },
     "execution_count": 88,
     "metadata": {},
     "output_type": "execute_result"
    }
   ],
   "source": [
    "#과제\n",
    "import nltk\n",
    "import konlpy\n",
    "from konlpy.corpus import kobill\n",
    "\n",
    "files_ko = kobill.fileids()\n",
    "files_ko\n",
    "\n",
    "doc_ko = kobill.open('1809899.txt').read()\n",
    "doc_ko\n",
    "\n",
    "from konlpy.tag import Okt\n",
    "okt = Okt()\n",
    "\n",
    "nouns = okt.nouns(doc_ko) #명사 분석\n",
    "nouns\n",
    "\n",
    "\n",
    "from wordcloud import WordCloud\n",
    "stopwords =[\"정\",'제','및','안','자','과','수','의','이','발']\n",
    "ko = [each_word for each_word in ko if each_word not in stopwords]\n",
    "ko\n",
    "\n",
    "#t"
   ]
  },
  {
   "cell_type": "code",
   "execution_count": 91,
   "metadata": {},
   "outputs": [],
   "source": [
    "import requests\n",
    "import pandas as pd\n",
    "from bs4 import BeautifulSoup\n",
    "import re\n",
    "import operator\n",
    "import time\n",
    "import datetime\n",
    "from konlpy.tag import Komoran\n",
    "\n",
    "def get_news(sectionid,date):\n",
    "    url=\"https://news.naver.com/main/read.naver?mode=LSD&mid=shm&sid1=102&oid=056&aid=0011080661\"\n",
    "    resp = request.get(url)\n",
    "    soup = BeautifulSoup(resp.text,\"html.parser\")\n",
    "    "
   ]
  },
  {
   "cell_type": "code",
   "execution_count": null,
   "metadata": {},
   "outputs": [],
   "source": []
  },
  {
   "cell_type": "code",
   "execution_count": null,
   "metadata": {},
   "outputs": [],
   "source": []
  },
  {
   "cell_type": "code",
   "execution_count": null,
   "metadata": {},
   "outputs": [],
   "source": []
  },
  {
   "cell_type": "code",
   "execution_count": null,
   "metadata": {},
   "outputs": [],
   "source": []
  },
  {
   "cell_type": "code",
   "execution_count": null,
   "metadata": {},
   "outputs": [],
   "source": [
    "\"\"\"import platform\n",
    "path = 'c:/Windows/Fonts/malgun.ttf'\n",
    "from matplotlib import font_manager, rc\n",
    "\n",
    "font_name = font_manager.FontProperties(fname=path).get_name()\n",
    "rc('font', family = font_name)\"\"\""
   ]
  }
 ],
 "metadata": {
  "kernelspec": {
   "display_name": "Python 3",
   "language": "python",
   "name": "python3"
  },
  "language_info": {
   "codemirror_mode": {
    "name": "ipython",
    "version": 3
   },
   "file_extension": ".py",
   "mimetype": "text/x-python",
   "name": "python",
   "nbconvert_exporter": "python",
   "pygments_lexer": "ipython3",
   "version": "3.8.8"
  }
 },
 "nbformat": 4,
 "nbformat_minor": 2
}
