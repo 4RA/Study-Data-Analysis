{
 "cells": [
  {
   "cell_type": "markdown",
   "metadata": {},
   "source": [
    "## 정규표현식"
   ]
  },
  {
   "cell_type": "markdown",
   "metadata": {},
   "source": [
    "- #### raw string"
   ]
  },
  {
   "cell_type": "code",
   "execution_count": 2,
   "metadata": {},
   "outputs": [
    {
     "name": "stdout",
     "output_type": "stream",
     "text": [
      "abc\n",
      "\n"
     ]
    }
   ],
   "source": [
    "a=\"abc\\n\"\n",
    "print(a)"
   ]
  },
  {
   "cell_type": "code",
   "execution_count": 3,
   "metadata": {},
   "outputs": [
    {
     "name": "stdout",
     "output_type": "stream",
     "text": [
      "abc\\n\n"
     ]
    }
   ],
   "source": [
    "b=r\"abc\\n\" #r을 붙이면 escape 문자까지 출력해줌\n",
    "print(b)"
   ]
  },
  {
   "cell_type": "markdown",
   "metadata": {},
   "source": [
    "- #### re.search() 함수\n",
    "- #### re.compile() 함수"
   ]
  },
  {
   "cell_type": "code",
   "execution_count": 4,
   "metadata": {},
   "outputs": [],
   "source": [
    "import re "
   ]
  },
  {
   "cell_type": "code",
   "execution_count": 7,
   "metadata": {},
   "outputs": [
    {
     "name": "stdout",
     "output_type": "stream",
     "text": [
      "<re.Match object; span=(3, 6), match='abc'>\n",
      "None\n"
     ]
    }
   ],
   "source": [
    "#re.search(a,b) \n",
    "#b에 있는 문자열에 a가 포함되어 있는지 확인\n",
    "r = re.search(r\"abc\",\"123abcdef\") #있는 경우\n",
    "print(r)\n",
    "\n",
    "r = re.search(r\"abc\",\"123cdefg\") #없는 경우\n",
    "print(r)"
   ]
  },
  {
   "cell_type": "code",
   "execution_count": 6,
   "metadata": {},
   "outputs": [
    {
     "data": {
      "text/plain": [
       "<re.Match object; span=(3, 6), match='abc'>"
      ]
     },
     "execution_count": 6,
     "metadata": {},
     "output_type": "execute_result"
    }
   ],
   "source": [
    "r = re.compile(\"abc\")\n",
    "r.search(\"123abcdef\")"
   ]
  },
  {
   "cell_type": "code",
   "execution_count": 10,
   "metadata": {},
   "outputs": [
    {
     "name": "stdout",
     "output_type": "stream",
     "text": [
      "<re.Match object; span=(0, 4), match='112w'>\n"
     ]
    }
   ],
   "source": [
    "r  = re.search(r'\\d\\d\\dw','112wabcdef119')\n",
    "print(r)"
   ]
  },
  {
   "cell_type": "markdown",
   "metadata": {},
   "source": [
    "- #### 정규표현식 . 기호"
   ]
  },
  {
   "cell_type": "code",
   "execution_count": 13,
   "metadata": {},
   "outputs": [
    {
     "name": "stdout",
     "output_type": "stream",
     "text": [
      "None\n",
      "<re.Match object; span=(0, 3), match='abc'>\n"
     ]
    }
   ],
   "source": [
    "r =re.compile(\"a.c\")\n",
    "print(r.search(\"kkk\")) #매치되는 게 없음.\n",
    "print(r.search(\"abc\")) #매치되는 게 있음."
   ]
  },
  {
   "cell_type": "code",
   "execution_count": 12,
   "metadata": {},
   "outputs": [
    {
     "data": {
      "text/plain": [
       "<re.Match object; span=(0, 3), match='abc'>"
      ]
     },
     "execution_count": 12,
     "metadata": {},
     "output_type": "execute_result"
    }
   ],
   "source": []
  },
  {
   "cell_type": "markdown",
   "metadata": {},
   "source": [
    "- #### 정규표현식 ? 기호"
   ]
  },
  {
   "cell_type": "code",
   "execution_count": 14,
   "metadata": {},
   "outputs": [
    {
     "name": "stdout",
     "output_type": "stream",
     "text": [
      "<re.Match object; span=(0, 2), match='ac'>\n",
      "None\n",
      "<re.Match object; span=(0, 3), match='abc'>\n"
     ]
    }
   ],
   "source": [
    "r = re.compile(\"ab?c\")\n",
    "\n",
    "print(r.search(\"ac\"))\n",
    "print(r.search(\"abbc\"))\n",
    "print(r.search(\"abc\"))"
   ]
  },
  {
   "cell_type": "markdown",
   "metadata": {},
   "source": [
    "- #### 정규표현식 * 기호"
   ]
  },
  {
   "cell_type": "code",
   "execution_count": 15,
   "metadata": {},
   "outputs": [
    {
     "name": "stdout",
     "output_type": "stream",
     "text": [
      "None\n",
      "<re.Match object; span=(0, 2), match='ac'>\n",
      "<re.Match object; span=(0, 3), match='abc'>\n",
      "<re.Match object; span=(0, 6), match='abbbbc'>\n"
     ]
    }
   ],
   "source": [
    "r = re.compile('ab*c') #앞의 문자가 무한개롲 존재할 수도 있고, 존재하지 않을 수도 있음.\n",
    "\n",
    "print(r.search(\"a\"))\n",
    "print(r.search(\"ac\"))\n",
    "print(r.search(\"abc\"))\n",
    "print(r.search(\"abbbbc\"))"
   ]
  },
  {
   "cell_type": "markdown",
   "metadata": {},
   "source": [
    "- #### 정규표현식 + 기호"
   ]
  },
  {
   "cell_type": "code",
   "execution_count": 17,
   "metadata": {},
   "outputs": [
    {
     "name": "stdout",
     "output_type": "stream",
     "text": [
      "None\n",
      "<re.Match object; span=(0, 3), match='abc'>\n",
      "<re.Match object; span=(4, 10), match='abbbbc'>\n"
     ]
    }
   ],
   "source": [
    "#앞의 문자가 최소 한 개 이상 존재 \n",
    "r = re.compile(\"ab+c\")\n",
    "\n",
    "print(r.search(\"ac\"))\n",
    "print(r.search(\"abc\"))\n",
    "print(r.search(\"aaaaabbbbc\"))"
   ]
  },
  {
   "cell_type": "markdown",
   "metadata": {},
   "source": [
    "- #### 정규표현식 ^ 기호"
   ]
  },
  {
   "cell_type": "code",
   "execution_count": 18,
   "metadata": {},
   "outputs": [
    {
     "name": "stdout",
     "output_type": "stream",
     "text": [
      "<re.Match object; span=(0, 1), match='a'>\n",
      "None\n"
     ]
    }
   ],
   "source": [
    "#^는 시작되는 글자 지정 \n",
    "r = re.compile(\"^a\")\n",
    "\n",
    "print(r.search(\"ac\"))\n",
    "print(r.search(\"bbbc\"))"
   ]
  },
  {
   "cell_type": "markdown",
   "metadata": {},
   "source": [
    "- #### 정규표현식 $ 기호"
   ]
  },
  {
   "cell_type": "code",
   "execution_count": 19,
   "metadata": {},
   "outputs": [
    {
     "name": "stdout",
     "output_type": "stream",
     "text": [
      "<re.Match object; span=(2, 3), match='a'>\n",
      "<re.Match object; span=(0, 1), match='a'>\n",
      "None\n"
     ]
    }
   ],
   "source": [
    "#$로 끝나는 글자를 지정 \n",
    "r = re.compile('a$')\n",
    "\n",
    "print(r.search(\"cba\"))\n",
    "print(r.search(\"a\"))\n",
    "print(r.search(\"abc\"))"
   ]
  },
  {
   "cell_type": "markdown",
   "metadata": {},
   "source": [
    "- #### 정규표현식 {숫자} 기호"
   ]
  },
  {
   "cell_type": "code",
   "execution_count": 25,
   "metadata": {},
   "outputs": [
    {
     "name": "stdout",
     "output_type": "stream",
     "text": [
      "None\n",
      "<re.Match object; span=(0, 4), match='abbc'>\n",
      "None\n"
     ]
    }
   ],
   "source": [
    "#중괄호 안에 숫자를 붙이면, 해당 문자를 숫자만큼 반복 \n",
    "r = re.compile(\"ab{2}c\")\n",
    "\n",
    "print(r.search(\"abc\"))\n",
    "print(r.search(\"abbc\"))\n",
    "print(r.search(\"abbbbc\"))"
   ]
  },
  {
   "cell_type": "markdown",
   "metadata": {},
   "source": [
    "- #### 정규표현식 {숫자1,숫자2} 기호"
   ]
  },
  {
   "cell_type": "code",
   "execution_count": 24,
   "metadata": {},
   "outputs": [
    {
     "name": "stdout",
     "output_type": "stream",
     "text": [
      "None\n",
      "<re.Match object; span=(0, 4), match='abbc'>\n",
      "<re.Match object; span=(0, 6), match='abbbbc'>\n",
      "None\n"
     ]
    }
   ],
   "source": [
    "r = re.compile(\"ab{2,8}c\")\n",
    "\n",
    "print(r.search(\"abc\"))\n",
    "print(r.search(\"abbc\"))\n",
    "print(r.search(\"abbbbc\"))\n",
    "print(r.search(\"abbbbbbbbbbbc\"))"
   ]
  },
  {
   "cell_type": "markdown",
   "metadata": {},
   "source": [
    "- #### 정규표현식 {숫자,} 기호"
   ]
  },
  {
   "cell_type": "code",
   "execution_count": 23,
   "metadata": {},
   "outputs": [
    {
     "name": "stdout",
     "output_type": "stream",
     "text": [
      "None\n",
      "<re.Match object; span=(0, 4), match='abbc'>\n",
      "<re.Match object; span=(0, 6), match='abbbbc'>\n",
      "<re.Match object; span=(0, 13), match='abbbbbbbbbbbc'>\n"
     ]
    }
   ],
   "source": [
    "r = re.compile(\"ab{2,}c\")\n",
    "\n",
    "print(r.search(\"abc\"))\n",
    "print(r.search(\"abbc\"))\n",
    "print(r.search(\"abbbbc\"))\n",
    "print(r.search(\"abbbbbbbbbbbc\"))"
   ]
  },
  {
   "cell_type": "markdown",
   "metadata": {},
   "source": [
    "- #### 정규표현식 [문자] 기호"
   ]
  },
  {
   "cell_type": "code",
   "execution_count": 30,
   "metadata": {},
   "outputs": [
    {
     "name": "stdout",
     "output_type": "stream",
     "text": [
      "<re.Match object; span=(0, 1), match='a'>\n",
      "<re.Match object; span=(0, 1), match='a'>\n",
      "<re.Match object; span=(0, 1), match='a'>\n",
      "<re.Match object; span=(0, 1), match='a'>\n",
      "None\n",
      "<re.Match object; span=(1, 2), match='c'>\n"
     ]
    }
   ],
   "source": [
    "#대괄호는 문자들 중 한개의 문자와 매치라는 의미\n",
    "r = re.compile(\"[abc]\")\n",
    "\n",
    "print(r.search(\"aaa\"))\n",
    "print(r.search(\"abbc\"))\n",
    "print(r.search(\"abbbbc\"))\n",
    "print(r.search(\"abbbbbbbbbbbc\"))\n",
    "print(r.search(\"ddd\"))\n",
    "print(r.search(\"dcf\"))"
   ]
  },
  {
   "cell_type": "code",
   "execution_count": 32,
   "metadata": {},
   "outputs": [
    {
     "name": "stdout",
     "output_type": "stream",
     "text": [
      "<re.Match object; span=(0, 1), match='h'>\n",
      "None\n"
     ]
    }
   ],
   "source": [
    "r = re.compile(\"[a-z]\")\n",
    "\n",
    "\n",
    "print(r.search(\"hihello\"))\n",
    "print(r.search(\"HIHELLO\"))"
   ]
  },
  {
   "cell_type": "markdown",
   "metadata": {},
   "source": [
    "- #### 정규표현식 [^문자] 기호"
   ]
  },
  {
   "cell_type": "code",
   "execution_count": 34,
   "metadata": {},
   "outputs": [
    {
     "name": "stdout",
     "output_type": "stream",
     "text": [
      "None\n",
      "<re.Match object; span=(1, 2), match='b'>\n",
      "<re.Match object; span=(1, 2), match='b'>\n",
      "<re.Match object; span=(1, 2), match='b'>\n",
      "<re.Match object; span=(0, 1), match='d'>\n",
      "<re.Match object; span=(0, 1), match='d'>\n"
     ]
    }
   ],
   "source": [
    "#^기호 뒤에 붙은 문자들을 제외한 모든 문자를 매치 \n",
    "r = re.compile(\"[^a]\")\n",
    "\n",
    "print(r.search(\"aaa\"))\n",
    "print(r.search(\"abbc\"))\n",
    "print(r.search(\"abbbbc\"))\n",
    "print(r.search(\"abbbbbbbbbbbc\"))\n",
    "print(r.search(\"ddd\"))\n",
    "print(r.search(\"dcf\"))"
   ]
  },
  {
   "cell_type": "markdown",
   "metadata": {},
   "source": [
    "- #### 정규표현식 | 기호"
   ]
  },
  {
   "cell_type": "code",
   "execution_count": 37,
   "metadata": {},
   "outputs": [
    {
     "name": "stdout",
     "output_type": "stream",
     "text": [
      "<re.Match object; span=(1, 2), match='A'>\n",
      "<re.Match object; span=(1, 2), match='a'>\n",
      "<re.Match object; span=(0, 1), match='A'>\n"
     ]
    }
   ],
   "source": [
    "r = re.compile(\"[A|a]\")\n",
    "\n",
    "print(r.search(\"BANANA\"))\n",
    "print(r.search(\"banana\"))\n",
    "print(r.search(\"Aa\"))\n"
   ]
  },
  {
   "cell_type": "markdown",
   "metadata": {},
   "source": [
    "- #### 정규표현식 함수"
   ]
  },
  {
   "cell_type": "code",
   "execution_count": null,
   "metadata": {},
   "outputs": [],
   "source": []
  },
  {
   "cell_type": "markdown",
   "metadata": {},
   "source": [
    "- #### re.match() 함수"
   ]
  },
  {
   "cell_type": "code",
   "execution_count": 39,
   "metadata": {},
   "outputs": [
    {
     "name": "stdout",
     "output_type": "stream",
     "text": [
      "<re.Match object; span=(3, 6), match='abc'>\n",
      "None\n",
      "<re.Match object; span=(0, 3), match='abc'>\n"
     ]
    }
   ],
   "source": [
    "#search와 조금 다름 search는 처음에 매치되지 않아도 괜찮음 \n",
    "#match 함수는 문자열 처음이 일치하지 않으면 그냥 지나감\n",
    "r = re.compile(\"ab.\")\n",
    "\n",
    "print(r.search(\"kkkabc\"))\n",
    "print(r.match(\"kkkabc\"))\n",
    "print(r.match(\"abckkk\"))"
   ]
  },
  {
   "cell_type": "markdown",
   "metadata": {},
   "source": [
    "- #### re.findall() 함수"
   ]
  },
  {
   "cell_type": "code",
   "execution_count": 40,
   "metadata": {},
   "outputs": [
    {
     "data": {
      "text/plain": [
       "['010', '1234', '1111', '10']"
      ]
     },
     "execution_count": 40,
     "metadata": {},
     "output_type": "execute_result"
    }
   ],
   "source": [
    "txt = \"\"\"\n",
    "Name : Pengsoo\n",
    "Phone : 010 - 1234 - 1111\n",
    "Species : Penguin\n",
    "Age : 10\n",
    "\"\"\"\n",
    "\n",
    "re.findall(\"\\d+\",txt)"
   ]
  },
  {
   "cell_type": "markdown",
   "metadata": {},
   "source": [
    "- #### re.sub() 함수"
   ]
  },
  {
   "cell_type": "code",
   "execution_count": 46,
   "metadata": {},
   "outputs": [
    {
     "name": "stdout",
     "output_type": "stream",
     "text": [
      "Name   Hihello life  Phone                  Age    \n",
      "Name***Hihello*life**Phone******************Age****\n",
      "NameHihellolifePhoneAge\n"
     ]
    }
   ],
   "source": [
    "#문자열에서 정규 표현식과 일치하는 부분에 대해서 다른 문자열로 대체하여 결과를 문자열로 반환\n",
    "#re.sub(찾고자하는 문자열,대체할 문자,확인할 문자열)\n",
    "txt = \"Name : Hihello4life, Phone : 010-1234-5678, Age: 10\"\n",
    "print(re.sub(\"[^a-zA-Z]\",\" \",txt))\n",
    "print(re.sub(\"[^a-zA-Z]\",\"*\",txt))\n",
    "print(re.sub(\"[^a-zA-Z]\",\"\",txt))"
   ]
  },
  {
   "cell_type": "markdown",
   "metadata": {},
   "source": [
    "- #### re.split() 함수"
   ]
  },
  {
   "cell_type": "code",
   "execution_count": 47,
   "metadata": {},
   "outputs": [
    {
     "data": {
      "text/plain": [
       "['사과', '딸기', '수박', '메론', '바나나']"
      ]
     },
     "execution_count": 47,
     "metadata": {},
     "output_type": "execute_result"
    }
   ],
   "source": [
    "#문자열을 끊어줌. 분리시켜주기\n",
    "#re.split(구분할 기준, 문자열 )\n",
    "\n",
    "txt=\"사과 딸기 수박 메론 바나나\"\n",
    "re.split(\" \" , txt) "
   ]
  },
  {
   "cell_type": "markdown",
   "metadata": {},
   "source": [
    "- #### grouping"
   ]
  },
  {
   "cell_type": "code",
   "execution_count": null,
   "metadata": {},
   "outputs": [],
   "source": []
  },
  {
   "cell_type": "markdown",
   "metadata": {},
   "source": [
    "### <연습문제>"
   ]
  },
  {
   "cell_type": "markdown",
   "metadata": {},
   "source": [
    "- #### 다음 txt에서 휴대폰 번호와 전화 번호를 모두 추출하시오.\n",
    "    - txt = \"제 휴대폰 번호는 010-1234-5678이고, 전화 번호는 02.987.6543입니다.\""
   ]
  },
  {
   "cell_type": "code",
   "execution_count": 53,
   "metadata": {},
   "outputs": [
    {
     "name": "stdout",
     "output_type": "stream",
     "text": [
      "휴대폰 번호 :  010 - 1234 - 5678\n",
      "전화 번호 :  02 - 987 - 6543\n"
     ]
    }
   ],
   "source": [
    "txt = \"제 휴대폰 번호는 010-1234-5678이고, 전화 번호는 02.987.6543입니다.\"\n",
    "list = re.findall(\"\\d+\",txt)\n",
    "print(\"휴대폰 번호 : \",list[0],\"-\",list[1],\"-\",list[2])\n",
    "print(\"전화 번호 : \" ,list[3],\"-\",list[4],\"-\",list[5])"
   ]
  },
  {
   "cell_type": "markdown",
   "metadata": {},
   "source": [
    "- #### 다음 주소 중 올바른 웹페이지(http, https)만 추출하시오."
   ]
  },
  {
   "cell_type": "code",
   "execution_count": 133,
   "metadata": {},
   "outputs": [],
   "source": [
    "webs = \"\"\"\n",
    "http://www.test.co.kr,\n",
    "https://www.test1.com,\n",
    "http://www.test.com,\n",
    "ftp://www.test.com,\n",
    "http:://www.test.com,\n",
    "htp://www.test.com,\n",
    "http://www.google.com,\n",
    "https://www.homepage.com,\n",
    "\"\"\""
   ]
  },
  {
   "cell_type": "code",
   "execution_count": 145,
   "metadata": {},
   "outputs": [
    {
     "data": {
      "text/plain": [
       "[('http://www.test.co', 'http', '', 'www', 'test', 'co'),\n",
       " ('https://www.test1.com', 'https', 's', 'www', 'test1', 'com'),\n",
       " ('http://www.test.com', 'http', '', 'www', 'test', 'com'),\n",
       " ('http://www.google.com', 'http', '', 'www', 'google', 'com'),\n",
       " ('https://www.homepage.com', 'https', 's', 'www', 'homepage', 'com')]"
      ]
     },
     "execution_count": 145,
     "metadata": {},
     "output_type": "execute_result"
    }
   ],
   "source": [
    "re.findall(\"((http(s?))://([a-z]{3}).(\\w{0,}).([a-z]{0,}))\",webs)\n",
    "\n",
    "# r = re.compile(\"(http(s?))://([a-z]{3}).(\\w{0,}).([a-z]{0,})\")\n",
    "\n",
    "# webs_split = re.split(\",\",webs)\n",
    "# print(webs_split)\n",
    "# for i in webs_split:\n",
    "#     print(i)\n",
    "    "
   ]
  },
  {
   "cell_type": "code",
   "execution_count": 109,
   "metadata": {},
   "outputs": [
    {
     "name": "stdout",
     "output_type": "stream",
     "text": [
      "<re.Match object; span=(24, 29), match='https'>\n"
     ]
    }
   ],
   "source": [
    "pattern = re.compile(\"http(s)\")\n",
    "r=pattern.search(webs)\n",
    "print(r)"
   ]
  },
  {
   "cell_type": "code",
   "execution_count": null,
   "metadata": {},
   "outputs": [],
   "source": []
  }
 ],
 "metadata": {
  "kernelspec": {
   "display_name": "Python 3",
   "language": "python",
   "name": "python3"
  },
  "language_info": {
   "codemirror_mode": {
    "name": "ipython",
    "version": 3
   },
   "file_extension": ".py",
   "mimetype": "text/x-python",
   "name": "python",
   "nbconvert_exporter": "python",
   "pygments_lexer": "ipython3",
   "version": "3.8.8"
  }
 },
 "nbformat": 4,
 "nbformat_minor": 4
}
