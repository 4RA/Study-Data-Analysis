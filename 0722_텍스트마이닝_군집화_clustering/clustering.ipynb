{
 "cells": [
  {
   "cell_type": "markdown",
   "metadata": {},
   "source": [
    "## 군집분석\n",
    "\n",
    "k-means, hierachical 이용함. \n",
    "군집분석은 유사한 데이터를 묶어주는 것 \n",
    "해당 군집에 대해서 분석하면 됨. \n",
    "\n",
    "### k -means : k개의 랜덤한 점을 찍고 가장 가까운 데이터를 묶어주고 또 묶인 애들 중 가까운 애들 찍음.\n",
    "\n",
    "유한양행, 복면가왕 왕밤빵 ,라돈"
   ]
  },
  {
   "cell_type": "code",
   "execution_count": null,
   "metadata": {},
   "outputs": [],
   "source": [
    "import pandas as pd \n",
    "import numpy as np\n",
    "\n",
    "\n",
    "from konlpy.tag import Okt\n",
    "from sklearn.feature_extraction.text import CountVectorizer\n",
    "from sklearn.cluster import KMeans"
   ]
  },
  {
   "cell_type": "code",
   "execution_count": null,
   "metadata": {},
   "outputs": [],
   "source": [
    "okt = Okt()\n",
    "\n",
    "df = pd.read_csv(\"clustering.csv\")\n",
    "df.head()"
   ]
  },
  {
   "cell_type": "code",
   "execution_count": null,
   "metadata": {},
   "outputs": [],
   "source": [
    "doc = []\n",
    "\n",
    "\n",
    "#기사에서 명사만 추출함. \n",
    "for i in df[\"기사내용\"]:\n",
    "    doc.append(okt.nouns(i))\n",
    "\n",
    "    \n",
    "\n",
    "#띄어쓰기 포함하여 명사만 추출해서 붙여줌. \n",
    "for i in range(len(doc)):\n",
    "    doc[i] = \" \".join(doc[i])\n",
    "    \n",
    "\n",
    "doc[0]"
   ]
  },
  {
   "cell_type": "code",
   "execution_count": null,
   "metadata": {},
   "outputs": [],
   "source": [
    "cv = CountVectorizer()\n",
    "X = cv.fit_transform(doc)"
   ]
  },
  {
   "cell_type": "code",
   "execution_count": null,
   "metadata": {},
   "outputs": [],
   "source": [
    "cv.get_feature_names()"
   ]
  },
  {
   "cell_type": "code",
   "execution_count": null,
   "metadata": {},
   "outputs": [],
   "source": [
    "df_cv = pd.DataFrame(X.toarray(), columns = cv.get_feature_names())\n",
    "df_cv"
   ]
  },
  {
   "cell_type": "markdown",
   "metadata": {},
   "source": [
    "## k-means"
   ]
  },
  {
   "cell_type": "code",
   "execution_count": null,
   "metadata": {},
   "outputs": [],
   "source": [
    "#kmeans k는 3으로 \n",
    "kmeans= KMeans(n_clusters=3).fit(df_cv)\n",
    "kmeans.labels_"
   ]
  },
  {
   "cell_type": "code",
   "execution_count": null,
   "metadata": {},
   "outputs": [],
   "source": [
    "len(cv.get_feature_names())"
   ]
  },
  {
   "cell_type": "code",
   "execution_count": null,
   "metadata": {},
   "outputs": [],
   "source": [
    "#평면에 시각화 해보려고 함. \n",
    "from sklearn.decomposition import PCA\n",
    "import matplotlib.pyplot as plt \n",
    "\n",
    "pca = PCA(n_components = 2) #이차원으로 축소 \n",
    "PC =  pca.fit_transform(df_cv) \n",
    "\n",
    "PC_df = pd.DataFrame(data= PC, columns = ['pc1','pc2']) #결과를 dataFrame 형식으로 바꿔서 확인 \n",
    "PC_df.index = df['검색어']"
   ]
  },
  {
   "cell_type": "code",
   "execution_count": null,
   "metadata": {},
   "outputs": [],
   "source": [
    "PC_df"
   ]
  },
  {
   "cell_type": "code",
   "execution_count": null,
   "metadata": {},
   "outputs": [],
   "source": [
    "#x축 : first \n",
    "#y축 : second 번호로 나타낸 후 \n",
    "#plot 으로 시각화\n",
    "\n",
    "plt.scatter(PC_df.iloc[kmeans.labels == 0 ,0], PC_df.iloc[kmeans.labels_ == 0 ,1],\n",
    "           s = 10,c='red',label = 'cluster0')\n",
    "\n",
    "plt.scatter(PC_df.iloc[kmeans.labels == 1 ,0], PC_df.iloc[kmeans.labels_ == 1 ,1],\n",
    "           s = 10,c='blue',label = 'cluster1')\n",
    "\n",
    "plt.scatter(PC_df.iloc[kmeans.labels == 2 ,0], PC_df.iloc[kmeans.labels_ == 2 ,1],\n",
    "           s = 10,c='green',label = 'cluster2')\n",
    "\n",
    "\n",
    "plt.legend()\n",
    "plt.show()"
   ]
  },
  {
   "cell_type": "markdown",
   "metadata": {},
   "source": [
    "### 계층 분할 (Hierachical)\n"
   ]
  },
  {
   "cell_type": "code",
   "execution_count": null,
   "metadata": {},
   "outputs": [],
   "source": [
    "from sklearn.cluster import AgglomerativeClustering\n",
    "import scipy.cluster.hierarchy as shc\n"
   ]
  },
  {
   "cell_type": "code",
   "execution_count": null,
   "metadata": {},
   "outputs": [],
   "source": [
    "df_cv"
   ]
  },
  {
   "cell_type": "code",
   "execution_count": null,
   "metadata": {},
   "outputs": [],
   "source": [
    "cluster = AgglomerativeClustering(n_clusters = 3, linkage= 'ward')\n",
    "cluster.fit_predict(df_cv)\n",
    "\n",
    "plt.figure()\n",
    "plt.title(\"Customer Dendrograms\")\n",
    "dend = shc.dendrogram(shc.linkage(df_cv,method='ward'))"
   ]
  },
  {
   "cell_type": "code",
   "execution_count": null,
   "metadata": {},
   "outputs": [],
   "source": [
    "print(doc[5])\n",
    "print(\"===================================\")\n",
    "print(doc[11])"
   ]
  },
  {
   "cell_type": "code",
   "execution_count": null,
   "metadata": {},
   "outputs": [],
   "source": [
    "#형태소 분석기를 한나눔으로 한다면/\n",
    "from konlpy.tag import Hannanum\n",
    "\n",
    "\n",
    "han = Hannanum()\n",
    "df = pd.read_csv(\"clustering.csv\")\n",
    "df.head()\n",
    "doc = []\n",
    "\n",
    "\n",
    "#기사에서 명사만 추출함. \n",
    "for i in df[\"기사내용\"]:\n",
    "    doc.append(han.nouns(i))\n",
    "\n",
    "    \n",
    "\n",
    "#띄어쓰기 포함하여 명사만 추출해서 붙여줌. \n",
    "for i in range(len(doc)):\n",
    "    doc[i] = \" \".join(doc[i])\n",
    "    \n",
    "\n",
    "doc[0]\n",
    "\n",
    "cv = CountVectorizer()\n",
    "X = cv.fit_transform(doc)\n",
    "df_cv = pd.DataFrame(X.toarray(), columns = cv.get_feature_names())\n",
    "df_cv\n",
    "\n",
    "\n",
    "#kmeans k는 3으로 \n",
    "kmeans= KMeans(n_clusters=3).fit(df_cv)\n",
    "kmeans.labels_\n",
    "len(cv.get_feature_names())\n",
    "\n",
    "#평면에 시각화 해보려고 함. \n",
    "from sklearn.decomposition import PCA\n",
    "import matplotlib.pyplot as plt \n",
    "\n",
    "pca = PCA(n_components = 2) #이차원으로 축소 \n",
    "PC =  pca.fit_transform(df_cv) \n",
    "\n",
    "PC_df = pd.DataFrame(data= PC, columns = ['pc1','pc2']) #결과를 dataFrame 형식으로 바꿔서 확인 \n",
    "PC_df.index = df['검색어']\n",
    "\n",
    "from sklearn.cluster import AgglomerativeClustering\n",
    "import scipy.cluster.hierarchy as shc\n",
    "cluster = AgglomerativeClustering(n_clusters = 3, linkage= 'ward')\n",
    "cluster.fit_predict(df_cv)\n",
    "\n",
    "plt.figure()\n",
    "plt.title(\"Customer Dendrograms\")\n",
    "dend = shc.dendrogram(shc.linkage(df_cv,method='ward'))\n",
    "print(doc[5])\n",
    "print(\"===================================\")\n",
    "print(doc[11])"
   ]
  },
  {
   "cell_type": "code",
   "execution_count": null,
   "metadata": {},
   "outputs": [],
   "source": [
    "#형태소 분석기를 Komoran으로 한다면/\n",
    "from konlpy.tag import Komoran\n",
    "\n",
    "\n",
    "kom = Komoran()\n",
    "df = pd.read_csv(\"clustering.csv\")\n",
    "df.head()\n",
    "doc = []\n",
    "\n",
    "\n",
    "#기사에서 명사만 추출함. \n",
    "for i in df[\"기사내용\"]:\n",
    "    doc.append(kom.nouns(i))\n",
    "\n",
    "    \n",
    "\n",
    "#띄어쓰기 포함하여 명사만 추출해서 붙여줌. \n",
    "for i in range(len(doc)):\n",
    "    doc[i] = \" \".join(doc[i])\n",
    "    \n",
    "\n",
    "doc[0]\n",
    "\n",
    "cv = CountVectorizer()\n",
    "X = cv.fit_transform(doc)\n",
    "df_cv = pd.DataFrame(X.toarray(), columns = cv.get_feature_names())\n",
    "df_cv\n",
    "\n",
    "\n",
    "#kmeans k는 3으로 \n",
    "kmeans= KMeans(n_clusters=3).fit(df_cv)\n",
    "kmeans.labels_\n",
    "len(cv.get_feature_names())\n",
    "\n",
    "#평면에 시각화 해보려고 함. \n",
    "from sklearn.decomposition import PCA\n",
    "import matplotlib.pyplot as plt \n",
    "\n",
    "pca = PCA(n_components = 2) #이차원으로 축소 \n",
    "PC =  pca.fit_transform(df_cv) \n",
    "\n",
    "PC_df = pd.DataFrame(data= PC, columns = ['pc1','pc2']) #결과를 dataFrame 형식으로 바꿔서 확인 \n",
    "PC_df.index = df['검색어']\n",
    "\n",
    "from sklearn.cluster import AgglomerativeClustering\n",
    "import scipy.cluster.hierarchy as shc\n",
    "cluster = AgglomerativeClustering(n_clusters = 3, linkage= 'ward')\n",
    "cluster.fit_predict(df_cv)\n",
    "\n",
    "plt.figure()\n",
    "plt.title(\"Customer Dendrograms\")\n",
    "dend = shc.dendrogram(shc.linkage(df_cv,method='ward'))\n",
    "print(doc[5])\n",
    "print(\"===================================\")\n",
    "print(doc[11])"
   ]
  }
 ],
 "metadata": {
  "kernelspec": {
   "display_name": "Python 3",
   "language": "python",
   "name": "python3"
  },
  "language_info": {
   "codemirror_mode": {
    "name": "ipython",
    "version": 3
   },
   "file_extension": ".py",
   "mimetype": "text/x-python",
   "name": "python",
   "nbconvert_exporter": "python",
   "pygments_lexer": "ipython3",
   "version": "3.8.8"
  }
 },
 "nbformat": 4,
 "nbformat_minor": 4
}
