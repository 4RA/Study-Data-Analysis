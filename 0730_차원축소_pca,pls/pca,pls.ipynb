{
 "cells": [
  {
   "cell_type": "markdown",
   "metadata": {},
   "source": [
    "### 사이킷런으로 회귀분석"
   ]
  },
  {
   "cell_type": "markdown",
   "metadata": {},
   "source": [
    "- from sklearn.linear_model import LinearRegression"
   ]
  },
  {
   "cell_type": "code",
   "execution_count": 26,
   "metadata": {},
   "outputs": [],
   "source": [
    "import pandas as pd\n",
    "import numpy as np\n",
    "from sklearn import datasets\n",
    "from sklearn.model_selection import train_test_split\n",
    "from sklearn.pipeline import make_pipeline\n",
    "from sklearn.linear_model import LinearRegression\n",
    "from sklearn.preprocessing import StandardScaler\n",
    "from sklearn.decomposition import PCA\n",
    "from sklearn.cross_decomposition import PLSRegression"
   ]
  },
  {
   "cell_type": "code",
   "execution_count": 27,
   "metadata": {},
   "outputs": [
    {
     "data": {
      "text/html": [
       "<div>\n",
       "<style scoped>\n",
       "    .dataframe tbody tr th:only-of-type {\n",
       "        vertical-align: middle;\n",
       "    }\n",
       "\n",
       "    .dataframe tbody tr th {\n",
       "        vertical-align: top;\n",
       "    }\n",
       "\n",
       "    .dataframe thead th {\n",
       "        text-align: right;\n",
       "    }\n",
       "</style>\n",
       "<table border=\"1\" class=\"dataframe\">\n",
       "  <thead>\n",
       "    <tr style=\"text-align: right;\">\n",
       "      <th></th>\n",
       "      <th>CRIM</th>\n",
       "      <th>ZN</th>\n",
       "      <th>INDUS</th>\n",
       "      <th>CHAS</th>\n",
       "      <th>NOX</th>\n",
       "      <th>RM</th>\n",
       "      <th>AGE</th>\n",
       "      <th>DIS</th>\n",
       "      <th>RAD</th>\n",
       "      <th>TAX</th>\n",
       "      <th>PTRATIO</th>\n",
       "      <th>B</th>\n",
       "      <th>LSTAT</th>\n",
       "      <th>PRICE</th>\n",
       "    </tr>\n",
       "  </thead>\n",
       "  <tbody>\n",
       "    <tr>\n",
       "      <th>0</th>\n",
       "      <td>0.00632</td>\n",
       "      <td>18.0</td>\n",
       "      <td>2.31</td>\n",
       "      <td>0.0</td>\n",
       "      <td>0.538</td>\n",
       "      <td>6.575</td>\n",
       "      <td>65.2</td>\n",
       "      <td>4.0900</td>\n",
       "      <td>1.0</td>\n",
       "      <td>296.0</td>\n",
       "      <td>15.3</td>\n",
       "      <td>396.90</td>\n",
       "      <td>4.98</td>\n",
       "      <td>24.0</td>\n",
       "    </tr>\n",
       "    <tr>\n",
       "      <th>1</th>\n",
       "      <td>0.02731</td>\n",
       "      <td>0.0</td>\n",
       "      <td>7.07</td>\n",
       "      <td>0.0</td>\n",
       "      <td>0.469</td>\n",
       "      <td>6.421</td>\n",
       "      <td>78.9</td>\n",
       "      <td>4.9671</td>\n",
       "      <td>2.0</td>\n",
       "      <td>242.0</td>\n",
       "      <td>17.8</td>\n",
       "      <td>396.90</td>\n",
       "      <td>9.14</td>\n",
       "      <td>21.6</td>\n",
       "    </tr>\n",
       "    <tr>\n",
       "      <th>2</th>\n",
       "      <td>0.02729</td>\n",
       "      <td>0.0</td>\n",
       "      <td>7.07</td>\n",
       "      <td>0.0</td>\n",
       "      <td>0.469</td>\n",
       "      <td>7.185</td>\n",
       "      <td>61.1</td>\n",
       "      <td>4.9671</td>\n",
       "      <td>2.0</td>\n",
       "      <td>242.0</td>\n",
       "      <td>17.8</td>\n",
       "      <td>392.83</td>\n",
       "      <td>4.03</td>\n",
       "      <td>34.7</td>\n",
       "    </tr>\n",
       "    <tr>\n",
       "      <th>3</th>\n",
       "      <td>0.03237</td>\n",
       "      <td>0.0</td>\n",
       "      <td>2.18</td>\n",
       "      <td>0.0</td>\n",
       "      <td>0.458</td>\n",
       "      <td>6.998</td>\n",
       "      <td>45.8</td>\n",
       "      <td>6.0622</td>\n",
       "      <td>3.0</td>\n",
       "      <td>222.0</td>\n",
       "      <td>18.7</td>\n",
       "      <td>394.63</td>\n",
       "      <td>2.94</td>\n",
       "      <td>33.4</td>\n",
       "    </tr>\n",
       "    <tr>\n",
       "      <th>4</th>\n",
       "      <td>0.06905</td>\n",
       "      <td>0.0</td>\n",
       "      <td>2.18</td>\n",
       "      <td>0.0</td>\n",
       "      <td>0.458</td>\n",
       "      <td>7.147</td>\n",
       "      <td>54.2</td>\n",
       "      <td>6.0622</td>\n",
       "      <td>3.0</td>\n",
       "      <td>222.0</td>\n",
       "      <td>18.7</td>\n",
       "      <td>396.90</td>\n",
       "      <td>5.33</td>\n",
       "      <td>36.2</td>\n",
       "    </tr>\n",
       "  </tbody>\n",
       "</table>\n",
       "</div>"
      ],
      "text/plain": [
       "      CRIM    ZN  INDUS  CHAS    NOX     RM   AGE     DIS  RAD    TAX  \\\n",
       "0  0.00632  18.0   2.31   0.0  0.538  6.575  65.2  4.0900  1.0  296.0   \n",
       "1  0.02731   0.0   7.07   0.0  0.469  6.421  78.9  4.9671  2.0  242.0   \n",
       "2  0.02729   0.0   7.07   0.0  0.469  7.185  61.1  4.9671  2.0  242.0   \n",
       "3  0.03237   0.0   2.18   0.0  0.458  6.998  45.8  6.0622  3.0  222.0   \n",
       "4  0.06905   0.0   2.18   0.0  0.458  7.147  54.2  6.0622  3.0  222.0   \n",
       "\n",
       "   PTRATIO       B  LSTAT  PRICE  \n",
       "0     15.3  396.90   4.98   24.0  \n",
       "1     17.8  396.90   9.14   21.6  \n",
       "2     17.8  392.83   4.03   34.7  \n",
       "3     18.7  394.63   2.94   33.4  \n",
       "4     18.7  396.90   5.33   36.2  "
      ]
     },
     "execution_count": 27,
     "metadata": {},
     "output_type": "execute_result"
    }
   ],
   "source": [
    "boston = datasets.load_boston()\n",
    "boston_df = pd.DataFrame(boston.data,columns=boston.feature_names)\n",
    "boston_df[\"PRICE\"] =pd.DataFrame(boston.target)\n",
    "boston_df.head()"
   ]
  },
  {
   "cell_type": "code",
   "execution_count": 28,
   "metadata": {},
   "outputs": [],
   "source": [
    "from sklearn.model_selection import train_test_split\n",
    "\n",
    "x= boston_df[['CRIM','RM','LSTAT']]\n",
    "y= boston_df[[\"PRICE\"]]\n",
    "\n",
    "X_train,X_test,y_train,y_test = train_test_split(x,y,train_size=0.7,test_size=0.3,random_state = 102)\n"
   ]
  },
  {
   "cell_type": "code",
   "execution_count": 29,
   "metadata": {},
   "outputs": [],
   "source": [
    "import matplotlib.pyplot as plt"
   ]
  },
  {
   "cell_type": "code",
   "execution_count": 30,
   "metadata": {},
   "outputs": [
    {
     "data": {
      "text/plain": [
       "LinearRegression()"
      ]
     },
     "execution_count": 30,
     "metadata": {},
     "output_type": "execute_result"
    }
   ],
   "source": [
    "from sklearn.linear_model import LinearRegression\n",
    "from sklearn.metrics import mean_squared_error, r2_score\n",
    "\n",
    "lr = LinearRegression()\n",
    "lr.fit(x_train,y_train)"
   ]
  },
  {
   "cell_type": "code",
   "execution_count": 31,
   "metadata": {},
   "outputs": [
    {
     "data": {
      "text/plain": [
       "array([[ 5.43992518],\n",
       "       [26.37917636],\n",
       "       [18.94428761],\n",
       "       [27.19624222],\n",
       "       [28.7577541 ],\n",
       "       [11.54320186],\n",
       "       [22.60382108],\n",
       "       [18.56894956],\n",
       "       [ 5.5189754 ],\n",
       "       [11.83167992],\n",
       "       [23.13446345],\n",
       "       [27.13803424],\n",
       "       [12.31630087],\n",
       "       [21.34604968],\n",
       "       [36.30714108],\n",
       "       [18.43268868],\n",
       "       [16.75470946],\n",
       "       [31.76210091],\n",
       "       [20.34310735],\n",
       "       [27.90833785],\n",
       "       [36.19906964],\n",
       "       [23.0030261 ],\n",
       "       [26.86862663],\n",
       "       [25.96625858],\n",
       "       [33.1261359 ],\n",
       "       [26.63207448],\n",
       "       [20.48925033],\n",
       "       [31.19211744],\n",
       "       [17.01086054],\n",
       "       [ 9.19879965],\n",
       "       [18.76990631],\n",
       "       [32.16141671],\n",
       "       [25.62685655],\n",
       "       [25.62862505],\n",
       "       [27.68600476],\n",
       "       [29.32264526],\n",
       "       [14.26393235],\n",
       "       [18.39887075],\n",
       "       [17.41832321],\n",
       "       [21.10665804],\n",
       "       [23.36515342],\n",
       "       [26.43292936],\n",
       "       [27.98500278],\n",
       "       [28.36152478],\n",
       "       [20.5678498 ],\n",
       "       [37.67807452],\n",
       "       [23.09893839],\n",
       "       [20.55536597],\n",
       "       [12.03759163],\n",
       "       [24.19180889],\n",
       "       [30.36040898],\n",
       "       [19.41489179],\n",
       "       [26.37900367],\n",
       "       [24.74811052],\n",
       "       [31.19112208],\n",
       "       [20.04150191],\n",
       "       [28.25650288],\n",
       "       [21.39002252],\n",
       "       [ 9.9916008 ],\n",
       "       [ 8.00493525],\n",
       "       [12.44360911],\n",
       "       [23.09552738],\n",
       "       [-6.0309992 ],\n",
       "       [21.18897877],\n",
       "       [31.27134072],\n",
       "       [19.24640807],\n",
       "       [25.54162928],\n",
       "       [32.49474297],\n",
       "       [23.95720573],\n",
       "       [27.59659365],\n",
       "       [24.65092087],\n",
       "       [25.32328041],\n",
       "       [29.45593048],\n",
       "       [28.78545049],\n",
       "       [24.26361995],\n",
       "       [24.221034  ],\n",
       "       [22.86012485],\n",
       "       [14.07105796],\n",
       "       [12.25254941],\n",
       "       [31.47361713],\n",
       "       [25.74808275],\n",
       "       [22.0924926 ],\n",
       "       [18.01700742],\n",
       "       [ 3.48481466],\n",
       "       [40.32502195],\n",
       "       [25.37392646],\n",
       "       [20.09586598],\n",
       "       [10.95964651],\n",
       "       [25.89568948],\n",
       "       [26.35742321],\n",
       "       [27.61286027],\n",
       "       [13.17502135],\n",
       "       [26.86208198],\n",
       "       [18.07947139],\n",
       "       [29.66149306],\n",
       "       [17.72189356],\n",
       "       [17.90312547],\n",
       "       [28.71459089],\n",
       "       [30.08658576],\n",
       "       [19.29679532],\n",
       "       [18.34232148],\n",
       "       [19.57823675],\n",
       "       [16.98549053],\n",
       "       [29.52482514],\n",
       "       [15.81076385],\n",
       "       [11.75566606],\n",
       "       [23.05482212],\n",
       "       [ 5.49540134],\n",
       "       [27.26711743],\n",
       "       [20.54778008],\n",
       "       [24.60643359],\n",
       "       [25.22935392],\n",
       "       [21.02959415],\n",
       "       [33.16535649],\n",
       "       [15.90244216],\n",
       "       [22.28273864],\n",
       "       [12.56484064],\n",
       "       [21.10958607],\n",
       "       [33.64240305],\n",
       "       [ 9.32344128],\n",
       "       [16.06092246],\n",
       "       [18.03145101],\n",
       "       [23.81345249],\n",
       "       [19.17363307],\n",
       "       [26.54653926],\n",
       "       [21.52506483],\n",
       "       [31.63907769],\n",
       "       [20.46586996],\n",
       "       [15.5228598 ],\n",
       "       [18.69834818],\n",
       "       [ 7.59604702],\n",
       "       [24.57587543],\n",
       "       [25.32659662],\n",
       "       [32.23075634],\n",
       "       [29.00655348],\n",
       "       [26.57010826],\n",
       "       [19.94784981],\n",
       "       [10.9235273 ],\n",
       "       [30.35197015],\n",
       "       [21.70350715],\n",
       "       [26.08790602],\n",
       "       [17.23213432],\n",
       "       [20.93617135],\n",
       "       [19.06054389],\n",
       "       [23.96122588],\n",
       "       [37.83772961],\n",
       "       [31.33232107],\n",
       "       [ 9.19103915],\n",
       "       [19.85853217],\n",
       "       [23.32634075],\n",
       "       [21.7784779 ],\n",
       "       [19.79928622]])"
      ]
     },
     "execution_count": 31,
     "metadata": {},
     "output_type": "execute_result"
    }
   ],
   "source": [
    "y_pred = lr.predict(x_test)\n",
    "y_pred"
   ]
  },
  {
   "cell_type": "code",
   "execution_count": 32,
   "metadata": {},
   "outputs": [
    {
     "data": {
      "text/plain": [
       "28.05204389950628"
      ]
     },
     "execution_count": 32,
     "metadata": {},
     "output_type": "execute_result"
    }
   ],
   "source": [
    "mse = mean_squared_error(y_test,y_pred)\n",
    "mse"
   ]
  },
  {
   "cell_type": "code",
   "execution_count": 33,
   "metadata": {},
   "outputs": [
    {
     "data": {
      "text/plain": [
       "0.6355016044016517"
      ]
     },
     "execution_count": 33,
     "metadata": {},
     "output_type": "execute_result"
    }
   ],
   "source": [
    "r2 = r2_score(y_test,y_pred)\n",
    "r2"
   ]
  },
  {
   "cell_type": "code",
   "execution_count": 34,
   "metadata": {},
   "outputs": [
    {
     "name": "stdout",
     "output_type": "stream",
     "text": [
      "절편(베타이): [-2.1790669]\n",
      "회귀계수:; [[-0.11503944  5.19512234 -0.5967032 ]]\n"
     ]
    }
   ],
   "source": [
    "print(\"절편(베타이):\",lr.intercept_)\n",
    "print(\"회귀계수:;\",lr.coef_)"
   ]
  },
  {
   "cell_type": "code",
   "execution_count": 35,
   "metadata": {},
   "outputs": [
    {
     "data": {
      "text/html": [
       "<div>\n",
       "<style scoped>\n",
       "    .dataframe tbody tr th:only-of-type {\n",
       "        vertical-align: middle;\n",
       "    }\n",
       "\n",
       "    .dataframe tbody tr th {\n",
       "        vertical-align: top;\n",
       "    }\n",
       "\n",
       "    .dataframe thead th {\n",
       "        text-align: right;\n",
       "    }\n",
       "</style>\n",
       "<table border=\"1\" class=\"dataframe\">\n",
       "  <thead>\n",
       "    <tr style=\"text-align: right;\">\n",
       "      <th></th>\n",
       "      <th>coeff</th>\n",
       "    </tr>\n",
       "  </thead>\n",
       "  <tbody>\n",
       "    <tr>\n",
       "      <th>CRIM</th>\n",
       "      <td>-0.115039</td>\n",
       "    </tr>\n",
       "    <tr>\n",
       "      <th>RM</th>\n",
       "      <td>5.195122</td>\n",
       "    </tr>\n",
       "    <tr>\n",
       "      <th>LSTAT</th>\n",
       "      <td>-0.596703</td>\n",
       "    </tr>\n",
       "  </tbody>\n",
       "</table>\n",
       "</div>"
      ],
      "text/plain": [
       "          coeff\n",
       "CRIM  -0.115039\n",
       "RM     5.195122\n",
       "LSTAT -0.596703"
      ]
     },
     "execution_count": 35,
     "metadata": {},
     "output_type": "execute_result"
    }
   ],
   "source": [
    "coeff = pd.DataFrame(lr.coef_.T,index =x.columns,columns=[\"coeff\"])\n",
    "coeff"
   ]
  },
  {
   "cell_type": "code",
   "execution_count": 36,
   "metadata": {},
   "outputs": [
    {
     "name": "stdout",
     "output_type": "stream",
     "text": [
      "r2 :  0.6355016044016517\n",
      "절편(베타이): [-2.1790669]\n",
      "회귀계수:; [[-0.11503944  5.19512234 -0.5967032 ]]\n"
     ]
    },
    {
     "data": {
      "text/html": [
       "<div>\n",
       "<style scoped>\n",
       "    .dataframe tbody tr th:only-of-type {\n",
       "        vertical-align: middle;\n",
       "    }\n",
       "\n",
       "    .dataframe tbody tr th {\n",
       "        vertical-align: top;\n",
       "    }\n",
       "\n",
       "    .dataframe thead th {\n",
       "        text-align: right;\n",
       "    }\n",
       "</style>\n",
       "<table border=\"1\" class=\"dataframe\">\n",
       "  <thead>\n",
       "    <tr style=\"text-align: right;\">\n",
       "      <th></th>\n",
       "      <th>coeff</th>\n",
       "    </tr>\n",
       "  </thead>\n",
       "  <tbody>\n",
       "    <tr>\n",
       "      <th>CRIM</th>\n",
       "      <td>-0.115039</td>\n",
       "    </tr>\n",
       "    <tr>\n",
       "      <th>RM</th>\n",
       "      <td>5.195122</td>\n",
       "    </tr>\n",
       "    <tr>\n",
       "      <th>LSTAT</th>\n",
       "      <td>-0.596703</td>\n",
       "    </tr>\n",
       "  </tbody>\n",
       "</table>\n",
       "</div>"
      ],
      "text/plain": [
       "          coeff\n",
       "CRIM  -0.115039\n",
       "RM     5.195122\n",
       "LSTAT -0.596703"
      ]
     },
     "execution_count": 36,
     "metadata": {},
     "output_type": "execute_result"
    }
   ],
   "source": [
    "from sklearn.linear_model import LinearRegression\n",
    "from sklearn.metrics import mean_squared_error, r2_score\n",
    "\n",
    "lr = LinearRegression()\n",
    "lr.fit(x_train,y_train)\n",
    "\n",
    "y_pred = lr.predict(x_test)\n",
    "mse = mean_squared_error(y_test,y_pred)\n",
    "\n",
    "\n",
    "r2 = r2_score(y_test,y_pred)\n",
    "print(\"r2 : \",r2)\n",
    "print(\"절편(베타이):\",lr.intercept_)\n",
    "print(\"회귀계수:;\",lr.coef_)\n",
    "\n",
    "coeff = pd.DataFrame(lr.coef_.T,index =x.columns,columns=[\"coeff\"])\n",
    "coeff"
   ]
  },
  {
   "cell_type": "code",
   "execution_count": 37,
   "metadata": {},
   "outputs": [
    {
     "data": {
      "text/plain": [
       "<matplotlib.legend.Legend at 0x2d652a66ee0>"
      ]
     },
     "execution_count": 37,
     "metadata": {},
     "output_type": "execute_result"
    },
    {
     "data": {
      "image/png": "[encoded data removed]",
      "text/plain": [
       "<Figure size 720x216 with 2 Axes>"
      ]
     },
     "metadata": {
      "needs_background": "light"
     },
     "output_type": "display_data"
    }
   ],
   "source": [
    "pcr = make_pipeline(StandardScaler(), PCA(n_components=1), LinearRegression())\n",
    "pcr.fit(X_train, y_train)\n",
    "pca = pcr.named_steps['pca']  # retrieve the PCA step of the pipeline\n",
    "\n",
    "pls = PLSRegression(n_components=1)\n",
    "pls.fit(X_train, y_train)\n",
    "\n",
    "fig, axes = plt.subplots(1, 2, figsize=(10, 3))\n",
    "axes[0].scatter(pca.transform(X_test), y_test, alpha=.3, label='ground truth')\n",
    "axes[0].scatter(pca.transform(X_test), pcr.predict(X_test), alpha=.3,\n",
    "                label='predictions')\n",
    "axes[0].set(xlabel='Projected data onto first PCA component',\n",
    "            ylabel='y', title='PCR / PCA')\n",
    "axes[0].legend()\n",
    "axes[1].scatter(pls.transform(X_test), y_test, alpha=.3, label='ground truth')\n",
    "axes[1].scatter(pls.transform(X_test), pls.predict(X_test), alpha=.3,\n",
    "                label='predictions')\n",
    "axes[1].set(xlabel='Projected data onto first PLS component',\n",
    "            ylabel='y', title='PLS')\n",
    "axes[1].legend()\n",
    "\n",
    "\n"
   ]
  },
  {
   "cell_type": "code",
   "execution_count": 38,
   "metadata": {},
   "outputs": [
    {
     "name": "stdout",
     "output_type": "stream",
     "text": [
      "PCR r-squared 0.591\n",
      "PLS r-squared 0.617\n"
     ]
    }
   ],
   "source": [
    "print(f\"PCR r-squared {pcr.score(X_test, y_test):.3f}\")\n",
    "print(f\"PLS r-squared {pls.score(X_test, y_test):.3f}\")"
   ]
  },
  {
   "cell_type": "code",
   "execution_count": 39,
   "metadata": {},
   "outputs": [
    {
     "name": "stdout",
     "output_type": "stream",
     "text": [
      "PCR r-squared with 2 components 0.553\n"
     ]
    }
   ],
   "source": [
    "pca_2 = make_pipeline(PCA(n_components=2), LinearRegression())\n",
    "pca_2.fit(X_train, y_train)\n",
    "print(f\"PCR r-squared with 2 components {pca_2.score(X_test, y_test):.3f}\")"
   ]
  },
  {
   "cell_type": "code",
   "execution_count": null,
   "metadata": {},
   "outputs": [],
   "source": []
  }
 ],
 "metadata": {
  "kernelspec": {
   "display_name": "Python 3",
   "language": "python",
   "name": "python3"
  },
  "language_info": {
   "codemirror_mode": {
    "name": "ipython",
    "version": 3
   },
   "file_extension": ".py",
   "mimetype": "text/x-python",
   "name": "python",
   "nbconvert_exporter": "python",
   "pygments_lexer": "ipython3",
   "version": "3.8.8"
  }
 },
 "nbformat": 4,
 "nbformat_minor": 4
}
