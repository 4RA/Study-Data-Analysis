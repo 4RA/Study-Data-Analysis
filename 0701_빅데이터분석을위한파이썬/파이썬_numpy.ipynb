{
 "cells": [
  {
   "cell_type": "markdown",
   "metadata": {},
   "source": [
    "## NumPy"
   ]
  },
  {
   "cell_type": "code",
   "execution_count": 1,
   "metadata": {},
   "outputs": [],
   "source": [
    "import numpy as np"
   ]
  },
  {
   "cell_type": "markdown",
   "metadata": {},
   "source": [
    "- ### ndarray 생성(1)"
   ]
  },
  {
   "cell_type": "markdown",
   "metadata": {},
   "source": [
    "- #### np.array() 함수"
   ]
  },
  {
   "cell_type": "code",
   "execution_count": 4,
   "metadata": {},
   "outputs": [
    {
     "name": "stdout",
     "output_type": "stream",
     "text": [
      "[1 2 3 4]\n",
      "[[1 3 5]\n",
      " [2 4 6]]\n"
     ]
    }
   ],
   "source": [
    "x = np.array([1,2,3,4]) \n",
    "print(x)\n",
    "\n",
    "y=np.array([[1,3,5],[2,4,6]])\n",
    "print(y)"
   ]
  },
  {
   "cell_type": "markdown",
   "metadata": {},
   "source": [
    "- #### np.arange() 함수"
   ]
  },
  {
   "cell_type": "code",
   "execution_count": 7,
   "metadata": {},
   "outputs": [
    {
     "data": {
      "text/plain": [
       "array([0, 1, 2, 3, 4, 5, 6, 7, 8, 9])"
      ]
     },
     "execution_count": 7,
     "metadata": {},
     "output_type": "execute_result"
    }
   ],
   "source": [
    "np.arange(10) #list대신 empty array 반환 \n"
   ]
  },
  {
   "cell_type": "code",
   "execution_count": null,
   "metadata": {},
   "outputs": [],
   "source": []
  },
  {
   "cell_type": "markdown",
   "metadata": {},
   "source": [
    "- #### np.ones() 함수\n",
    "- #### np.zeros() 함수"
   ]
  },
  {
   "cell_type": "code",
   "execution_count": 8,
   "metadata": {
    "scrolled": true
   },
   "outputs": [
    {
     "data": {
      "text/plain": [
       "array([[1., 1., 1., 1., 1.],\n",
       "       [1., 1., 1., 1., 1.],\n",
       "       [1., 1., 1., 1., 1.],\n",
       "       [1., 1., 1., 1., 1.]])"
      ]
     },
     "execution_count": 8,
     "metadata": {},
     "output_type": "execute_result"
    }
   ],
   "source": [
    "np.ones((4,5)) #전부 1이 들어간 배열 생성"
   ]
  },
  {
   "cell_type": "code",
   "execution_count": 11,
   "metadata": {},
   "outputs": [
    {
     "ename": "SyntaxError",
     "evalue": "unexpected EOF while parsing (<ipython-input-11-834472b623b9>, line 1)",
     "output_type": "error",
     "traceback": [
      "\u001b[1;36m  File \u001b[1;32m\"<ipython-input-11-834472b623b9>\"\u001b[1;36m, line \u001b[1;32m1\u001b[0m\n\u001b[1;33m    np.zeros((2,3,4) #전부 0이 들어간 배열 생성\u001b[0m\n\u001b[1;37m                                      ^\u001b[0m\n\u001b[1;31mSyntaxError\u001b[0m\u001b[1;31m:\u001b[0m unexpected EOF while parsing\n"
     ]
    }
   ],
   "source": [
    "np.zeros((2,3,4) #전부 0이 들어간 배열 생성 "
   ]
  },
  {
   "cell_type": "markdown",
   "metadata": {},
   "source": [
    "- #### np.empty() 함수\n",
    "- #### np.full() 함수"
   ]
  },
  {
   "cell_type": "code",
   "execution_count": 12,
   "metadata": {},
   "outputs": [
    {
     "data": {
      "text/plain": [
       "array([[0, 0, 0, 0],\n",
       "       [0, 0, 0, 0],\n",
       "       [0, 0, 0, 0]])"
      ]
     },
     "execution_count": 12,
     "metadata": {},
     "output_type": "execute_result"
    }
   ],
   "source": [
    "np.empty((3,4),dtype=int) #아무것도 들어가지 않은 빈 배열 생성 "
   ]
  },
  {
   "cell_type": "code",
   "execution_count": 13,
   "metadata": {},
   "outputs": [
    {
     "data": {
      "text/plain": [
       "array([[[5, 5, 5, 5],\n",
       "        [5, 5, 5, 5],\n",
       "        [5, 5, 5, 5]],\n",
       "\n",
       "       [[5, 5, 5, 5],\n",
       "        [5, 5, 5, 5],\n",
       "        [5, 5, 5, 5]]])"
      ]
     },
     "execution_count": 13,
     "metadata": {},
     "output_type": "execute_result"
    }
   ],
   "source": [
    "np.full((2,3,4),5) #특정 값 들어가도록 5가 들어가도록"
   ]
  },
  {
   "cell_type": "markdown",
   "metadata": {},
   "source": [
    "- #### np.eyes() 함수\n",
    "- #### np.identity() 함수"
   ]
  },
  {
   "cell_type": "code",
   "execution_count": 16,
   "metadata": {},
   "outputs": [
    {
     "data": {
      "text/plain": [
       "array([[1., 0., 0.],\n",
       "       [0., 1., 0.],\n",
       "       [0., 0., 1.]])"
      ]
     },
     "execution_count": 16,
     "metadata": {},
     "output_type": "execute_result"
    }
   ],
   "source": [
    "#단위행렬 생성 대각선이 1인 것 \n",
    "np.eye(3)"
   ]
  },
  {
   "cell_type": "code",
   "execution_count": 17,
   "metadata": {},
   "outputs": [
    {
     "data": {
      "text/plain": [
       "array([[1., 0., 0.],\n",
       "       [0., 1., 0.],\n",
       "       [0., 0., 1.]])"
      ]
     },
     "execution_count": 17,
     "metadata": {},
     "output_type": "execute_result"
    }
   ],
   "source": [
    "np.identity(3) #동일"
   ]
  },
  {
   "cell_type": "markdown",
   "metadata": {},
   "source": [
    "- #### np.linespace() 함수"
   ]
  },
  {
   "cell_type": "code",
   "execution_count": 18,
   "metadata": {},
   "outputs": [
    {
     "data": {
      "text/plain": [
       "array([ 1., 10.])"
      ]
     },
     "execution_count": 18,
     "metadata": {},
     "output_type": "execute_result"
    }
   ],
   "source": [
    "np.linspace(1,10,2) #처음은 1 끝은 10 1과 10 사이 값을 2개로 나눠줌."
   ]
  },
  {
   "cell_type": "code",
   "execution_count": 20,
   "metadata": {},
   "outputs": [
    {
     "data": {
      "text/plain": [
       "array([ 1.,  4.,  7., 10.])"
      ]
     },
     "execution_count": 20,
     "metadata": {},
     "output_type": "execute_result"
    }
   ],
   "source": [
    "np.linspace(1,10,4) "
   ]
  },
  {
   "cell_type": "code",
   "execution_count": 21,
   "metadata": {},
   "outputs": [
    {
     "data": {
      "text/plain": [
       "array([ 1.  ,  3.25,  5.5 ,  7.75, 10.  ])"
      ]
     },
     "execution_count": 21,
     "metadata": {},
     "output_type": "execute_result"
    }
   ],
   "source": [
    "np.linspace(1,10,5)"
   ]
  },
  {
   "cell_type": "markdown",
   "metadata": {},
   "source": [
    "- ### ndarray 생성(2)\n",
    "    - numpy의 서브모듈 random 사용"
   ]
  },
  {
   "cell_type": "markdown",
   "metadata": {},
   "source": [
    "- #### rand() 함수"
   ]
  },
  {
   "cell_type": "code",
   "execution_count": 22,
   "metadata": {},
   "outputs": [
    {
     "data": {
      "text/plain": [
       "array([[[0.45059111, 0.2501792 , 0.94694648, 0.03919365, 0.7240458 ],\n",
       "        [0.20169368, 0.26453591, 0.81865061, 0.03033615, 0.90472233],\n",
       "        [0.63235428, 0.58802706, 0.42855728, 0.48944217, 0.84940192],\n",
       "        [0.72554989, 0.3635473 , 0.14596409, 0.27100835, 0.55246136]],\n",
       "\n",
       "       [[0.0271683 , 0.03936682, 0.28784744, 0.67082539, 0.0651049 ],\n",
       "        [0.32004153, 0.01127842, 0.88819181, 0.36092216, 0.9749777 ],\n",
       "        [0.35173459, 0.40182083, 0.8466442 , 0.86173683, 0.57834922],\n",
       "        [0.55262801, 0.08764185, 0.593125  , 0.19899751, 0.32405172]],\n",
       "\n",
       "       [[0.00132183, 0.69496316, 0.58999464, 0.63591329, 0.6674452 ],\n",
       "        [0.87076356, 0.75149852, 0.03938374, 0.17976408, 0.56163674],\n",
       "        [0.39588511, 0.69479923, 0.46105371, 0.42978953, 0.42594697],\n",
       "        [0.68202213, 0.31468928, 0.51866144, 0.24310612, 0.24597081]]])"
      ]
     },
     "execution_count": 22,
     "metadata": {},
     "output_type": "execute_result"
    }
   ],
   "source": [
    "np.random.rand(3,4,5) #0~1사이 숫자 중 랜덤하게 생성"
   ]
  },
  {
   "cell_type": "markdown",
   "metadata": {},
   "source": [
    "- #### randint() 함수"
   ]
  },
  {
   "cell_type": "code",
   "execution_count": 24,
   "metadata": {},
   "outputs": [
    {
     "data": {
      "text/plain": [
       "array([47, 94, 70])"
      ]
     },
     "execution_count": 24,
     "metadata": {},
     "output_type": "execute_result"
    }
   ],
   "source": [
    "np.random.randint(1,100,size=(3)) #특정 정수 사이에서  1~100개 중 3개 랜덤하게"
   ]
  },
  {
   "cell_type": "markdown",
   "metadata": {},
   "source": [
    "- #### seed() 함수"
   ]
  },
  {
   "cell_type": "code",
   "execution_count": 32,
   "metadata": {},
   "outputs": [
    {
     "data": {
      "text/plain": [
       "array([0.51729788, 0.9469626 , 0.76545976, 0.28239584])"
      ]
     },
     "execution_count": 32,
     "metadata": {},
     "output_type": "execute_result"
    }
   ],
   "source": [
    "np.random.seed(23) #랜덤하게 나온 값을 동일하게 사용할 때\n",
    "np.random.rand(4)"
   ]
  },
  {
   "cell_type": "markdown",
   "metadata": {},
   "source": [
    "- #### choice() 함수"
   ]
  },
  {
   "cell_type": "code",
   "execution_count": 33,
   "metadata": {},
   "outputs": [
    {
     "data": {
      "text/plain": [
       "array([[76, 91, 39, 90],\n",
       "       [25, 51,  6, 45],\n",
       "       [12, 49, 66, 75]])"
      ]
     },
     "execution_count": 33,
     "metadata": {},
     "output_type": "execute_result"
    }
   ],
   "source": [
    "np.random.choice(100,size=(3,4)) #1~100중 랜덤하게 뽑아서 만들어줌"
   ]
  },
  {
   "cell_type": "code",
   "execution_count": 35,
   "metadata": {},
   "outputs": [
    {
     "data": {
      "text/plain": [
       "array([[ 1. , 10. ],\n",
       "       [ 0.3, 86. ]])"
      ]
     },
     "execution_count": 35,
     "metadata": {},
     "output_type": "execute_result"
    }
   ],
   "source": [
    "x = np.array([1,2,5,10,86,0.3])\n",
    "\n",
    "np.random.choice(x,size=(2,2),replace=False) #중복 없이 뽑겠다는 의미"
   ]
  },
  {
   "cell_type": "code",
   "execution_count": 36,
   "metadata": {},
   "outputs": [
    {
     "ename": "SyntaxError",
     "evalue": "expression cannot contain assignment, perhaps you meant \"==\"? (<ipython-input-36-77b5937b92a1>, line 1)",
     "output_type": "error",
     "traceback": [
      "\u001b[1;36m  File \u001b[1;32m\"<ipython-input-36-77b5937b92a1>\"\u001b[1;36m, line \u001b[1;32m1\u001b[0m\n\u001b[1;33m    np.random.choice(x.size=(2,2),replace=True)\u001b[0m\n\u001b[1;37m                     ^\u001b[0m\n\u001b[1;31mSyntaxError\u001b[0m\u001b[1;31m:\u001b[0m expression cannot contain assignment, perhaps you meant \"==\"?\n"
     ]
    }
   ],
   "source": [
    "np.random.choice(x,size=(2,2),replace=True)"
   ]
  },
  {
   "cell_type": "markdown",
   "metadata": {},
   "source": [
    "### <연습문제>"
   ]
  },
  {
   "cell_type": "markdown",
   "metadata": {},
   "source": [
    "- #### 로또 번호 자동 생성기를 함수를 이용해 만드시오."
   ]
  },
  {
   "cell_type": "code",
   "execution_count": 47,
   "metadata": {},
   "outputs": [
    {
     "name": "stdout",
     "output_type": "stream",
     "text": [
      "로또번호생성기\n",
      "27\n",
      "38\n",
      "42\n",
      "40\n",
      "18\n",
      "33\n",
      "보너스번호 36\n"
     ]
    }
   ],
   "source": [
    "x = np.random.randint(1,45,size=(7)) #특정 정수 사이에서  1~100개 중 7개 랜덤하\n",
    "print(\"=====<로또번호생성기>=====\")\n",
    "for i in range(6):\n",
    "    print(x[i])\n",
    "print(\"보너스번호\",x[6])"
   ]
  },
  {
   "cell_type": "code",
   "execution_count": null,
   "metadata": {},
   "outputs": [],
   "source": []
  },
  {
   "cell_type": "markdown",
   "metadata": {},
   "source": [
    "### 인덱싱 & 슬라이싱"
   ]
  },
  {
   "cell_type": "markdown",
   "metadata": {},
   "source": [
    "- #### 1차원 벡터"
   ]
  },
  {
   "cell_type": "code",
   "execution_count": 49,
   "metadata": {},
   "outputs": [
    {
     "name": "stdout",
     "output_type": "stream",
     "text": [
      "[0 1 2 3 4]\n"
     ]
    }
   ],
   "source": [
    "x=np.arange(5)\n",
    "print(x)"
   ]
  },
  {
   "cell_type": "code",
   "execution_count": 52,
   "metadata": {},
   "outputs": [
    {
     "name": "stdout",
     "output_type": "stream",
     "text": [
      "[  0   1   2 100   4]\n"
     ]
    }
   ],
   "source": [
    "x[1]\n",
    "x[3]=100\n",
    "print(x)"
   ]
  },
  {
   "cell_type": "code",
   "execution_count": 53,
   "metadata": {},
   "outputs": [
    {
     "data": {
      "text/plain": [
       "array([  2, 100,   4])"
      ]
     },
     "execution_count": 53,
     "metadata": {},
     "output_type": "execute_result"
    }
   ],
   "source": [
    "x[2:]"
   ]
  },
  {
   "cell_type": "markdown",
   "metadata": {},
   "source": [
    "- #### 2차원 행렬"
   ]
  },
  {
   "cell_type": "code",
   "execution_count": 55,
   "metadata": {},
   "outputs": [
    {
     "name": "stdout",
     "output_type": "stream",
     "text": [
      "[[0 1 2]\n",
      " [3 4 5]]\n"
     ]
    }
   ],
   "source": [
    "x=np.arange(6).reshape(2,3)\n",
    "print(x)"
   ]
  },
  {
   "cell_type": "code",
   "execution_count": 57,
   "metadata": {},
   "outputs": [
    {
     "data": {
      "text/plain": [
       "array([0, 1, 2])"
      ]
     },
     "execution_count": 57,
     "metadata": {},
     "output_type": "execute_result"
    }
   ],
   "source": [
    "x[0]"
   ]
  },
  {
   "cell_type": "code",
   "execution_count": 58,
   "metadata": {},
   "outputs": [
    {
     "data": {
      "text/plain": [
       "0"
      ]
     },
     "execution_count": 58,
     "metadata": {},
     "output_type": "execute_result"
    }
   ],
   "source": [
    "x[0][0]"
   ]
  },
  {
   "cell_type": "markdown",
   "metadata": {},
   "source": [
    "- #### 3차원 텐서"
   ]
  },
  {
   "cell_type": "code",
   "execution_count": 63,
   "metadata": {},
   "outputs": [
    {
     "name": "stdout",
     "output_type": "stream",
     "text": [
      "[[[ 0  1  2  3]\n",
      "  [ 4  5  6  7]\n",
      "  [ 8  9 10 11]]\n",
      "\n",
      " [[12 13 14 15]\n",
      "  [16 17 18 19]\n",
      "  [20 21 22 23]]]\n"
     ]
    }
   ],
   "source": [
    "x=np.arange(24).reshape(2,3,4)\n",
    "print(x)"
   ]
  },
  {
   "cell_type": "code",
   "execution_count": 65,
   "metadata": {},
   "outputs": [
    {
     "data": {
      "text/plain": [
       "array([[12, 13, 14, 15],\n",
       "       [16, 17, 18, 19],\n",
       "       [20, 21, 22, 23]])"
      ]
     },
     "execution_count": 65,
     "metadata": {},
     "output_type": "execute_result"
    }
   ],
   "source": [
    "x[1]"
   ]
  },
  {
   "cell_type": "code",
   "execution_count": 68,
   "metadata": {},
   "outputs": [
    {
     "data": {
      "text/plain": [
       "13"
      ]
     },
     "execution_count": 68,
     "metadata": {},
     "output_type": "execute_result"
    }
   ],
   "source": [
    "x[1,0,1]"
   ]
  },
  {
   "cell_type": "code",
   "execution_count": 70,
   "metadata": {},
   "outputs": [
    {
     "data": {
      "text/plain": [
       "array([[[0, 1, 2, 3],\n",
       "        [4, 5, 6, 7]]])"
      ]
     },
     "execution_count": 70,
     "metadata": {},
     "output_type": "execute_result"
    }
   ],
   "source": [
    "x[:1,:2,:]"
   ]
  },
  {
   "cell_type": "code",
   "execution_count": null,
   "metadata": {},
   "outputs": [],
   "source": [
    "x[]"
   ]
  },
  {
   "cell_type": "markdown",
   "metadata": {},
   "source": [
    "### 배열 형태 변경"
   ]
  },
  {
   "cell_type": "markdown",
   "metadata": {},
   "source": [
    "- #### reshape() 함수"
   ]
  },
  {
   "cell_type": "code",
   "execution_count": 72,
   "metadata": {},
   "outputs": [
    {
     "name": "stdout",
     "output_type": "stream",
     "text": [
      "[0 1 2 3 4 5 6 7 8 9]\n"
     ]
    }
   ],
   "source": [
    "x=np.arange(10)\n",
    "print(x)"
   ]
  },
  {
   "cell_type": "code",
   "execution_count": 74,
   "metadata": {},
   "outputs": [
    {
     "name": "stdout",
     "output_type": "stream",
     "text": [
      "(10,)\n"
     ]
    }
   ],
   "source": [
    "print(x.shape)"
   ]
  },
  {
   "cell_type": "code",
   "execution_count": 76,
   "metadata": {},
   "outputs": [
    {
     "name": "stdout",
     "output_type": "stream",
     "text": [
      "[[0 1 2 3 4]\n",
      " [5 6 7 8 9]]\n",
      "(2, 5)\n",
      "2\n"
     ]
    }
   ],
   "source": [
    "y=np.arange(10).reshape(2,5) #2행5열짜리로 구조 바꿔주기\n",
    "print(y)\n",
    "print(y.shape)\n",
    "print(y.ndim)"
   ]
  },
  {
   "cell_type": "markdown",
   "metadata": {},
   "source": [
    "- #### ravel"
   ]
  },
  {
   "cell_type": "code",
   "execution_count": 78,
   "metadata": {},
   "outputs": [
    {
     "name": "stdout",
     "output_type": "stream",
     "text": [
      "[[0 1 2 3 4]\n",
      " [5 6 7 8 9]]\n"
     ]
    }
   ],
   "source": [
    "x=np.arange(10).reshape(2,5)\n",
    "\n",
    "print(x)"
   ]
  },
  {
   "cell_type": "code",
   "execution_count": 80,
   "metadata": {},
   "outputs": [
    {
     "data": {
      "text/plain": [
       "array([0, 1, 2, 3, 4, 5, 6, 7, 8, 9])"
      ]
     },
     "execution_count": 80,
     "metadata": {},
     "output_type": "execute_result"
    }
   ],
   "source": [
    "np.ravel(x) #다차원을 일차원으로 변경해줌"
   ]
  },
  {
   "cell_type": "code",
   "execution_count": 82,
   "metadata": {},
   "outputs": [
    {
     "data": {
      "text/plain": [
       "array([0, 5, 1, 6, 2, 7, 3, 8, 4, 9])"
      ]
     },
     "execution_count": 82,
     "metadata": {},
     "output_type": "execute_result"
    }
   ],
   "source": [
    "np.ravel(x,order=\"F\")"
   ]
  },
  {
   "cell_type": "code",
   "execution_count": 84,
   "metadata": {},
   "outputs": [
    {
     "name": "stdout",
     "output_type": "stream",
     "text": [
      "[0 1 2 3 4 5 6 7 8 9]\n",
      "[[0 1 2 3 4]\n",
      " [5 6 7 8 9]]\n"
     ]
    }
   ],
   "source": [
    "temp=x.ravel()\n",
    "print(temp)\n",
    "print(x)"
   ]
  },
  {
   "cell_type": "code",
   "execution_count": null,
   "metadata": {},
   "outputs": [],
   "source": []
  },
  {
   "cell_type": "markdown",
   "metadata": {},
   "source": [
    "- #### flatten"
   ]
  },
  {
   "cell_type": "code",
   "execution_count": 87,
   "metadata": {},
   "outputs": [
    {
     "name": "stdout",
     "output_type": "stream",
     "text": [
      "[[0 1 2 3 4]\n",
      " [5 6 7 8 9]]\n"
     ]
    }
   ],
   "source": [
    "#라벨과 마찬가지로 다차원-> 일차원 but, 복사하여 저장\n",
    "x=np.arange(10).reshape(2,5)\n",
    "print(x)"
   ]
  },
  {
   "cell_type": "code",
   "execution_count": 89,
   "metadata": {},
   "outputs": [
    {
     "name": "stdout",
     "output_type": "stream",
     "text": [
      "[[0 1 2 3 4]\n",
      " [5 6 7 8 9]]\n",
      "[0 1 2 3 4 5 6 7 8 9]\n"
     ]
    }
   ],
   "source": [
    "y =x.flatten()\n",
    "\n",
    "print(x)\n",
    "print(y)"
   ]
  },
  {
   "cell_type": "markdown",
   "metadata": {},
   "source": [
    "- ### 범용함수"
   ]
  },
  {
   "cell_type": "markdown",
   "metadata": {},
   "source": [
    "- #### 연산"
   ]
  },
  {
   "cell_type": "code",
   "execution_count": 91,
   "metadata": {},
   "outputs": [
    {
     "name": "stdout",
     "output_type": "stream",
     "text": [
      "[[ 0  1  2  3  4]\n",
      " [ 5  6  7  8  9]\n",
      " [10 11 12 13 14]]\n",
      "[[ 8 10 20 28  7]\n",
      " [29 22 45 24 44]\n",
      " [13 32 21 46 27]]\n"
     ]
    }
   ],
   "source": [
    "np.random.seed(103) #다음에 진행해도 동일한 값이 나올 수 있도록\n",
    "x=np.arange(15).reshape(3,5) #3행5열로 만들어주고 \n",
    "y=np.random.randint(1,50,size=(3,5)) #1~50중 3행5열로 랜덤하게 추출하여 y 생성\n",
    "print(x)\n",
    "print(y)"
   ]
  },
  {
   "cell_type": "code",
   "execution_count": 96,
   "metadata": {},
   "outputs": [
    {
     "data": {
      "text/plain": [
       "array([[1.00000000e+00, 2.71828183e+00, 7.38905610e+00, 2.00855369e+01,\n",
       "        5.45981500e+01],\n",
       "       [1.48413159e+02, 4.03428793e+02, 1.09663316e+03, 2.98095799e+03,\n",
       "        8.10308393e+03],\n",
       "       [2.20264658e+04, 5.98741417e+04, 1.62754791e+05, 4.42413392e+05,\n",
       "        1.20260428e+06]])"
      ]
     },
     "execution_count": 96,
     "metadata": {},
     "output_type": "execute_result"
    }
   ],
   "source": [
    "np.add(x,y) #같은 열끼리 더해짐\n",
    "np.subtract(x,y) #뺄셈도 가능 \n",
    "np.multiply(x,y)\n",
    "np.divide(x,y)\n",
    "np.exp(x) #지수적용"
   ]
  },
  {
   "cell_type": "markdown",
   "metadata": {},
   "source": [
    "- #### 통계함수"
   ]
  },
  {
   "cell_type": "code",
   "execution_count": 98,
   "metadata": {},
   "outputs": [
    {
     "name": "stdout",
     "output_type": "stream",
     "text": [
      "[[ 8 10 20 28  7]\n",
      " [29 22 45 24 44]\n",
      " [13 32 21 46 27]]\n"
     ]
    }
   ],
   "source": [
    "print(y)"
   ]
  },
  {
   "cell_type": "code",
   "execution_count": 99,
   "metadata": {},
   "outputs": [
    {
     "data": {
      "text/plain": [
       "376"
      ]
     },
     "execution_count": 99,
     "metadata": {},
     "output_type": "execute_result"
    }
   ],
   "source": [
    "np.sum(y) #모든 값들이 더해짐."
   ]
  },
  {
   "cell_type": "code",
   "execution_count": 102,
   "metadata": {},
   "outputs": [
    {
     "data": {
      "text/plain": [
       "25.066666666666666"
      ]
     },
     "execution_count": 102,
     "metadata": {},
     "output_type": "execute_result"
    }
   ],
   "source": [
    "np.mean(y) #평균"
   ]
  },
  {
   "cell_type": "code",
   "execution_count": 104,
   "metadata": {},
   "outputs": [
    {
     "data": {
      "text/plain": [
       "(46, 7)"
      ]
     },
     "execution_count": 104,
     "metadata": {},
     "output_type": "execute_result"
    }
   ],
   "source": [
    "np.max(y), np.min(y)"
   ]
  },
  {
   "cell_type": "code",
   "execution_count": 105,
   "metadata": {},
   "outputs": [
    {
     "data": {
      "text/plain": [
       "13"
      ]
     },
     "execution_count": 105,
     "metadata": {},
     "output_type": "execute_result"
    }
   ],
   "source": [
    "np.argmax(y) #max의 인덱스 출력"
   ]
  },
  {
   "cell_type": "code",
   "execution_count": 106,
   "metadata": {},
   "outputs": [
    {
     "data": {
      "text/plain": [
       "(154.19555555555556, 12.417550304128248)"
      ]
     },
     "execution_count": 106,
     "metadata": {},
     "output_type": "execute_result"
    }
   ],
   "source": [
    "np.var(y),np.std(y) #분산, 표준편차"
   ]
  },
  {
   "cell_type": "markdown",
   "metadata": {},
   "source": [
    "- ### axis(축) 이해하기"
   ]
  },
  {
   "cell_type": "markdown",
   "metadata": {},
   "source": [
    "- #### 1차원 벡터"
   ]
  },
  {
   "cell_type": "code",
   "execution_count": 108,
   "metadata": {},
   "outputs": [
    {
     "name": "stdout",
     "output_type": "stream",
     "text": [
      "[0 1 2 3 4 5 6 7 8 9]\n"
     ]
    }
   ],
   "source": [
    "x=np.arange(10)\n",
    "print(x)"
   ]
  },
  {
   "cell_type": "code",
   "execution_count": 109,
   "metadata": {},
   "outputs": [
    {
     "data": {
      "text/plain": [
       "45"
      ]
     },
     "execution_count": 109,
     "metadata": {},
     "output_type": "execute_result"
    }
   ],
   "source": [
    "np.sum(x)"
   ]
  },
  {
   "cell_type": "code",
   "execution_count": 110,
   "metadata": {},
   "outputs": [
    {
     "data": {
      "text/plain": [
       "45"
      ]
     },
     "execution_count": 110,
     "metadata": {},
     "output_type": "execute_result"
    }
   ],
   "source": [
    "np.sum(x,axis=0 )#축에 대해 적용"
   ]
  },
  {
   "cell_type": "code",
   "execution_count": 112,
   "metadata": {},
   "outputs": [
    {
     "ename": "AxisError",
     "evalue": "axis 1 is out of bounds for array of dimension 1",
     "output_type": "error",
     "traceback": [
      "\u001b[1;31m---------------------------------------------------------------------------\u001b[0m",
      "\u001b[1;31mAxisError\u001b[0m                                 Traceback (most recent call last)",
      "\u001b[1;32m<ipython-input-112-4ee952e6d481>\u001b[0m in \u001b[0;36m<module>\u001b[1;34m\u001b[0m\n\u001b[1;32m----> 1\u001b[1;33m \u001b[0mnp\u001b[0m\u001b[1;33m.\u001b[0m\u001b[0msum\u001b[0m\u001b[1;33m(\u001b[0m\u001b[0mx\u001b[0m\u001b[1;33m,\u001b[0m\u001b[0maxis\u001b[0m\u001b[1;33m=\u001b[0m\u001b[1;36m1\u001b[0m\u001b[1;33m)\u001b[0m \u001b[1;31m#에러 발생 1차원인데\u001b[0m\u001b[1;33m\u001b[0m\u001b[1;33m\u001b[0m\u001b[0m\n\u001b[0m",
      "\u001b[1;32m<__array_function__ internals>\u001b[0m in \u001b[0;36msum\u001b[1;34m(*args, **kwargs)\u001b[0m\n",
      "\u001b[1;32mC:\\ProgramData\\Anaconda3\\lib\\site-packages\\numpy\\core\\fromnumeric.py\u001b[0m in \u001b[0;36msum\u001b[1;34m(a, axis, dtype, out, keepdims, initial, where)\u001b[0m\n\u001b[0;32m   2245\u001b[0m         \u001b[1;32mreturn\u001b[0m \u001b[0mres\u001b[0m\u001b[1;33m\u001b[0m\u001b[1;33m\u001b[0m\u001b[0m\n\u001b[0;32m   2246\u001b[0m \u001b[1;33m\u001b[0m\u001b[0m\n\u001b[1;32m-> 2247\u001b[1;33m     return _wrapreduction(a, np.add, 'sum', axis, dtype, out, keepdims=keepdims,\n\u001b[0m\u001b[0;32m   2248\u001b[0m                           initial=initial, where=where)\n\u001b[0;32m   2249\u001b[0m \u001b[1;33m\u001b[0m\u001b[0m\n",
      "\u001b[1;32mC:\\ProgramData\\Anaconda3\\lib\\site-packages\\numpy\\core\\fromnumeric.py\u001b[0m in \u001b[0;36m_wrapreduction\u001b[1;34m(obj, ufunc, method, axis, dtype, out, **kwargs)\u001b[0m\n\u001b[0;32m     85\u001b[0m                 \u001b[1;32mreturn\u001b[0m \u001b[0mreduction\u001b[0m\u001b[1;33m(\u001b[0m\u001b[0maxis\u001b[0m\u001b[1;33m=\u001b[0m\u001b[0maxis\u001b[0m\u001b[1;33m,\u001b[0m \u001b[0mout\u001b[0m\u001b[1;33m=\u001b[0m\u001b[0mout\u001b[0m\u001b[1;33m,\u001b[0m \u001b[1;33m**\u001b[0m\u001b[0mpasskwargs\u001b[0m\u001b[1;33m)\u001b[0m\u001b[1;33m\u001b[0m\u001b[1;33m\u001b[0m\u001b[0m\n\u001b[0;32m     86\u001b[0m \u001b[1;33m\u001b[0m\u001b[0m\n\u001b[1;32m---> 87\u001b[1;33m     \u001b[1;32mreturn\u001b[0m \u001b[0mufunc\u001b[0m\u001b[1;33m.\u001b[0m\u001b[0mreduce\u001b[0m\u001b[1;33m(\u001b[0m\u001b[0mobj\u001b[0m\u001b[1;33m,\u001b[0m \u001b[0maxis\u001b[0m\u001b[1;33m,\u001b[0m \u001b[0mdtype\u001b[0m\u001b[1;33m,\u001b[0m \u001b[0mout\u001b[0m\u001b[1;33m,\u001b[0m \u001b[1;33m**\u001b[0m\u001b[0mpasskwargs\u001b[0m\u001b[1;33m)\u001b[0m\u001b[1;33m\u001b[0m\u001b[1;33m\u001b[0m\u001b[0m\n\u001b[0m\u001b[0;32m     88\u001b[0m \u001b[1;33m\u001b[0m\u001b[0m\n\u001b[0;32m     89\u001b[0m \u001b[1;33m\u001b[0m\u001b[0m\n",
      "\u001b[1;31mAxisError\u001b[0m: axis 1 is out of bounds for array of dimension 1"
     ]
    }
   ],
   "source": [
    "np.sum(x,axis=1) #에러 발생 1차원인데 "
   ]
  },
  {
   "cell_type": "markdown",
   "metadata": {},
   "source": [
    "- #### 2차원 행렬"
   ]
  },
  {
   "cell_type": "code",
   "execution_count": 116,
   "metadata": {},
   "outputs": [
    {
     "name": "stdout",
     "output_type": "stream",
     "text": [
      "[[0 1 2 3 4]\n",
      " [5 6 7 8 9]]\n"
     ]
    }
   ],
   "source": [
    "y=x.reshape(2,5)\n",
    "print(y)"
   ]
  },
  {
   "cell_type": "code",
   "execution_count": 114,
   "metadata": {},
   "outputs": [
    {
     "data": {
      "text/plain": [
       "array([ 5,  7,  9, 11, 13])"
      ]
     },
     "execution_count": 114,
     "metadata": {},
     "output_type": "execute_result"
    }
   ],
   "source": [
    "np.sum(y,axis=0) #열로 덧셈(세로로)"
   ]
  },
  {
   "cell_type": "code",
   "execution_count": 115,
   "metadata": {},
   "outputs": [
    {
     "data": {
      "text/plain": [
       "array([10, 35])"
      ]
     },
     "execution_count": 115,
     "metadata": {},
     "output_type": "execute_result"
    }
   ],
   "source": [
    "np.sum(y,axis=1) #행로 덧셈(가로로)"
   ]
  },
  {
   "cell_type": "markdown",
   "metadata": {},
   "source": [
    "- #### 3차원 텐서"
   ]
  },
  {
   "cell_type": "code",
   "execution_count": 117,
   "metadata": {},
   "outputs": [
    {
     "name": "stdout",
     "output_type": "stream",
     "text": [
      "[[[ 0  1  2  3]\n",
      "  [ 4  5  6  7]\n",
      "  [ 8  9 10 11]]\n",
      "\n",
      " [[12 13 14 15]\n",
      "  [16 17 18 19]\n",
      "  [20 21 22 23]]]\n"
     ]
    }
   ],
   "source": [
    "z=np.arange(24).reshape(2,3,4)\n",
    "print(z)"
   ]
  },
  {
   "cell_type": "code",
   "execution_count": 118,
   "metadata": {},
   "outputs": [
    {
     "data": {
      "text/plain": [
       "276"
      ]
     },
     "execution_count": 118,
     "metadata": {},
     "output_type": "execute_result"
    }
   ],
   "source": [
    "np.sum(z)"
   ]
  },
  {
   "cell_type": "code",
   "execution_count": 119,
   "metadata": {},
   "outputs": [
    {
     "data": {
      "text/plain": [
       "array([[12, 14, 16, 18],\n",
       "       [20, 22, 24, 26],\n",
       "       [28, 30, 32, 34]])"
      ]
     },
     "execution_count": 119,
     "metadata": {},
     "output_type": "execute_result"
    }
   ],
   "source": [
    "np.sum(z,axis=0)"
   ]
  },
  {
   "cell_type": "code",
   "execution_count": 120,
   "metadata": {},
   "outputs": [
    {
     "data": {
      "text/plain": [
       "array([[12, 15, 18, 21],\n",
       "       [48, 51, 54, 57]])"
      ]
     },
     "execution_count": 120,
     "metadata": {},
     "output_type": "execute_result"
    }
   ],
   "source": [
    "np.sum(z,axis=1)"
   ]
  },
  {
   "cell_type": "code",
   "execution_count": 121,
   "metadata": {},
   "outputs": [
    {
     "data": {
      "text/plain": [
       "array([[ 6, 22, 38],\n",
       "       [54, 70, 86]])"
      ]
     },
     "execution_count": 121,
     "metadata": {},
     "output_type": "execute_result"
    }
   ],
   "source": [
    "np.sum(z,axis=2)"
   ]
  },
  {
   "cell_type": "code",
   "execution_count": null,
   "metadata": {},
   "outputs": [],
   "source": []
  },
  {
   "cell_type": "markdown",
   "metadata": {},
   "source": [
    "- #### axis 가 튜플인 경우"
   ]
  },
  {
   "cell_type": "code",
   "execution_count": 122,
   "metadata": {},
   "outputs": [
    {
     "data": {
      "text/plain": [
       "array([ 60,  92, 124])"
      ]
     },
     "execution_count": 122,
     "metadata": {},
     "output_type": "execute_result"
    }
   ],
   "source": [
    "np.sum(z,axis=(0,2))"
   ]
  },
  {
   "cell_type": "markdown",
   "metadata": {},
   "source": [
    "- ### 논리값을 이용한 인덱싱"
   ]
  },
  {
   "cell_type": "code",
   "execution_count": 123,
   "metadata": {},
   "outputs": [
    {
     "name": "stdout",
     "output_type": "stream",
     "text": [
      "[71 14 34 11 21 73 30 82 98 55]\n",
      "[False  True  True False False False  True  True  True False]\n"
     ]
    }
   ],
   "source": [
    "x=np.random.randint(1,100,size=10)\n",
    "print(x)\n",
    "even_num = x%2 ==0\n",
    "print(even_num)"
   ]
  },
  {
   "cell_type": "code",
   "execution_count": 124,
   "metadata": {},
   "outputs": [
    {
     "data": {
      "text/plain": [
       "array([14, 34, 30, 82, 98])"
      ]
     },
     "execution_count": 124,
     "metadata": {},
     "output_type": "execute_result"
    }
   ],
   "source": [
    "x[even_num]"
   ]
  },
  {
   "cell_type": "code",
   "execution_count": 125,
   "metadata": {},
   "outputs": [
    {
     "data": {
      "text/plain": [
       "array([14, 34, 30, 82, 98])"
      ]
     },
     "execution_count": 125,
     "metadata": {},
     "output_type": "execute_result"
    }
   ],
   "source": [
    "x[x%2 ==0]"
   ]
  },
  {
   "cell_type": "code",
   "execution_count": null,
   "metadata": {},
   "outputs": [],
   "source": []
  },
  {
   "cell_type": "markdown",
   "metadata": {},
   "source": [
    "#### <연습문제>"
   ]
  },
  {
   "cell_type": "markdown",
   "metadata": {},
   "source": [
    "- #### $x > 30$ 인 원소 필터링"
   ]
  },
  {
   "cell_type": "code",
   "execution_count": 138,
   "metadata": {},
   "outputs": [
    {
     "name": "stdout",
     "output_type": "stream",
     "text": [
      "[87 73 68 61 58  1 48 83 23 55]\n"
     ]
    }
   ],
   "source": [
    "x=np.random.randint(1,100,size=10)\n",
    "print(x)"
   ]
  },
  {
   "cell_type": "code",
   "execution_count": 136,
   "metadata": {
    "scrolled": true
   },
   "outputs": [
    {
     "name": "stdout",
     "output_type": "stream",
     "text": [
      "[69 21 83 45 63 93 27 51 57 33]\n"
     ]
    },
    {
     "data": {
      "text/plain": [
       "array([69, 83, 45, 63, 93, 51, 57, 33])"
      ]
     },
     "execution_count": 136,
     "metadata": {},
     "output_type": "execute_result"
    }
   ],
   "source": [
    "x_con = x>30\n",
    "x[x_con]"
   ]
  },
  {
   "cell_type": "markdown",
   "metadata": {},
   "source": [
    "- #### 짝수이고, $x < 50$ 인 원소 필터링"
   ]
  },
  {
   "cell_type": "code",
   "execution_count": 134,
   "metadata": {},
   "outputs": [
    {
     "data": {
      "text/plain": [
       "array([30, 34, 36])"
      ]
     },
     "execution_count": 134,
     "metadata": {},
     "output_type": "execute_result"
    }
   ],
   "source": [
    "x_con2 = (x%2==0) & (x<50)\n",
    "x[x_con2]"
   ]
  },
  {
   "cell_type": "markdown",
   "metadata": {},
   "source": [
    "- #### $x < 50$ 이거나 $x > 80$인 원소 필터링"
   ]
  },
  {
   "cell_type": "code",
   "execution_count": null,
   "metadata": {},
   "outputs": [],
   "source": [
    "x_con3 = (x<50) | (x>80)\n",
    "x[x_con3]"
   ]
  },
  {
   "cell_type": "markdown",
   "metadata": {},
   "source": [
    "- ### csv 파일 불러오기"
   ]
  },
  {
   "cell_type": "code",
   "execution_count": 140,
   "metadata": {},
   "outputs": [
    {
     "name": "stdout",
     "output_type": "stream",
     "text": [
      "[[ 3.51  9.4   5.  ]\n",
      " [ 3.2   9.8   5.  ]\n",
      " [ 3.26  9.8   5.  ]\n",
      " [ 3.16  9.8   6.  ]\n",
      " [ 3.51  9.4   5.  ]\n",
      " [ 3.51  9.4   5.  ]\n",
      " [ 3.3   9.4   5.  ]\n",
      " [ 3.39 10.    7.  ]\n",
      " [ 3.36  9.5   7.  ]\n",
      " [ 3.35 10.5   5.  ]\n",
      " [ 3.28  9.2   5.  ]\n",
      " [ 3.35 10.5   5.  ]\n",
      " [ 3.58  9.9   5.  ]\n",
      " [ 3.26  9.1   5.  ]\n",
      " [ 3.16  9.2   5.  ]\n",
      " [ 3.17  9.2   5.  ]\n",
      " [ 3.3  10.5   7.  ]\n",
      " [ 3.11  9.3   5.  ]\n",
      " [ 3.38  9.    4.  ]\n",
      " [ 3.04  9.2   6.  ]\n",
      " [ 3.39  9.4   6.  ]\n",
      " [ 3.52  9.7   5.  ]\n",
      " [ 3.17  9.5   5.  ]\n",
      " [ 3.17  9.4   5.  ]\n",
      " [ 3.43  9.7   6.  ]\n",
      " [ 3.34  9.3   5.  ]\n",
      " [ 3.28  9.5   5.  ]\n",
      " [ 3.17  9.5   5.  ]\n",
      " [ 3.47  9.4   5.  ]\n",
      " [ 3.38  9.8   6.  ]\n",
      " [ 3.35 10.1   5.  ]\n",
      " [ 3.46 10.6   6.  ]\n",
      " [ 3.17  9.8   5.  ]\n",
      " [ 3.45  9.4   6.  ]\n",
      " [ 3.38  9.2   5.  ]\n",
      " [ 3.4   9.6   6.  ]\n",
      " [ 3.42 10.8   6.  ]\n",
      " [ 3.23  9.7   7.  ]\n",
      " [ 3.5   9.8   4.  ]\n",
      " [ 3.33 10.5   5.  ]\n",
      " [ 3.33 10.5   5.  ]\n",
      " [ 3.26  9.3   4.  ]\n",
      " [ 3.21 10.5   6.  ]\n",
      " [ 3.3  10.3   5.  ]\n",
      " [ 3.48  9.5   5.  ]\n",
      " [ 3.9  13.1   4.  ]\n",
      " [ 3.25  9.2   5.  ]\n",
      " [ 3.25  9.5   5.  ]\n",
      " [ 3.34  9.2   5.  ]\n",
      " [ 3.32  9.2   5.  ]\n",
      " [ 3.15  9.2   5.  ]\n",
      " [ 3.4   9.4   6.  ]\n",
      " [ 3.39  9.4   6.  ]\n",
      " [ 3.2   9.4   5.  ]\n",
      " [ 3.17 10.2   6.  ]\n",
      " [ 3.34  9.5   5.  ]\n",
      " [ 3.04  9.6   5.  ]\n",
      " [ 3.26  9.4   5.  ]\n",
      " [ 3.43 10.    5.  ]\n",
      " [ 3.41  9.4   6.  ]\n",
      " [ 3.44  9.2   5.  ]\n",
      " [ 3.21  9.3   5.  ]\n",
      " [ 3.38  9.5   7.  ]\n",
      " [ 3.39  9.8   5.  ]\n",
      " [ 3.41 10.9   5.  ]\n",
      " [ 3.41 10.9   5.  ]\n",
      " [ 3.42  9.6   5.  ]\n",
      " [ 3.44 10.7   5.  ]\n",
      " [ 3.28 10.7   5.  ]\n",
      " [ 3.34 10.5   6.  ]\n",
      " [ 3.32  9.5   6.  ]\n",
      " [ 3.32  9.5   5.  ]\n",
      " [ 3.31  9.5   5.  ]\n",
      " [ 3.31  9.2   4.  ]\n",
      " [ 3.28  9.6   5.  ]\n",
      " [ 3.54 10.5   5.  ]\n",
      " [ 3.54 10.5   5.  ]\n",
      " [ 3.52 10.7   6.  ]\n",
      " [ 3.38 10.1   5.  ]\n",
      " [ 3.16  9.1   4.  ]\n",
      " [ 3.41  9.2   5.  ]\n",
      " [ 3.13  9.4   5.  ]\n",
      " [ 3.36  9.1   5.  ]\n",
      " [ 3.16  9.4   5.  ]\n",
      " [ 3.44 10.3   6.  ]\n",
      " [ 3.41 10.1   5.  ]\n",
      " [ 2.93  9.9   6.  ]\n",
      " [ 3.39  9.6   5.  ]\n",
      " [ 3.14  9.5   5.  ]\n",
      " [ 3.48  9.    5.  ]\n",
      " [ 3.23  9.5   5.  ]\n",
      " [ 2.93  9.9   6.  ]\n",
      " [ 2.93  9.8   5.  ]\n",
      " [ 3.39  9.6   5.  ]\n",
      " [ 3.75 10.5   4.  ]\n",
      " [ 3.85 12.9   6.  ]\n",
      " [ 3.45 10.7   5.  ]\n",
      " [ 3.25  9.2   5.  ]\n",
      " [ 3.39  9.8   5.  ]\n",
      " [ 3.3   9.    6.  ]]\n"
     ]
    }
   ],
   "source": [
    "redwine = np.loadtxt(fname=\"wine_red.csv\",delimiter=\";\",skiprows=1)\n",
    "print(redwine)"
   ]
  },
  {
   "cell_type": "markdown",
   "metadata": {},
   "source": [
    "#### <연습문제>"
   ]
  },
  {
   "cell_type": "markdown",
   "metadata": {},
   "source": [
    "- #### redwine 의 변수(열, column)별 평균값을 구하시오."
   ]
  },
  {
   "cell_type": "code",
   "execution_count": 147,
   "metadata": {},
   "outputs": [
    {
     "name": "stdout",
     "output_type": "stream",
     "text": [
      "[3.3334 9.783  5.25  ]\n"
     ]
    }
   ],
   "source": [
    "x=np.mean(redwine,axis=0)"
   ]
  },
  {
   "cell_type": "markdown",
   "metadata": {},
   "source": [
    "- #### redwine 의 alcohol 평균값만 구하시오."
   ]
  },
  {
   "cell_type": "code",
   "execution_count": 189,
   "metadata": {},
   "outputs": [
    {
     "data": {
      "text/plain": [
       "9.783000000000001"
      ]
     },
     "execution_count": 189,
     "metadata": {},
     "output_type": "execute_result"
    }
   ],
   "source": [
    "red_alcohol = redwine[:,1]\n",
    "red_alcohol.mean()"
   ]
  },
  {
   "cell_type": "markdown",
   "metadata": {},
   "source": [
    "- #### alcohol이 9.5 이상인 와인은 몇 개인지 구하시오."
   ]
  },
  {
   "cell_type": "code",
   "execution_count": 190,
   "metadata": {},
   "outputs": [
    {
     "data": {
      "text/plain": [
       "array([ 9.8,  9.8,  9.8, 10. , 10.5, 10.5,  9.9, 10.5,  9.7,  9.7,  9.8,\n",
       "       10.1, 10.6,  9.8,  9.6, 10.8,  9.7,  9.8, 10.5, 10.5, 10.5, 10.3,\n",
       "       13.1, 10.2,  9.6, 10. ,  9.8, 10.9, 10.9,  9.6, 10.7, 10.7, 10.5,\n",
       "        9.6, 10.5, 10.5, 10.7, 10.1, 10.3, 10.1,  9.9,  9.6,  9.9,  9.8,\n",
       "        9.6, 10.5, 12.9, 10.7,  9.8])"
      ]
     },
     "execution_count": 190,
     "metadata": {},
     "output_type": "execute_result"
    }
   ],
   "source": [
    "cond = red_alcohol >9.5\n",
    "red_alcohol[cond]"
   ]
  },
  {
   "cell_type": "markdown",
   "metadata": {},
   "source": [
    "- #### alcohol이 9.5 이상인 와인의 평균 alchol 값은 얼마인지 구하시오."
   ]
  },
  {
   "cell_type": "code",
   "execution_count": 191,
   "metadata": {},
   "outputs": [
    {
     "data": {
      "text/plain": [
       "10.259183673469387"
      ]
     },
     "execution_count": 191,
     "metadata": {},
     "output_type": "execute_result"
    }
   ],
   "source": [
    "red_alcohol[cond].mean()"
   ]
  },
  {
   "cell_type": "markdown",
   "metadata": {},
   "source": [
    "### matplotlip으로 그래프 그리기(시각화)"
   ]
  },
  {
   "cell_type": "code",
   "execution_count": 152,
   "metadata": {},
   "outputs": [],
   "source": [
    "import numpy as np\n",
    "import matplotlib.pyplot as plt \n",
    "%matplotlib inline"
   ]
  },
  {
   "cell_type": "code",
   "execution_count": 153,
   "metadata": {},
   "outputs": [
    {
     "name": "stdout",
     "output_type": "stream",
     "text": [
      "[ 0.  1.  2.  3.  4.  5.  6.  7.  8.  9. 10.]\n",
      "[ 0.43211121  2.17421526  4.17094369  6.82763225  8.58717126 10.45935375\n",
      " 12.82268476 14.82154811 16.30712025 18.20089438 20.40323246]\n"
     ]
    }
   ],
   "source": [
    "np.random.seed(103)\n",
    "x=np.linspace(0,10,11)\n",
    "y=x*2 + np.random.rand(11)\n",
    "\n",
    "print(x)\n",
    "print(y)"
   ]
  },
  {
   "cell_type": "markdown",
   "metadata": {},
   "source": [
    "- #### plot() 함수"
   ]
  },
  {
   "cell_type": "code",
   "execution_count": 156,
   "metadata": {},
   "outputs": [
    {
     "data": {
      "image/png": "[encoded data removed]",
      "text/plain": [
       "<Figure size 432x288 with 1 Axes>"
      ]
     },
     "metadata": {
      "needs_background": "light"
     },
     "output_type": "display_data"
    }
   ],
   "source": [
    "plt.plot(x,y)\n",
    "plt.show()"
   ]
  },
  {
   "cell_type": "code",
   "execution_count": null,
   "metadata": {},
   "outputs": [],
   "source": []
  },
  {
   "cell_type": "markdown",
   "metadata": {},
   "source": [
    "- #### scatter() 함수"
   ]
  },
  {
   "cell_type": "code",
   "execution_count": 157,
   "metadata": {},
   "outputs": [
    {
     "data": {
      "text/plain": [
       "<matplotlib.collections.PathCollection at 0x25df27e9b50>"
      ]
     },
     "execution_count": 157,
     "metadata": {},
     "output_type": "execute_result"
    },
    {
     "data": {
      "image/png": "[encoded data removed]",
      "text/plain": [
       "<Figure size 432x288 with 1 Axes>"
      ]
     },
     "metadata": {
      "needs_background": "light"
     },
     "output_type": "display_data"
    }
   ],
   "source": [
    "plt.scatter(x,y) #점으로 나타내주기"
   ]
  },
  {
   "cell_type": "markdown",
   "metadata": {},
   "source": [
    "- #### xlabel(), ylabel(), title(), grid(), xlim(), ylim() "
   ]
  },
  {
   "cell_type": "code",
   "execution_count": 162,
   "metadata": {},
   "outputs": [
    {
     "data": {
      "text/plain": [
       "[<matplotlib.lines.Line2D at 0x25df29aa0d0>]"
      ]
     },
     "execution_count": 162,
     "metadata": {},
     "output_type": "execute_result"
    },
    {
     "data": {
      "image/png": "[encoded data removed]",
      "text/plain": [
       "<Figure size 432x288 with 1 Axes>"
      ]
     },
     "metadata": {
      "needs_background": "light"
     },
     "output_type": "display_data"
    }
   ],
   "source": [
    "plt.xlabel(\"x label\")\n",
    "plt.ylabel(\"y label\")\n",
    "plt.title(\"x-y title\")\n",
    "plt.grid(True)\n",
    "plt.plot(x,y)"
   ]
  },
  {
   "cell_type": "code",
   "execution_count": 163,
   "metadata": {},
   "outputs": [
    {
     "data": {
      "text/plain": [
       "(0.0, 6.0)"
      ]
     },
     "execution_count": 163,
     "metadata": {},
     "output_type": "execute_result"
    },
    {
     "data": {
      "image/png": "[encoded data removed]",
      "text/plain": [
       "<Figure size 432x288 with 1 Axes>"
      ]
     },
     "metadata": {
      "needs_background": "light"
     },
     "output_type": "display_data"
    }
   ],
   "source": [
    "plt.xlim(0,7)\n",
    "plt.ylim(0,6)"
   ]
  },
  {
   "cell_type": "code",
   "execution_count": null,
   "metadata": {},
   "outputs": [],
   "source": [
    "\"\"\"\n",
    "# 윈도우 기준\n",
    "import platform\n",
    "\n",
    "from matplotlib import font_manager, rc\n",
    "plt.rcParams['axes.unicode_minus'] = False\n",
    "\n",
    "path = \"C:/Windows/Fonts/malgun.ttf\"\n",
    "font_name = font_manager.FontProperties(fname=path).get_name()\n",
    "rc('font', family=font_name)\n",
    "\"\"\"\n",
    "\n",
    "\"\"\"\n",
    "# MAC 기준\n",
    "from matplotlib import rc\n",
    "rc('font',family='AppleGothic')\n",
    "\"\"\""
   ]
  },
  {
   "cell_type": "markdown",
   "metadata": {},
   "source": [
    "- #### hist() 함수"
   ]
  },
  {
   "cell_type": "code",
   "execution_count": 165,
   "metadata": {},
   "outputs": [
    {
     "name": "stdout",
     "output_type": "stream",
     "text": [
      "[ 8 74 20 92 58 71 29 22 24 56 13 96 85 46 91 71 14 34 11 21 73 30 82 98\n",
      " 55  1 75 70 52 41 88 30  7 40 15 12 18 30 95 88 73 32 84 86  2 89 18 78\n",
      " 96 21 25 42 70 54 54 17 15 79 95 30 87 34 39 92 36 69 21 83 45 63 93 27\n",
      " 51 57 33  2 99 97 30  3 89 16 62 93 61 87 73 68 61 58  1 48 83 23 55 96\n",
      " 80  6 35 41]\n"
     ]
    }
   ],
   "source": [
    "np.random.seed(103)\n",
    "data=np.random.randint(1,100,size=100)\n",
    "print(data)"
   ]
  },
  {
   "cell_type": "code",
   "execution_count": 167,
   "metadata": {},
   "outputs": [
    {
     "data": {
      "image/png": "[encoded data removed]",
      "text/plain": [
       "<Figure size 432x288 with 1 Axes>"
      ]
     },
     "metadata": {
      "needs_background": "light"
     },
     "output_type": "display_data"
    }
   ],
   "source": [
    "plt.hist(data,bins=10,alpha=0.3) #bar 10개 alpha는 투명도\n",
    "plt.grid(True)"
   ]
  },
  {
   "cell_type": "markdown",
   "metadata": {},
   "source": [
    "- #### plot() 함수의 파라미터"
   ]
  },
  {
   "cell_type": "code",
   "execution_count": 169,
   "metadata": {},
   "outputs": [
    {
     "name": "stdout",
     "output_type": "stream",
     "text": [
      "[ 0.  1.  2.  3.  4.  5.  6.  7.  8.  9. 10.]\n",
      "[ 0.43211121  2.17421526  4.17094369  6.82763225  8.58717126 10.45935375\n",
      " 12.82268476 14.82154811 16.30712025 18.20089438 20.40323246]\n"
     ]
    }
   ],
   "source": [
    "np.random.seed(103)\n",
    "x=np.linspace(0,10,11)\n",
    "y=x*2 + np.random.rand(11)\n",
    "\n",
    "print(x)\n",
    "print(y)"
   ]
  },
  {
   "cell_type": "code",
   "execution_count": 171,
   "metadata": {},
   "outputs": [
    {
     "data": {
      "text/plain": [
       "[<matplotlib.lines.Line2D at 0x25df2b38fd0>]"
      ]
     },
     "execution_count": 171,
     "metadata": {},
     "output_type": "execute_result"
    },
    {
     "data": {
      "image/png": "[encoded data removed]",
      "text/plain": [
       "<Figure size 432x288 with 1 Axes>"
      ]
     },
     "metadata": {
      "needs_background": "light"
     },
     "output_type": "display_data"
    }
   ],
   "source": [
    "plt.plot(x,y,\"r\") #그래프 색상 빨간색"
   ]
  },
  {
   "cell_type": "code",
   "execution_count": 173,
   "metadata": {},
   "outputs": [
    {
     "data": {
      "text/plain": [
       "[<matplotlib.lines.Line2D at 0x25df29f91c0>]"
      ]
     },
     "execution_count": 173,
     "metadata": {},
     "output_type": "execute_result"
    },
    {
     "data": {
      "image/png": "[encoded data removed]",
      "text/plain": [
       "<Figure size 432x288 with 1 Axes>"
      ]
     },
     "metadata": {
      "needs_background": "light"
     },
     "output_type": "display_data"
    }
   ],
   "source": [
    "plt.plot(x,y,\"red\",linewidth=5)"
   ]
  },
  {
   "cell_type": "code",
   "execution_count": 175,
   "metadata": {},
   "outputs": [
    {
     "data": {
      "text/plain": [
       "[<matplotlib.lines.Line2D at 0x25df287e640>]"
      ]
     },
     "execution_count": 175,
     "metadata": {},
     "output_type": "execute_result"
    },
    {
     "data": {
      "image/png": "[encoded data removed]",
      "text/plain": [
       "<Figure size 432x288 with 1 Axes>"
      ]
     },
     "metadata": {
      "needs_background": "light"
     },
     "output_type": "display_data"
    }
   ],
   "source": [
    "plt.plot(x,y,\"--\",linewidth=5)#점선으로 바꿔주기"
   ]
  },
  {
   "cell_type": "code",
   "execution_count": 178,
   "metadata": {},
   "outputs": [
    {
     "data": {
      "text/plain": [
       "[<matplotlib.lines.Line2D at 0x25df1ff10a0>]"
      ]
     },
     "execution_count": 178,
     "metadata": {},
     "output_type": "execute_result"
    },
    {
     "data": {
      "image/png": "[encoded data removed]",
      "text/plain": [
       "<Figure size 432x288 with 1 Axes>"
      ]
     },
     "metadata": {
      "needs_background": "light"
     },
     "output_type": "display_data"
    }
   ],
   "source": [
    "plt.plot(x,y,\"^\")"
   ]
  },
  {
   "cell_type": "code",
   "execution_count": 182,
   "metadata": {},
   "outputs": [
    {
     "data": {
      "text/plain": [
       "[<matplotlib.lines.Line2D at 0x25df2b663d0>]"
      ]
     },
     "execution_count": 182,
     "metadata": {},
     "output_type": "execute_result"
    },
    {
     "data": {
      "image/png": "[encoded data removed]",
      "text/plain": [
       "<Figure size 432x288 with 1 Axes>"
      ]
     },
     "metadata": {
      "needs_background": "light"
     },
     "output_type": "display_data"
    }
   ],
   "source": [
    "plt.plot(x,y,color=\"gray\",\n",
    "        linestyle=\"-\",\n",
    "        linewidth=3,\n",
    "        marker=\"^\",\n",
    "        markerfacecolor=\"blue\",\n",
    "        markersize=15)"
   ]
  },
  {
   "cell_type": "code",
   "execution_count": 184,
   "metadata": {},
   "outputs": [
    {
     "data": {
      "text/plain": [
       "[<matplotlib.lines.Line2D at 0x25df2d9e0a0>]"
      ]
     },
     "execution_count": 184,
     "metadata": {},
     "output_type": "execute_result"
    },
    {
     "data": {
      "image/png": "[encoded data removed]",
      "text/plain": [
       "<Figure size 432x288 with 1 Axes>"
      ]
     },
     "metadata": {
      "needs_background": "light"
     },
     "output_type": "display_data"
    }
   ],
   "source": [
    "plt.plot(x,y,\"ob\",markersize=10,linestyle=\"-.\") #o는 모양 b는 blue색상 "
   ]
  },
  {
   "cell_type": "markdown",
   "metadata": {},
   "source": [
    "- #### wine_red.csv 활용"
   ]
  },
  {
   "cell_type": "code",
   "execution_count": 192,
   "metadata": {},
   "outputs": [
    {
     "name": "stdout",
     "output_type": "stream",
     "text": [
      "[[ 3.51  9.4   5.  ]\n",
      " [ 3.2   9.8   5.  ]\n",
      " [ 3.26  9.8   5.  ]\n",
      " [ 3.16  9.8   6.  ]\n",
      " [ 3.51  9.4   5.  ]\n",
      " [ 3.51  9.4   5.  ]\n",
      " [ 3.3   9.4   5.  ]\n",
      " [ 3.39 10.    7.  ]\n",
      " [ 3.36  9.5   7.  ]\n",
      " [ 3.35 10.5   5.  ]\n",
      " [ 3.28  9.2   5.  ]\n",
      " [ 3.35 10.5   5.  ]\n",
      " [ 3.58  9.9   5.  ]\n",
      " [ 3.26  9.1   5.  ]\n",
      " [ 3.16  9.2   5.  ]\n",
      " [ 3.17  9.2   5.  ]\n",
      " [ 3.3  10.5   7.  ]\n",
      " [ 3.11  9.3   5.  ]\n",
      " [ 3.38  9.    4.  ]\n",
      " [ 3.04  9.2   6.  ]\n",
      " [ 3.39  9.4   6.  ]\n",
      " [ 3.52  9.7   5.  ]\n",
      " [ 3.17  9.5   5.  ]\n",
      " [ 3.17  9.4   5.  ]\n",
      " [ 3.43  9.7   6.  ]\n",
      " [ 3.34  9.3   5.  ]\n",
      " [ 3.28  9.5   5.  ]\n",
      " [ 3.17  9.5   5.  ]\n",
      " [ 3.47  9.4   5.  ]\n",
      " [ 3.38  9.8   6.  ]\n",
      " [ 3.35 10.1   5.  ]\n",
      " [ 3.46 10.6   6.  ]\n",
      " [ 3.17  9.8   5.  ]\n",
      " [ 3.45  9.4   6.  ]\n",
      " [ 3.38  9.2   5.  ]\n",
      " [ 3.4   9.6   6.  ]\n",
      " [ 3.42 10.8   6.  ]\n",
      " [ 3.23  9.7   7.  ]\n",
      " [ 3.5   9.8   4.  ]\n",
      " [ 3.33 10.5   5.  ]\n",
      " [ 3.33 10.5   5.  ]\n",
      " [ 3.26  9.3   4.  ]\n",
      " [ 3.21 10.5   6.  ]\n",
      " [ 3.3  10.3   5.  ]\n",
      " [ 3.48  9.5   5.  ]\n",
      " [ 3.9  13.1   4.  ]\n",
      " [ 3.25  9.2   5.  ]\n",
      " [ 3.25  9.5   5.  ]\n",
      " [ 3.34  9.2   5.  ]\n",
      " [ 3.32  9.2   5.  ]\n",
      " [ 3.15  9.2   5.  ]\n",
      " [ 3.4   9.4   6.  ]\n",
      " [ 3.39  9.4   6.  ]\n",
      " [ 3.2   9.4   5.  ]\n",
      " [ 3.17 10.2   6.  ]\n",
      " [ 3.34  9.5   5.  ]\n",
      " [ 3.04  9.6   5.  ]\n",
      " [ 3.26  9.4   5.  ]\n",
      " [ 3.43 10.    5.  ]\n",
      " [ 3.41  9.4   6.  ]\n",
      " [ 3.44  9.2   5.  ]\n",
      " [ 3.21  9.3   5.  ]\n",
      " [ 3.38  9.5   7.  ]\n",
      " [ 3.39  9.8   5.  ]\n",
      " [ 3.41 10.9   5.  ]\n",
      " [ 3.41 10.9   5.  ]\n",
      " [ 3.42  9.6   5.  ]\n",
      " [ 3.44 10.7   5.  ]\n",
      " [ 3.28 10.7   5.  ]\n",
      " [ 3.34 10.5   6.  ]\n",
      " [ 3.32  9.5   6.  ]\n",
      " [ 3.32  9.5   5.  ]\n",
      " [ 3.31  9.5   5.  ]\n",
      " [ 3.31  9.2   4.  ]\n",
      " [ 3.28  9.6   5.  ]\n",
      " [ 3.54 10.5   5.  ]\n",
      " [ 3.54 10.5   5.  ]\n",
      " [ 3.52 10.7   6.  ]\n",
      " [ 3.38 10.1   5.  ]\n",
      " [ 3.16  9.1   4.  ]\n",
      " [ 3.41  9.2   5.  ]\n",
      " [ 3.13  9.4   5.  ]\n",
      " [ 3.36  9.1   5.  ]\n",
      " [ 3.16  9.4   5.  ]\n",
      " [ 3.44 10.3   6.  ]\n",
      " [ 3.41 10.1   5.  ]\n",
      " [ 2.93  9.9   6.  ]\n",
      " [ 3.39  9.6   5.  ]\n",
      " [ 3.14  9.5   5.  ]\n",
      " [ 3.48  9.    5.  ]\n",
      " [ 3.23  9.5   5.  ]\n",
      " [ 2.93  9.9   6.  ]\n",
      " [ 2.93  9.8   5.  ]\n",
      " [ 3.39  9.6   5.  ]\n",
      " [ 3.75 10.5   4.  ]\n",
      " [ 3.85 12.9   6.  ]\n",
      " [ 3.45 10.7   5.  ]\n",
      " [ 3.25  9.2   5.  ]\n",
      " [ 3.39  9.8   5.  ]\n",
      " [ 3.3   9.    6.  ]]\n"
     ]
    }
   ],
   "source": [
    "redwine = np.loadtxt(fname=\"wine_red.csv\",delimiter=\";\",skiprows=1)\n",
    "print(redwine)"
   ]
  },
  {
   "cell_type": "code",
   "execution_count": 193,
   "metadata": {},
   "outputs": [
    {
     "data": {
      "image/png": "[encoded data removed]",
      "text/plain": [
       "<Figure size 432x288 with 1 Axes>"
      ]
     },
     "metadata": {
      "needs_background": "light"
     },
     "output_type": "display_data"
    }
   ],
   "source": [
    "redwine_alc = redwine[:,1]\n",
    "plt.hist(redwine_alc,bins=5)\n",
    "plt.show()"
   ]
  },
  {
   "cell_type": "code",
   "execution_count": 188,
   "metadata": {},
   "outputs": [
    {
     "name": "stdout",
     "output_type": "stream",
     "text": [
      "[5. 5. 5. 6. 5. 5. 5. 7. 7. 5. 5. 5. 5. 5. 5. 5. 7. 5. 4. 6. 6. 5. 5. 5.\n",
      " 6. 5. 5. 5. 5. 6. 5. 6. 5. 6. 5. 6. 6. 7. 4. 5. 5. 4. 6. 5. 5. 4. 5. 5.\n",
      " 5. 5. 5. 6. 6. 5. 6. 5. 5. 5. 5. 6. 5. 5. 7. 5. 5. 5. 5. 5. 5. 6. 6. 5.\n",
      " 5. 4. 5. 5. 5. 6. 5. 4. 5. 5. 5. 5. 6. 5. 6. 5. 5. 5. 5. 6. 5. 5. 4. 6.\n",
      " 5. 5. 5. 6.]\n"
     ]
    }
   ],
   "source": [
    "redwine_qual = redwine[:,2]#전체 데이터 중 2번 column"
   ]
  }
 ],
 "metadata": {
  "kernelspec": {
   "display_name": "Python 3",
   "language": "python",
   "name": "python3"
  },
  "language_info": {
   "codemirror_mode": {
    "name": "ipython",
    "version": 3
   },
   "file_extension": ".py",
   "mimetype": "text/x-python",
   "name": "python",
   "nbconvert_exporter": "python",
   "pygments_lexer": "ipython3",
   "version": "3.8.8"
  }
 },
 "nbformat": 4,
 "nbformat_minor": 4
}
