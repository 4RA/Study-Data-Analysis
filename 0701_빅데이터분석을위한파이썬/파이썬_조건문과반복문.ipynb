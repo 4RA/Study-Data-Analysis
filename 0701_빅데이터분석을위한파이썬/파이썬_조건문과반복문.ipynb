{
 "cells": [
  {
   "cell_type": "markdown",
   "metadata": {},
   "source": [
    "## 조건문과 반복문"
   ]
  },
  {
   "cell_type": "markdown",
   "metadata": {},
   "source": [
    "### 조건문"
   ]
  },
  {
   "cell_type": "markdown",
   "metadata": {},
   "source": [
    "- #### if"
   ]
  },
  {
   "cell_type": "code",
   "execution_count": 3,
   "metadata": {},
   "outputs": [
    {
     "name": "stdout",
     "output_type": "stream",
     "text": [
      "true\n",
      "condition\n"
     ]
    }
   ],
   "source": [
    "if 5>=3 :\n",
    "    print(\"true\")\n",
    "print(\"condition\")"
   ]
  },
  {
   "cell_type": "markdown",
   "metadata": {},
   "source": [
    "- #### if - else"
   ]
  },
  {
   "cell_type": "code",
   "execution_count": 4,
   "metadata": {},
   "outputs": [
    {
     "name": "stdout",
     "output_type": "stream",
     "text": [
      "false\n"
     ]
    }
   ],
   "source": [
    "a = 1\n",
    "b = 3\n",
    "c = 5\n",
    "\n",
    "if a==1 and b ==2 : \n",
    "    print(\"true\") #거짓-> 출력x\n",
    "else :\n",
    "    print(\"false\")"
   ]
  },
  {
   "cell_type": "markdown",
   "metadata": {},
   "source": []
  },
  {
   "cell_type": "code",
   "execution_count": 5,
   "metadata": {},
   "outputs": [],
   "source": [
    "if  a==1 and b ==2 :\n",
    "    print(\"true\")"
   ]
  },
  {
   "cell_type": "code",
   "execution_count": 7,
   "metadata": {},
   "outputs": [
    {
     "name": "stdout",
     "output_type": "stream",
     "text": [
      "true\n"
     ]
    }
   ],
   "source": [
    "if a==1 or b==2:\n",
    "    print(\"true\")"
   ]
  },
  {
   "cell_type": "code",
   "execution_count": 11,
   "metadata": {},
   "outputs": [
    {
     "name": "stdout",
     "output_type": "stream",
     "text": [
      "a % 4 is 0\n"
     ]
    }
   ],
   "source": [
    "a=8\n",
    "\n",
    "if a%4 ==0:\n",
    "    print(\"a % 4 is 0\")\n",
    "elif a %4 ==1 :\n",
    "    print(\"a % 4 is 1\")\n",
    "elif a % 4 == 2:\n",
    "    print(\"a % 4 is 2\")\n",
    "else:\n",
    "    print(\"a % 4 is 3\")"
   ]
  },
  {
   "cell_type": "markdown",
   "metadata": {},
   "source": [
    "- #### 중첩 조건문"
   ]
  },
  {
   "cell_type": "code",
   "execution_count": 13,
   "metadata": {},
   "outputs": [
    {
     "name": "stdout",
     "output_type": "stream",
     "text": [
      "true false\n"
     ]
    }
   ],
   "source": [
    "a=10\n",
    "b=20\n",
    "\n",
    "if a ==10:\n",
    "    if b==5:\n",
    "        print(\"true ture\")\n",
    "    else : \n",
    "        print(\"true false\")\n",
    "        \n"
   ]
  },
  {
   "cell_type": "markdown",
   "metadata": {},
   "source": [
    "### 반복문_while"
   ]
  },
  {
   "cell_type": "markdown",
   "metadata": {},
   "source": [
    "- #### while"
   ]
  },
  {
   "cell_type": "code",
   "execution_count": 15,
   "metadata": {},
   "outputs": [
    {
     "name": "stdout",
     "output_type": "stream",
     "text": [
      "1\n",
      "3\n",
      "9\n",
      "5\n"
     ]
    }
   ],
   "source": [
    "a =[1,3,9,5]\n",
    "\n",
    "i =0 #인덱스 \n",
    "while i< len(a):\n",
    "    \n",
    "    print(a[i])\n",
    "    i=i+1"
   ]
  },
  {
   "cell_type": "markdown",
   "metadata": {},
   "source": [
    "- #### 무한루프"
   ]
  },
  {
   "cell_type": "code",
   "execution_count": 16,
   "metadata": {},
   "outputs": [
    {
     "name": "stdout",
     "output_type": "stream",
     "text": [
      "1\n",
      "3\n",
      "index: 2 value: 9\n",
      "9\n",
      "5\n"
     ]
    }
   ],
   "source": [
    "a =[1,3,9,5]\n",
    "\n",
    "i =0 #인덱스 \n",
    "while i< len(a):\n",
    "    if a[i] > 5: \n",
    "        print(\"index:\",i,\"value:\",a[i])\n",
    "    print(a[i])\n",
    "    i=i+1"
   ]
  },
  {
   "cell_type": "markdown",
   "metadata": {},
   "source": [
    "- #### break"
   ]
  },
  {
   "cell_type": "code",
   "execution_count": null,
   "metadata": {},
   "outputs": [],
   "source": [
    "a =[1,3,9,5]\n",
    "\n",
    "i =0 #인덱스 \n",
    "while i< len(a):\n",
    "    if a[i]>5:\n",
    "        break\n",
    "    print(\"index:\",i,\"value:\",a[i])\n",
    "    i=i+1"
   ]
  },
  {
   "cell_type": "markdown",
   "metadata": {},
   "source": [
    "### 반복문_for"
   ]
  },
  {
   "cell_type": "markdown",
   "metadata": {},
   "source": [
    "- #### for"
   ]
  },
  {
   "cell_type": "code",
   "execution_count": 20,
   "metadata": {},
   "outputs": [
    {
     "name": "stdout",
     "output_type": "stream",
     "text": [
      "1\n",
      "3\n",
      "9\n",
      "6\n",
      "index: 0 1\n",
      "index: 1 3\n",
      "index: 2 9\n",
      "index: 3 6\n",
      "end\n"
     ]
    }
   ],
   "source": [
    "a=[1,3,9,6]\n",
    "#a에 있는 것을  하나씩 i의 임시 변수에 넣어주고 이를 출력 \n",
    "for i in a:\n",
    "    print(i)\n",
    "    \n",
    "    \n",
    "for index, num in enumerate(a):\n",
    "    print(\"index:\",index,num)\n",
    "    \n",
    "print(\"end\")"
   ]
  },
  {
   "cell_type": "code",
   "execution_count": 23,
   "metadata": {},
   "outputs": [
    {
     "name": "stdout",
     "output_type": "stream",
     "text": [
      "apple\n",
      "banana\n",
      "Carrot\n",
      "A apple\n",
      "B banana\n",
      "C Carrot\n"
     ]
    }
   ],
   "source": [
    "a={\"A\":\"apple\",\"B\":\"banana\",\"C\":\"Carrot\"}\n",
    "\n",
    "for   value in a.values():\n",
    "    print(value)\n",
    "    \n",
    "for key,value in a.items():\n",
    "    print(key,value)"
   ]
  },
  {
   "cell_type": "markdown",
   "metadata": {},
   "source": [
    "- #### break"
   ]
  },
  {
   "cell_type": "code",
   "execution_count": 26,
   "metadata": {},
   "outputs": [
    {
     "name": "stdout",
     "output_type": "stream",
     "text": [
      "1\n",
      "3\n",
      "end\n"
     ]
    }
   ],
   "source": [
    "a=[1,3,9,5]\n",
    "\n",
    "for num in a:\n",
    "    if num>5:\n",
    "        break\n",
    "    print(num)\n",
    "    \n",
    "print(\"end\")"
   ]
  },
  {
   "cell_type": "markdown",
   "metadata": {},
   "source": [
    "- #### 중첩"
   ]
  },
  {
   "cell_type": "code",
   "execution_count": 30,
   "metadata": {},
   "outputs": [
    {
     "name": "stdout",
     "output_type": "stream",
     "text": [
      "1 * 1 = 1\n",
      "1 * 3 = 3\n",
      "1 * 9 = 9\n",
      "1 * 5 = 5\n",
      "3 * 1 = 3\n",
      "3 * 3 = 9\n",
      "3 * 9 = 27\n",
      "3 * 5 = 15\n",
      "9 * 1 = 9\n",
      "9 * 3 = 27\n",
      "9 * 9 = 81\n",
      "9 * 5 = 45\n",
      "5 * 1 = 5\n",
      "5 * 3 = 15\n",
      "5 * 9 = 45\n",
      "5 * 5 = 25\n",
      "end\n"
     ]
    }
   ],
   "source": [
    "a=[1,3,9,5]\n",
    "\n",
    "for i in a:\n",
    "    for j in a:\n",
    "        print(i,\"*\",j,\"=\",i*j)\n",
    "        \n",
    "print(\"end\")"
   ]
  },
  {
   "cell_type": "markdown",
   "metadata": {},
   "source": [
    "### 내장함수"
   ]
  },
  {
   "cell_type": "markdown",
   "metadata": {},
   "source": [
    "- #### range"
   ]
  },
  {
   "cell_type": "code",
   "execution_count": 35,
   "metadata": {},
   "outputs": [
    {
     "name": "stdout",
     "output_type": "stream",
     "text": [
      "4\n",
      "<class 'list'>\n"
     ]
    },
    {
     "data": {
      "text/plain": [
       "[1, 2, 3, 4, 5, 6, 7, 8, 9, 10]"
      ]
     },
     "execution_count": 35,
     "metadata": {},
     "output_type": "execute_result"
    }
   ],
   "source": [
    "a=[1,3,9,5]\n",
    "print(len(a))\n",
    "print(type(a))\n",
    "list(range(10))\n",
    "list(range(1,11))"
   ]
  },
  {
   "cell_type": "markdown",
   "metadata": {},
   "source": [
    "### <연습문제>"
   ]
  },
  {
   "cell_type": "markdown",
   "metadata": {},
   "source": [
    "- #### 구구단을 2 - 9단까지 출력하세요. "
   ]
  },
  {
   "cell_type": "code",
   "execution_count": 38,
   "metadata": {},
   "outputs": [
    {
     "name": "stdout",
     "output_type": "stream",
     "text": [
      "===== 2 단======\n",
      "2 * 1 = 2\n",
      "2 * 2 = 4\n",
      "2 * 3 = 6\n",
      "2 * 4 = 8\n",
      "2 * 5 = 10\n",
      "2 * 6 = 12\n",
      "2 * 7 = 14\n",
      "2 * 8 = 16\n",
      "2 * 9 = 18\n",
      "===== 3 단======\n",
      "3 * 1 = 3\n",
      "3 * 2 = 6\n",
      "3 * 3 = 9\n",
      "3 * 4 = 12\n",
      "3 * 5 = 15\n",
      "3 * 6 = 18\n",
      "3 * 7 = 21\n",
      "3 * 8 = 24\n",
      "3 * 9 = 27\n",
      "===== 4 단======\n",
      "4 * 1 = 4\n",
      "4 * 2 = 8\n",
      "4 * 3 = 12\n",
      "4 * 4 = 16\n",
      "4 * 5 = 20\n",
      "4 * 6 = 24\n",
      "4 * 7 = 28\n",
      "4 * 8 = 32\n",
      "4 * 9 = 36\n",
      "===== 5 단======\n",
      "5 * 1 = 5\n",
      "5 * 2 = 10\n",
      "5 * 3 = 15\n",
      "5 * 4 = 20\n",
      "5 * 5 = 25\n",
      "5 * 6 = 30\n",
      "5 * 7 = 35\n",
      "5 * 8 = 40\n",
      "5 * 9 = 45\n",
      "===== 6 단======\n",
      "6 * 1 = 6\n",
      "6 * 2 = 12\n",
      "6 * 3 = 18\n",
      "6 * 4 = 24\n",
      "6 * 5 = 30\n",
      "6 * 6 = 36\n",
      "6 * 7 = 42\n",
      "6 * 8 = 48\n",
      "6 * 9 = 54\n",
      "===== 7 단======\n",
      "7 * 1 = 7\n",
      "7 * 2 = 14\n",
      "7 * 3 = 21\n",
      "7 * 4 = 28\n",
      "7 * 5 = 35\n",
      "7 * 6 = 42\n",
      "7 * 7 = 49\n",
      "7 * 8 = 56\n",
      "7 * 9 = 63\n",
      "===== 8 단======\n",
      "8 * 1 = 8\n",
      "8 * 2 = 16\n",
      "8 * 3 = 24\n",
      "8 * 4 = 32\n",
      "8 * 5 = 40\n",
      "8 * 6 = 48\n",
      "8 * 7 = 56\n",
      "8 * 8 = 64\n",
      "8 * 9 = 72\n",
      "===== 9 단======\n",
      "9 * 1 = 9\n",
      "9 * 2 = 18\n",
      "9 * 3 = 27\n",
      "9 * 4 = 36\n",
      "9 * 5 = 45\n",
      "9 * 6 = 54\n",
      "9 * 7 = 63\n",
      "9 * 8 = 72\n",
      "9 * 9 = 81\n"
     ]
    }
   ],
   "source": [
    "a=[1,2,3,4,5,6,7,8,9]\n",
    "b=[2,3,4,5,6,7,8,9]\n",
    "\n",
    "for i in b:\n",
    "    print(\"=====\",i,\"단======\")\n",
    "    for j in a:\n",
    "        print(i,\"*\",j,\"=\",i*j)"
   ]
  },
  {
   "cell_type": "markdown",
   "metadata": {},
   "source": [
    "- #### 1 - 100 까지 정수 중 3의 배수 또는 7의 배수를 모두 출력하세요."
   ]
  },
  {
   "cell_type": "code",
   "execution_count": 41,
   "metadata": {},
   "outputs": [
    {
     "name": "stdout",
     "output_type": "stream",
     "text": [
      "0\n",
      "3\n",
      "6\n",
      "7\n",
      "9\n",
      "12\n",
      "14\n",
      "15\n",
      "18\n",
      "21\n",
      "24\n",
      "27\n",
      "28\n",
      "30\n",
      "33\n",
      "35\n",
      "36\n",
      "39\n",
      "42\n",
      "45\n",
      "48\n",
      "49\n",
      "51\n",
      "54\n",
      "56\n",
      "57\n",
      "60\n",
      "63\n",
      "66\n",
      "69\n",
      "70\n",
      "72\n",
      "75\n",
      "77\n",
      "78\n",
      "81\n",
      "84\n",
      "87\n",
      "90\n",
      "91\n",
      "93\n",
      "96\n",
      "98\n",
      "99\n"
     ]
    }
   ],
   "source": [
    "for i in range(100):\n",
    "    if i %3 ==0: \n",
    "        print(i)\n",
    "    elif i%7 ==0: \n",
    "        print(i)\n",
    "\n",
    "    "
   ]
  },
  {
   "cell_type": "markdown",
   "metadata": {},
   "source": [
    "- #### a = [3, 25, 34, 87, 55, 49, 7, 97, 63, 28] 에서 최대값, 최소값, 평균을 구하세요. "
   ]
  },
  {
   "cell_type": "code",
   "execution_count": 49,
   "metadata": {},
   "outputs": [
    {
     "name": "stdout",
     "output_type": "stream",
     "text": [
      "최댓값: 97 최소값: 3 평균값: 44.8\n"
     ]
    }
   ],
   "source": [
    "a=[3,25,34,87,55,49,7,97,63,28]\n",
    "\n",
    "max = a[0]\n",
    "min =  a[0]\n",
    "sum=0\n",
    "for i in a:\n",
    "    sum =  sum+i\n",
    "    if i > max: max =i\n",
    "    if i < min: min  =i\n",
    "\n",
    "ave = sum/len(a)\n",
    "\n",
    "print(\"최댓값:\",max,\"최소값:\",min,\"평균값:\",ave)"
   ]
  }
 ],
 "metadata": {
  "kernelspec": {
   "display_name": "Python 3",
   "language": "python",
   "name": "python3"
  },
  "language_info": {
   "codemirror_mode": {
    "name": "ipython",
    "version": 3
   },
   "file_extension": ".py",
   "mimetype": "text/x-python",
   "name": "python",
   "nbconvert_exporter": "python",
   "pygments_lexer": "ipython3",
   "version": "3.8.8"
  }
 },
 "nbformat": 4,
 "nbformat_minor": 4
}
